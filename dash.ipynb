{
  "cells": [
    {
      "cell_type": "markdown",
      "metadata": {
        "id": "DciIYYXE18ip"
      },
      "source": [
        "# Importar as Bibliotecas"
      ]
    },
    {
      "cell_type": "code",
      "execution_count": 1,
      "metadata": {
        "id": "teYEKCW3jxq-"
      },
      "outputs": [
        {
          "name": "stdout",
          "output_type": "stream",
          "text": [
            "Note: you may need to restart the kernel to use updated packages.\n"
          ]
        }
      ],
      "source": [
        "%pip install pandas matplotlib folium plotly dash openpyxl nbformat>=4.2.0 ipython\n",
        "\n",
        "import pandas as pd\n",
        "import matplotlib.pyplot as plt\n",
        "import folium\n",
        "import plotly.graph_objects as go"
      ]
    },
    {
      "cell_type": "markdown",
      "metadata": {
        "id": "mCuaUL932DCH"
      },
      "source": [
        "# Elaboração de mapa para observar situação dos núcleos quanto à membresia"
      ]
    },
    {
      "cell_type": "code",
      "execution_count": 2,
      "metadata": {
        "id": "mvkjTGZnj2I2"
      },
      "outputs": [],
      "source": [
        "# Carregar a planilha fornecida\n",
        "file_path = 'content/Planilha Dashboard.xlsx'\n",
        "df = pd.read_excel(file_path, sheet_name='Situação dos Núcleos')\n",
        "\n",
        "# Substituir vírgulas por pontos e converter para float\n",
        "df['LATITUDE'] = df['LATITUDE'].astype(str).str.replace(',', '.').astype(float)\n",
        "df['LONGITUDE'] = df['LONGITUDE'].astype(str).str.replace(',', '.').astype(float)\n",
        "\n",
        "# Remover linhas com valores inválidos de latitude e longitude\n",
        "df = df.dropna(subset=['LATITUDE', 'LONGITUDE'])"
      ]
    },
    {
      "cell_type": "code",
      "execution_count": 3,
      "metadata": {
        "colab": {
          "base_uri": "https://localhost:8080/",
          "height": 781
        },
        "id": "DCS6BxRWj3LC",
        "outputId": "9ced6208-a726-4847-8a1e-d76ec59823b7"
      },
      "outputs": [
        {
          "data": {
            "text/html": [
              "<div style=\"width:100%;\"><div style=\"position:relative;width:100%;height:0;padding-bottom:60%;\"><span style=\"color:#565656\">Make this Notebook Trusted to load map: File -> Trust Notebook</span><iframe srcdoc=\"&lt;!DOCTYPE html&gt;\n",
              "&lt;html&gt;\n",
              "&lt;head&gt;\n",
              "    \n",
              "    &lt;meta http-equiv=&quot;content-type&quot; content=&quot;text/html; charset=UTF-8&quot; /&gt;\n",
              "    \n",
              "        &lt;script&gt;\n",
              "            L_NO_TOUCH = false;\n",
              "            L_DISABLE_3D = false;\n",
              "        &lt;/script&gt;\n",
              "    \n",
              "    &lt;style&gt;html, body {width: 100%;height: 100%;margin: 0;padding: 0;}&lt;/style&gt;\n",
              "    &lt;style&gt;#map {position:absolute;top:0;bottom:0;right:0;left:0;}&lt;/style&gt;\n",
              "    &lt;script src=&quot;https://cdn.jsdelivr.net/npm/leaflet@1.9.3/dist/leaflet.js&quot;&gt;&lt;/script&gt;\n",
              "    &lt;script src=&quot;https://code.jquery.com/jquery-3.7.1.min.js&quot;&gt;&lt;/script&gt;\n",
              "    &lt;script src=&quot;https://cdn.jsdelivr.net/npm/bootstrap@5.2.2/dist/js/bootstrap.bundle.min.js&quot;&gt;&lt;/script&gt;\n",
              "    &lt;script src=&quot;https://cdnjs.cloudflare.com/ajax/libs/Leaflet.awesome-markers/2.0.2/leaflet.awesome-markers.js&quot;&gt;&lt;/script&gt;\n",
              "    &lt;link rel=&quot;stylesheet&quot; href=&quot;https://cdn.jsdelivr.net/npm/leaflet@1.9.3/dist/leaflet.css&quot;/&gt;\n",
              "    &lt;link rel=&quot;stylesheet&quot; href=&quot;https://cdn.jsdelivr.net/npm/bootstrap@5.2.2/dist/css/bootstrap.min.css&quot;/&gt;\n",
              "    &lt;link rel=&quot;stylesheet&quot; href=&quot;https://netdna.bootstrapcdn.com/bootstrap/3.0.0/css/bootstrap-glyphicons.css&quot;/&gt;\n",
              "    &lt;link rel=&quot;stylesheet&quot; href=&quot;https://cdn.jsdelivr.net/npm/@fortawesome/fontawesome-free@6.2.0/css/all.min.css&quot;/&gt;\n",
              "    &lt;link rel=&quot;stylesheet&quot; href=&quot;https://cdnjs.cloudflare.com/ajax/libs/Leaflet.awesome-markers/2.0.2/leaflet.awesome-markers.css&quot;/&gt;\n",
              "    &lt;link rel=&quot;stylesheet&quot; href=&quot;https://cdn.jsdelivr.net/gh/python-visualization/folium/folium/templates/leaflet.awesome.rotate.min.css&quot;/&gt;\n",
              "    \n",
              "            &lt;meta name=&quot;viewport&quot; content=&quot;width=device-width,\n",
              "                initial-scale=1.0, maximum-scale=1.0, user-scalable=no&quot; /&gt;\n",
              "            &lt;style&gt;\n",
              "                #map_7dd9d8ca2102085c482ee5b33e462208 {\n",
              "                    position: relative;\n",
              "                    width: 100.0%;\n",
              "                    height: 100.0%;\n",
              "                    left: 0.0%;\n",
              "                    top: 0.0%;\n",
              "                }\n",
              "                .leaflet-container { font-size: 1rem; }\n",
              "            &lt;/style&gt;\n",
              "        \n",
              "&lt;/head&gt;\n",
              "&lt;body&gt;\n",
              "    \n",
              "    \n",
              "&lt;div style=&quot;position: fixed;\n",
              "     bottom: 50px; left: 50px; width: 150px; height: 150px;\n",
              "     background-color: white; border:2px solid grey; z-index:9999; font-size:14px;\n",
              "     &quot;&gt;\n",
              "     &lt;b&gt;Legenda&lt;/b&gt;&lt;br&gt;\n",
              "     &lt;i class=&quot;fa fa-map-marker fa-2x&quot; style=&quot;color:green&quot;&gt;&lt;/i&gt; PAGO&lt;br&gt;\n",
              "     &lt;i class=&quot;fa fa-map-marker fa-2x&quot; style=&quot;color:red&quot;&gt;&lt;/i&gt; ATRASADO&lt;br&gt;\n",
              "     &lt;i class=&quot;fa fa-map-marker fa-2x&quot; style=&quot;color:orange&quot;&gt;&lt;/i&gt; DIVERGÊNCIA&lt;br&gt;\n",
              "     &lt;i class=&quot;fa fa-map-marker fa-2x&quot; style=&quot;color:blue&quot;&gt;&lt;/i&gt; OUTROS\n",
              "&lt;/div&gt;\n",
              "    \n",
              "            &lt;div class=&quot;folium-map&quot; id=&quot;map_7dd9d8ca2102085c482ee5b33e462208&quot; &gt;&lt;/div&gt;\n",
              "        \n",
              "&lt;/body&gt;\n",
              "&lt;script&gt;\n",
              "    \n",
              "    \n",
              "            var map_7dd9d8ca2102085c482ee5b33e462208 = L.map(\n",
              "                &quot;map_7dd9d8ca2102085c482ee5b33e462208&quot;,\n",
              "                {\n",
              "                    center: [-15.0, -47.0],\n",
              "                    crs: L.CRS.EPSG3857,\n",
              "                    zoom: 4,\n",
              "                    zoomControl: true,\n",
              "                    preferCanvas: false,\n",
              "                }\n",
              "            );\n",
              "\n",
              "            \n",
              "\n",
              "        \n",
              "    \n",
              "            var tile_layer_f5886d3d885153e619ca65bfcabdd79a = L.tileLayer(\n",
              "                &quot;https://tile.openstreetmap.org/{z}/{x}/{y}.png&quot;,\n",
              "                {&quot;attribution&quot;: &quot;\\u0026copy; \\u003ca href=\\&quot;https://www.openstreetmap.org/copyright\\&quot;\\u003eOpenStreetMap\\u003c/a\\u003e contributors&quot;, &quot;detectRetina&quot;: false, &quot;maxNativeZoom&quot;: 19, &quot;maxZoom&quot;: 19, &quot;minZoom&quot;: 0, &quot;noWrap&quot;: false, &quot;opacity&quot;: 1, &quot;subdomains&quot;: &quot;abc&quot;, &quot;tms&quot;: false}\n",
              "            );\n",
              "        \n",
              "    \n",
              "            tile_layer_f5886d3d885153e619ca65bfcabdd79a.addTo(map_7dd9d8ca2102085c482ee5b33e462208);\n",
              "        \n",
              "    \n",
              "            var marker_be72c47f6acc1c4f3d199a82cb5b4244 = L.marker(\n",
              "                [-23.666, -46.5416],\n",
              "                {}\n",
              "            ).addTo(map_7dd9d8ca2102085c482ee5b33e462208);\n",
              "        \n",
              "    \n",
              "            var icon_474cdf536074158c9294f0c477f2b06a = L.AwesomeMarkers.icon(\n",
              "                {&quot;extraClasses&quot;: &quot;fa-rotate-0&quot;, &quot;icon&quot;: &quot;info-sign&quot;, &quot;iconColor&quot;: &quot;white&quot;, &quot;markerColor&quot;: &quot;orange&quot;, &quot;prefix&quot;: &quot;glyphicon&quot;}\n",
              "            );\n",
              "            marker_be72c47f6acc1c4f3d199a82cb5b4244.setIcon(icon_474cdf536074158c9294f0c477f2b06a);\n",
              "        \n",
              "    \n",
              "        var popup_ac34b0ee4ea95867b3a791e6179bf732 = L.popup({&quot;maxWidth&quot;: &quot;100%&quot;});\n",
              "\n",
              "        \n",
              "            \n",
              "                var html_6fa26c79b2d6d9c0255042643f477641 = $(`&lt;div id=&quot;html_6fa26c79b2d6d9c0255042643f477641&quot; style=&quot;width: 100.0%; height: 100.0%;&quot;&gt;ABC&lt;/div&gt;`)[0];\n",
              "                popup_ac34b0ee4ea95867b3a791e6179bf732.setContent(html_6fa26c79b2d6d9c0255042643f477641);\n",
              "            \n",
              "        \n",
              "\n",
              "        marker_be72c47f6acc1c4f3d199a82cb5b4244.bindPopup(popup_ac34b0ee4ea95867b3a791e6179bf732)\n",
              "        ;\n",
              "\n",
              "        \n",
              "    \n",
              "    \n",
              "            var marker_b5f72d8840bf034c464518a9bf018745 = L.marker(\n",
              "                [-10.9167, -37.05],\n",
              "                {}\n",
              "            ).addTo(map_7dd9d8ca2102085c482ee5b33e462208);\n",
              "        \n",
              "    \n",
              "            var icon_df3bcf230ec8cd4812e61afe4325cc92 = L.AwesomeMarkers.icon(\n",
              "                {&quot;extraClasses&quot;: &quot;fa-rotate-0&quot;, &quot;icon&quot;: &quot;info-sign&quot;, &quot;iconColor&quot;: &quot;white&quot;, &quot;markerColor&quot;: &quot;blue&quot;, &quot;prefix&quot;: &quot;glyphicon&quot;}\n",
              "            );\n",
              "            marker_b5f72d8840bf034c464518a9bf018745.setIcon(icon_df3bcf230ec8cd4812e61afe4325cc92);\n",
              "        \n",
              "    \n",
              "        var popup_4324e707044e71fa403cb5e40b75c083 = L.popup({&quot;maxWidth&quot;: &quot;100%&quot;});\n",
              "\n",
              "        \n",
              "            \n",
              "                var html_9926f2e18731dfd05cebe5f35e16f332 = $(`&lt;div id=&quot;html_9926f2e18731dfd05cebe5f35e16f332&quot; style=&quot;width: 100.0%; height: 100.0%;&quot;&gt;Aracaju&lt;/div&gt;`)[0];\n",
              "                popup_4324e707044e71fa403cb5e40b75c083.setContent(html_9926f2e18731dfd05cebe5f35e16f332);\n",
              "            \n",
              "        \n",
              "\n",
              "        marker_b5f72d8840bf034c464518a9bf018745.bindPopup(popup_4324e707044e71fa403cb5e40b75c083)\n",
              "        ;\n",
              "\n",
              "        \n",
              "    \n",
              "    \n",
              "            var marker_2ab69d92ef6c011d0c60dad3f15b62ec = L.marker(\n",
              "                [-22.3569, -47.3839],\n",
              "                {}\n",
              "            ).addTo(map_7dd9d8ca2102085c482ee5b33e462208);\n",
              "        \n",
              "    \n",
              "            var icon_a74d5e4c70997187bb2514f9a1695ac4 = L.AwesomeMarkers.icon(\n",
              "                {&quot;extraClasses&quot;: &quot;fa-rotate-0&quot;, &quot;icon&quot;: &quot;info-sign&quot;, &quot;iconColor&quot;: &quot;white&quot;, &quot;markerColor&quot;: &quot;red&quot;, &quot;prefix&quot;: &quot;glyphicon&quot;}\n",
              "            );\n",
              "            marker_2ab69d92ef6c011d0c60dad3f15b62ec.setIcon(icon_a74d5e4c70997187bb2514f9a1695ac4);\n",
              "        \n",
              "    \n",
              "        var popup_ef8fc5981c002a5981d5135cec0aa3c7 = L.popup({&quot;maxWidth&quot;: &quot;100%&quot;});\n",
              "\n",
              "        \n",
              "            \n",
              "                var html_580877c315998d47e3787fe3891ff94f = $(`&lt;div id=&quot;html_580877c315998d47e3787fe3891ff94f&quot; style=&quot;width: 100.0%; height: 100.0%;&quot;&gt;Araras&lt;/div&gt;`)[0];\n",
              "                popup_ef8fc5981c002a5981d5135cec0aa3c7.setContent(html_580877c315998d47e3787fe3891ff94f);\n",
              "            \n",
              "        \n",
              "\n",
              "        marker_2ab69d92ef6c011d0c60dad3f15b62ec.bindPopup(popup_ef8fc5981c002a5981d5135cec0aa3c7)\n",
              "        ;\n",
              "\n",
              "        \n",
              "    \n",
              "    \n",
              "            var marker_a46c985bb5d994bd564ec8e9dc7bcc1b = L.marker(\n",
              "                [-1.4558, -48.5039],\n",
              "                {}\n",
              "            ).addTo(map_7dd9d8ca2102085c482ee5b33e462208);\n",
              "        \n",
              "    \n",
              "            var icon_839411848844581b8840acf8c8bb020f = L.AwesomeMarkers.icon(\n",
              "                {&quot;extraClasses&quot;: &quot;fa-rotate-0&quot;, &quot;icon&quot;: &quot;info-sign&quot;, &quot;iconColor&quot;: &quot;white&quot;, &quot;markerColor&quot;: &quot;red&quot;, &quot;prefix&quot;: &quot;glyphicon&quot;}\n",
              "            );\n",
              "            marker_a46c985bb5d994bd564ec8e9dc7bcc1b.setIcon(icon_839411848844581b8840acf8c8bb020f);\n",
              "        \n",
              "    \n",
              "        var popup_457e6d53b76754ed2b46bf7536a18d92 = L.popup({&quot;maxWidth&quot;: &quot;100%&quot;});\n",
              "\n",
              "        \n",
              "            \n",
              "                var html_065fa597ef15713813fdc6be9ff2ac02 = $(`&lt;div id=&quot;html_065fa597ef15713813fdc6be9ff2ac02&quot; style=&quot;width: 100.0%; height: 100.0%;&quot;&gt;Belém&lt;/div&gt;`)[0];\n",
              "                popup_457e6d53b76754ed2b46bf7536a18d92.setContent(html_065fa597ef15713813fdc6be9ff2ac02);\n",
              "            \n",
              "        \n",
              "\n",
              "        marker_a46c985bb5d994bd564ec8e9dc7bcc1b.bindPopup(popup_457e6d53b76754ed2b46bf7536a18d92)\n",
              "        ;\n",
              "\n",
              "        \n",
              "    \n",
              "    \n",
              "            var marker_80f2188bf531921d074be8bb7749244f = L.marker(\n",
              "                [-19.9281, -43.9419],\n",
              "                {}\n",
              "            ).addTo(map_7dd9d8ca2102085c482ee5b33e462208);\n",
              "        \n",
              "    \n",
              "            var icon_3ad5102a89b7a0721dd9aef8fd7e72e7 = L.AwesomeMarkers.icon(\n",
              "                {&quot;extraClasses&quot;: &quot;fa-rotate-0&quot;, &quot;icon&quot;: &quot;info-sign&quot;, &quot;iconColor&quot;: &quot;white&quot;, &quot;markerColor&quot;: &quot;red&quot;, &quot;prefix&quot;: &quot;glyphicon&quot;}\n",
              "            );\n",
              "            marker_80f2188bf531921d074be8bb7749244f.setIcon(icon_3ad5102a89b7a0721dd9aef8fd7e72e7);\n",
              "        \n",
              "    \n",
              "        var popup_e4320051fc7f110f016e9448648f348a = L.popup({&quot;maxWidth&quot;: &quot;100%&quot;});\n",
              "\n",
              "        \n",
              "            \n",
              "                var html_404d8dcb37bf4186a917a669a0f37ff6 = $(`&lt;div id=&quot;html_404d8dcb37bf4186a917a669a0f37ff6&quot; style=&quot;width: 100.0%; height: 100.0%;&quot;&gt;Belo Horizonte&lt;/div&gt;`)[0];\n",
              "                popup_e4320051fc7f110f016e9448648f348a.setContent(html_404d8dcb37bf4186a917a669a0f37ff6);\n",
              "            \n",
              "        \n",
              "\n",
              "        marker_80f2188bf531921d074be8bb7749244f.bindPopup(popup_e4320051fc7f110f016e9448648f348a)\n",
              "        ;\n",
              "\n",
              "        \n",
              "    \n",
              "    \n",
              "            var marker_0e30fa8c2864b9f88fd5daf92dd0c5c8 = L.marker(\n",
              "                [-7.2306, -35.8811],\n",
              "                {}\n",
              "            ).addTo(map_7dd9d8ca2102085c482ee5b33e462208);\n",
              "        \n",
              "    \n",
              "            var icon_930a3dd170caf67aebd377e1405967b1 = L.AwesomeMarkers.icon(\n",
              "                {&quot;extraClasses&quot;: &quot;fa-rotate-0&quot;, &quot;icon&quot;: &quot;info-sign&quot;, &quot;iconColor&quot;: &quot;white&quot;, &quot;markerColor&quot;: &quot;green&quot;, &quot;prefix&quot;: &quot;glyphicon&quot;}\n",
              "            );\n",
              "            marker_0e30fa8c2864b9f88fd5daf92dd0c5c8.setIcon(icon_930a3dd170caf67aebd377e1405967b1);\n",
              "        \n",
              "    \n",
              "        var popup_e9bc8c60afbfc2788505dd3654f41df9 = L.popup({&quot;maxWidth&quot;: &quot;100%&quot;});\n",
              "\n",
              "        \n",
              "            \n",
              "                var html_8120f7a6ffdc7d5642291e06c1db6a47 = $(`&lt;div id=&quot;html_8120f7a6ffdc7d5642291e06c1db6a47&quot; style=&quot;width: 100.0%; height: 100.0%;&quot;&gt;Campina Grande&lt;/div&gt;`)[0];\n",
              "                popup_e9bc8c60afbfc2788505dd3654f41df9.setContent(html_8120f7a6ffdc7d5642291e06c1db6a47);\n",
              "            \n",
              "        \n",
              "\n",
              "        marker_0e30fa8c2864b9f88fd5daf92dd0c5c8.bindPopup(popup_e9bc8c60afbfc2788505dd3654f41df9)\n",
              "        ;\n",
              "\n",
              "        \n",
              "    \n",
              "    \n",
              "            var marker_f0f9fe78deb5415d462e9bcdce31c4c2 = L.marker(\n",
              "                [-5.1778, -40.6778],\n",
              "                {}\n",
              "            ).addTo(map_7dd9d8ca2102085c482ee5b33e462208);\n",
              "        \n",
              "    \n",
              "            var icon_9ffbbfe5c4a1051d547c86b93cabe09d = L.AwesomeMarkers.icon(\n",
              "                {&quot;extraClasses&quot;: &quot;fa-rotate-0&quot;, &quot;icon&quot;: &quot;info-sign&quot;, &quot;iconColor&quot;: &quot;white&quot;, &quot;markerColor&quot;: &quot;green&quot;, &quot;prefix&quot;: &quot;glyphicon&quot;}\n",
              "            );\n",
              "            marker_f0f9fe78deb5415d462e9bcdce31c4c2.setIcon(icon_9ffbbfe5c4a1051d547c86b93cabe09d);\n",
              "        \n",
              "    \n",
              "        var popup_0236f24c1f8bcd877eaedbb85fadae49 = L.popup({&quot;maxWidth&quot;: &quot;100%&quot;});\n",
              "\n",
              "        \n",
              "            \n",
              "                var html_c2d659210200c630bd865d20755c6497 = $(`&lt;div id=&quot;html_c2d659210200c630bd865d20755c6497&quot; style=&quot;width: 100.0%; height: 100.0%;&quot;&gt;Crateús&lt;/div&gt;`)[0];\n",
              "                popup_0236f24c1f8bcd877eaedbb85fadae49.setContent(html_c2d659210200c630bd865d20755c6497);\n",
              "            \n",
              "        \n",
              "\n",
              "        marker_f0f9fe78deb5415d462e9bcdce31c4c2.bindPopup(popup_0236f24c1f8bcd877eaedbb85fadae49)\n",
              "        ;\n",
              "\n",
              "        \n",
              "    \n",
              "    \n",
              "            var marker_8046140bcffe59c7769f5fdb47d36bbc = L.marker(\n",
              "                [-15.5958, -56.0969],\n",
              "                {}\n",
              "            ).addTo(map_7dd9d8ca2102085c482ee5b33e462208);\n",
              "        \n",
              "    \n",
              "            var icon_ed152811f7de21ef55244253b56565c5 = L.AwesomeMarkers.icon(\n",
              "                {&quot;extraClasses&quot;: &quot;fa-rotate-0&quot;, &quot;icon&quot;: &quot;info-sign&quot;, &quot;iconColor&quot;: &quot;white&quot;, &quot;markerColor&quot;: &quot;red&quot;, &quot;prefix&quot;: &quot;glyphicon&quot;}\n",
              "            );\n",
              "            marker_8046140bcffe59c7769f5fdb47d36bbc.setIcon(icon_ed152811f7de21ef55244253b56565c5);\n",
              "        \n",
              "    \n",
              "        var popup_7ffa5a4b3f5eefe48dbbdc77a1985f36 = L.popup({&quot;maxWidth&quot;: &quot;100%&quot;});\n",
              "\n",
              "        \n",
              "            \n",
              "                var html_dc59893c41124919c724802a13751f68 = $(`&lt;div id=&quot;html_dc59893c41124919c724802a13751f68&quot; style=&quot;width: 100.0%; height: 100.0%;&quot;&gt;Cuiabá&lt;/div&gt;`)[0];\n",
              "                popup_7ffa5a4b3f5eefe48dbbdc77a1985f36.setContent(html_dc59893c41124919c724802a13751f68);\n",
              "            \n",
              "        \n",
              "\n",
              "        marker_8046140bcffe59c7769f5fdb47d36bbc.bindPopup(popup_7ffa5a4b3f5eefe48dbbdc77a1985f36)\n",
              "        ;\n",
              "\n",
              "        \n",
              "    \n",
              "    \n",
              "            var marker_ab9bea5202c4899924f136d9efcaa205 = L.marker(\n",
              "                [-25.4297, -49.2719],\n",
              "                {}\n",
              "            ).addTo(map_7dd9d8ca2102085c482ee5b33e462208);\n",
              "        \n",
              "    \n",
              "            var icon_bbf909b3008b8788ea88b61d12234e9d = L.AwesomeMarkers.icon(\n",
              "                {&quot;extraClasses&quot;: &quot;fa-rotate-0&quot;, &quot;icon&quot;: &quot;info-sign&quot;, &quot;iconColor&quot;: &quot;white&quot;, &quot;markerColor&quot;: &quot;green&quot;, &quot;prefix&quot;: &quot;glyphicon&quot;}\n",
              "            );\n",
              "            marker_ab9bea5202c4899924f136d9efcaa205.setIcon(icon_bbf909b3008b8788ea88b61d12234e9d);\n",
              "        \n",
              "    \n",
              "        var popup_70f47cb30bf5df07168d82787592f15e = L.popup({&quot;maxWidth&quot;: &quot;100%&quot;});\n",
              "\n",
              "        \n",
              "            \n",
              "                var html_4570060ae68ce52c060424ec9c5988bd = $(`&lt;div id=&quot;html_4570060ae68ce52c060424ec9c5988bd&quot; style=&quot;width: 100.0%; height: 100.0%;&quot;&gt;Curitiba&lt;/div&gt;`)[0];\n",
              "                popup_70f47cb30bf5df07168d82787592f15e.setContent(html_4570060ae68ce52c060424ec9c5988bd);\n",
              "            \n",
              "        \n",
              "\n",
              "        marker_ab9bea5202c4899924f136d9efcaa205.bindPopup(popup_70f47cb30bf5df07168d82787592f15e)\n",
              "        ;\n",
              "\n",
              "        \n",
              "    \n",
              "    \n",
              "            var marker_1e73d7dc061a31a6616d67f73ed50971 = L.marker(\n",
              "                [-20.1389, -44.8839],\n",
              "                {}\n",
              "            ).addTo(map_7dd9d8ca2102085c482ee5b33e462208);\n",
              "        \n",
              "    \n",
              "            var icon_2af04d588b38b61acb7d8da458b1cb3c = L.AwesomeMarkers.icon(\n",
              "                {&quot;extraClasses&quot;: &quot;fa-rotate-0&quot;, &quot;icon&quot;: &quot;info-sign&quot;, &quot;iconColor&quot;: &quot;white&quot;, &quot;markerColor&quot;: &quot;red&quot;, &quot;prefix&quot;: &quot;glyphicon&quot;}\n",
              "            );\n",
              "            marker_1e73d7dc061a31a6616d67f73ed50971.setIcon(icon_2af04d588b38b61acb7d8da458b1cb3c);\n",
              "        \n",
              "    \n",
              "        var popup_9933d6c8436aa60d5c309eef190441d7 = L.popup({&quot;maxWidth&quot;: &quot;100%&quot;});\n",
              "\n",
              "        \n",
              "            \n",
              "                var html_1a14b6d3e39546a3e7064ef31bb1875a = $(`&lt;div id=&quot;html_1a14b6d3e39546a3e7064ef31bb1875a&quot; style=&quot;width: 100.0%; height: 100.0%;&quot;&gt;Divinópolis&lt;/div&gt;`)[0];\n",
              "                popup_9933d6c8436aa60d5c309eef190441d7.setContent(html_1a14b6d3e39546a3e7064ef31bb1875a);\n",
              "            \n",
              "        \n",
              "\n",
              "        marker_1e73d7dc061a31a6616d67f73ed50971.bindPopup(popup_9933d6c8436aa60d5c309eef190441d7)\n",
              "        ;\n",
              "\n",
              "        \n",
              "    \n",
              "    \n",
              "            var marker_d63cfbd699639a3e58701cd0d4d8b43f = L.marker(\n",
              "                [-22.2208, -54.8058],\n",
              "                {}\n",
              "            ).addTo(map_7dd9d8ca2102085c482ee5b33e462208);\n",
              "        \n",
              "    \n",
              "            var icon_a0e4a3adf3e60332bae36ee94cc35f8e = L.AwesomeMarkers.icon(\n",
              "                {&quot;extraClasses&quot;: &quot;fa-rotate-0&quot;, &quot;icon&quot;: &quot;info-sign&quot;, &quot;iconColor&quot;: &quot;white&quot;, &quot;markerColor&quot;: &quot;blue&quot;, &quot;prefix&quot;: &quot;glyphicon&quot;}\n",
              "            );\n",
              "            marker_d63cfbd699639a3e58701cd0d4d8b43f.setIcon(icon_a0e4a3adf3e60332bae36ee94cc35f8e);\n",
              "        \n",
              "    \n",
              "        var popup_88e3d7e972ff28373f68262bc3c08571 = L.popup({&quot;maxWidth&quot;: &quot;100%&quot;});\n",
              "\n",
              "        \n",
              "            \n",
              "                var html_9340d57b95c095b0b3c5e765da7d9537 = $(`&lt;div id=&quot;html_9340d57b95c095b0b3c5e765da7d9537&quot; style=&quot;width: 100.0%; height: 100.0%;&quot;&gt;Dourados&lt;/div&gt;`)[0];\n",
              "                popup_88e3d7e972ff28373f68262bc3c08571.setContent(html_9340d57b95c095b0b3c5e765da7d9537);\n",
              "            \n",
              "        \n",
              "\n",
              "        marker_d63cfbd699639a3e58701cd0d4d8b43f.bindPopup(popup_88e3d7e972ff28373f68262bc3c08571)\n",
              "        ;\n",
              "\n",
              "        \n",
              "    \n",
              "    \n",
              "            var marker_8119c3901333ec67f4b34070308f4135 = L.marker(\n",
              "                [-27.5933, -48.553],\n",
              "                {}\n",
              "            ).addTo(map_7dd9d8ca2102085c482ee5b33e462208);\n",
              "        \n",
              "    \n",
              "            var icon_554f7650b3449a3ab1074338232c728f = L.AwesomeMarkers.icon(\n",
              "                {&quot;extraClasses&quot;: &quot;fa-rotate-0&quot;, &quot;icon&quot;: &quot;info-sign&quot;, &quot;iconColor&quot;: &quot;white&quot;, &quot;markerColor&quot;: &quot;green&quot;, &quot;prefix&quot;: &quot;glyphicon&quot;}\n",
              "            );\n",
              "            marker_8119c3901333ec67f4b34070308f4135.setIcon(icon_554f7650b3449a3ab1074338232c728f);\n",
              "        \n",
              "    \n",
              "        var popup_96dee43a2f31f5b3af94230a20412d4a = L.popup({&quot;maxWidth&quot;: &quot;100%&quot;});\n",
              "\n",
              "        \n",
              "            \n",
              "                var html_933efa48077216267e26d22f5b91321d = $(`&lt;div id=&quot;html_933efa48077216267e26d22f5b91321d&quot; style=&quot;width: 100.0%; height: 100.0%;&quot;&gt;Florianópolis&lt;/div&gt;`)[0];\n",
              "                popup_96dee43a2f31f5b3af94230a20412d4a.setContent(html_933efa48077216267e26d22f5b91321d);\n",
              "            \n",
              "        \n",
              "\n",
              "        marker_8119c3901333ec67f4b34070308f4135.bindPopup(popup_96dee43a2f31f5b3af94230a20412d4a)\n",
              "        ;\n",
              "\n",
              "        \n",
              "    \n",
              "    \n",
              "            var marker_5be5b0deb6f539d882a98cf666029726 = L.marker(\n",
              "                [-27.3589, -53.3939],\n",
              "                {}\n",
              "            ).addTo(map_7dd9d8ca2102085c482ee5b33e462208);\n",
              "        \n",
              "    \n",
              "            var icon_badc3d135ccd6cfffc9977447443a550 = L.AwesomeMarkers.icon(\n",
              "                {&quot;extraClasses&quot;: &quot;fa-rotate-0&quot;, &quot;icon&quot;: &quot;info-sign&quot;, &quot;iconColor&quot;: &quot;white&quot;, &quot;markerColor&quot;: &quot;red&quot;, &quot;prefix&quot;: &quot;glyphicon&quot;}\n",
              "            );\n",
              "            marker_5be5b0deb6f539d882a98cf666029726.setIcon(icon_badc3d135ccd6cfffc9977447443a550);\n",
              "        \n",
              "    \n",
              "        var popup_777839c68b0447aa826831352402aea1 = L.popup({&quot;maxWidth&quot;: &quot;100%&quot;});\n",
              "\n",
              "        \n",
              "            \n",
              "                var html_9183718dc519a1b648bf4fba302ac411 = $(`&lt;div id=&quot;html_9183718dc519a1b648bf4fba302ac411&quot; style=&quot;width: 100.0%; height: 100.0%;&quot;&gt;Frederico Westphalen&lt;/div&gt;`)[0];\n",
              "                popup_777839c68b0447aa826831352402aea1.setContent(html_9183718dc519a1b648bf4fba302ac411);\n",
              "            \n",
              "        \n",
              "\n",
              "        marker_5be5b0deb6f539d882a98cf666029726.bindPopup(popup_777839c68b0447aa826831352402aea1)\n",
              "        ;\n",
              "\n",
              "        \n",
              "    \n",
              "    \n",
              "            var marker_04487dd212ab2fa0c3a3258efd374f85 = L.marker(\n",
              "                [-16.6806, -49.2564],\n",
              "                {}\n",
              "            ).addTo(map_7dd9d8ca2102085c482ee5b33e462208);\n",
              "        \n",
              "    \n",
              "            var icon_88efba88792213e3c8ac3c772bdbda79 = L.AwesomeMarkers.icon(\n",
              "                {&quot;extraClasses&quot;: &quot;fa-rotate-0&quot;, &quot;icon&quot;: &quot;info-sign&quot;, &quot;iconColor&quot;: &quot;white&quot;, &quot;markerColor&quot;: &quot;red&quot;, &quot;prefix&quot;: &quot;glyphicon&quot;}\n",
              "            );\n",
              "            marker_04487dd212ab2fa0c3a3258efd374f85.setIcon(icon_88efba88792213e3c8ac3c772bdbda79);\n",
              "        \n",
              "    \n",
              "        var popup_fc30b4c7399eeebe71bec2d446884034 = L.popup({&quot;maxWidth&quot;: &quot;100%&quot;});\n",
              "\n",
              "        \n",
              "            \n",
              "                var html_ce0b736edcea663ece2b581825a01c30 = $(`&lt;div id=&quot;html_ce0b736edcea663ece2b581825a01c30&quot; style=&quot;width: 100.0%; height: 100.0%;&quot;&gt;Goiânia&lt;/div&gt;`)[0];\n",
              "                popup_fc30b4c7399eeebe71bec2d446884034.setContent(html_ce0b736edcea663ece2b581825a01c30);\n",
              "            \n",
              "        \n",
              "\n",
              "        marker_04487dd212ab2fa0c3a3258efd374f85.bindPopup(popup_fc30b4c7399eeebe71bec2d446884034)\n",
              "        ;\n",
              "\n",
              "        \n",
              "    \n",
              "    \n",
              "            var marker_57f233f22fe91ee37af49417fbdc04dc = L.marker(\n",
              "                [-20.4272, -51.3436],\n",
              "                {}\n",
              "            ).addTo(map_7dd9d8ca2102085c482ee5b33e462208);\n",
              "        \n",
              "    \n",
              "            var icon_727273dd484a14b8802c01c6678a5c9a = L.AwesomeMarkers.icon(\n",
              "                {&quot;extraClasses&quot;: &quot;fa-rotate-0&quot;, &quot;icon&quot;: &quot;info-sign&quot;, &quot;iconColor&quot;: &quot;white&quot;, &quot;markerColor&quot;: &quot;green&quot;, &quot;prefix&quot;: &quot;glyphicon&quot;}\n",
              "            );\n",
              "            marker_57f233f22fe91ee37af49417fbdc04dc.setIcon(icon_727273dd484a14b8802c01c6678a5c9a);\n",
              "        \n",
              "    \n",
              "        var popup_d5fff995805bd01ec66eda64230fd35f = L.popup({&quot;maxWidth&quot;: &quot;100%&quot;});\n",
              "\n",
              "        \n",
              "            \n",
              "                var html_b74514404457205a3f855d905e0ccec1 = $(`&lt;div id=&quot;html_b74514404457205a3f855d905e0ccec1&quot; style=&quot;width: 100.0%; height: 100.0%;&quot;&gt;Ilha Solteira&lt;/div&gt;`)[0];\n",
              "                popup_d5fff995805bd01ec66eda64230fd35f.setContent(html_b74514404457205a3f855d905e0ccec1);\n",
              "            \n",
              "        \n",
              "\n",
              "        marker_57f233f22fe91ee37af49417fbdc04dc.bindPopup(popup_d5fff995805bd01ec66eda64230fd35f)\n",
              "        ;\n",
              "\n",
              "        \n",
              "    \n",
              "    \n",
              "            var marker_8bf5195dcf695650ae983f1f7fa01eca = L.marker(\n",
              "                [-14.7889, -39.0489],\n",
              "                {}\n",
              "            ).addTo(map_7dd9d8ca2102085c482ee5b33e462208);\n",
              "        \n",
              "    \n",
              "            var icon_ca598f98bf1ae01cd9ffe29f7fd9f847 = L.AwesomeMarkers.icon(\n",
              "                {&quot;extraClasses&quot;: &quot;fa-rotate-0&quot;, &quot;icon&quot;: &quot;info-sign&quot;, &quot;iconColor&quot;: &quot;white&quot;, &quot;markerColor&quot;: &quot;green&quot;, &quot;prefix&quot;: &quot;glyphicon&quot;}\n",
              "            );\n",
              "            marker_8bf5195dcf695650ae983f1f7fa01eca.setIcon(icon_ca598f98bf1ae01cd9ffe29f7fd9f847);\n",
              "        \n",
              "    \n",
              "        var popup_b638b223fa228ea1469ab3710ae09b58 = L.popup({&quot;maxWidth&quot;: &quot;100%&quot;});\n",
              "\n",
              "        \n",
              "            \n",
              "                var html_0f231a6c72a4b6736be42cd02582b057 = $(`&lt;div id=&quot;html_0f231a6c72a4b6736be42cd02582b057&quot; style=&quot;width: 100.0%; height: 100.0%;&quot;&gt;Ilhéus&lt;/div&gt;`)[0];\n",
              "                popup_b638b223fa228ea1469ab3710ae09b58.setContent(html_0f231a6c72a4b6736be42cd02582b057);\n",
              "            \n",
              "        \n",
              "\n",
              "        marker_8bf5195dcf695650ae983f1f7fa01eca.bindPopup(popup_b638b223fa228ea1469ab3710ae09b58)\n",
              "        ;\n",
              "\n",
              "        \n",
              "    \n",
              "    \n",
              "            var marker_43428b99738b108d2e6c1c447f946877 = L.marker(\n",
              "                [-19.6197, -43.2269],\n",
              "                {}\n",
              "            ).addTo(map_7dd9d8ca2102085c482ee5b33e462208);\n",
              "        \n",
              "    \n",
              "            var icon_351c409d4268e5b96efe8dc78fc3a143 = L.AwesomeMarkers.icon(\n",
              "                {&quot;extraClasses&quot;: &quot;fa-rotate-0&quot;, &quot;icon&quot;: &quot;info-sign&quot;, &quot;iconColor&quot;: &quot;white&quot;, &quot;markerColor&quot;: &quot;blue&quot;, &quot;prefix&quot;: &quot;glyphicon&quot;}\n",
              "            );\n",
              "            marker_43428b99738b108d2e6c1c447f946877.setIcon(icon_351c409d4268e5b96efe8dc78fc3a143);\n",
              "        \n",
              "    \n",
              "        var popup_155aba7678b57ace5e8ebc6cd5abba4e = L.popup({&quot;maxWidth&quot;: &quot;100%&quot;});\n",
              "\n",
              "        \n",
              "            \n",
              "                var html_5d9f2c6736b39ff56451b5a581bedb43 = $(`&lt;div id=&quot;html_5d9f2c6736b39ff56451b5a581bedb43&quot; style=&quot;width: 100.0%; height: 100.0%;&quot;&gt;Itabira&lt;/div&gt;`)[0];\n",
              "                popup_155aba7678b57ace5e8ebc6cd5abba4e.setContent(html_5d9f2c6736b39ff56451b5a581bedb43);\n",
              "            \n",
              "        \n",
              "\n",
              "        marker_43428b99738b108d2e6c1c447f946877.bindPopup(popup_155aba7678b57ace5e8ebc6cd5abba4e)\n",
              "        ;\n",
              "\n",
              "        \n",
              "    \n",
              "    \n",
              "            var marker_d8c692dc6811d654ef2ce940993da06c = L.marker(\n",
              "                [-18.9689, -49.465],\n",
              "                {}\n",
              "            ).addTo(map_7dd9d8ca2102085c482ee5b33e462208);\n",
              "        \n",
              "    \n",
              "            var icon_c7943fa67758c14d29b16203440c7623 = L.AwesomeMarkers.icon(\n",
              "                {&quot;extraClasses&quot;: &quot;fa-rotate-0&quot;, &quot;icon&quot;: &quot;info-sign&quot;, &quot;iconColor&quot;: &quot;white&quot;, &quot;markerColor&quot;: &quot;green&quot;, &quot;prefix&quot;: &quot;glyphicon&quot;}\n",
              "            );\n",
              "            marker_d8c692dc6811d654ef2ce940993da06c.setIcon(icon_c7943fa67758c14d29b16203440c7623);\n",
              "        \n",
              "    \n",
              "        var popup_721055ea0c1b952126453c66465e2dcb = L.popup({&quot;maxWidth&quot;: &quot;100%&quot;});\n",
              "\n",
              "        \n",
              "            \n",
              "                var html_bacfda57c3a1e7b4349c492f42912b4b = $(`&lt;div id=&quot;html_bacfda57c3a1e7b4349c492f42912b4b&quot; style=&quot;width: 100.0%; height: 100.0%;&quot;&gt;Ituiutaba&lt;/div&gt;`)[0];\n",
              "                popup_721055ea0c1b952126453c66465e2dcb.setContent(html_bacfda57c3a1e7b4349c492f42912b4b);\n",
              "            \n",
              "        \n",
              "\n",
              "        marker_d8c692dc6811d654ef2ce940993da06c.bindPopup(popup_721055ea0c1b952126453c66465e2dcb)\n",
              "        ;\n",
              "\n",
              "        \n",
              "    \n",
              "    \n",
              "            var marker_e124e63c075d970fe36d87b45b422d3f = L.marker(\n",
              "                [-18.4093, -49.2158],\n",
              "                {}\n",
              "            ).addTo(map_7dd9d8ca2102085c482ee5b33e462208);\n",
              "        \n",
              "    \n",
              "            var icon_213af5707ff8ef0fbd053aa707818ea1 = L.AwesomeMarkers.icon(\n",
              "                {&quot;extraClasses&quot;: &quot;fa-rotate-0&quot;, &quot;icon&quot;: &quot;info-sign&quot;, &quot;iconColor&quot;: &quot;white&quot;, &quot;markerColor&quot;: &quot;red&quot;, &quot;prefix&quot;: &quot;glyphicon&quot;}\n",
              "            );\n",
              "            marker_e124e63c075d970fe36d87b45b422d3f.setIcon(icon_213af5707ff8ef0fbd053aa707818ea1);\n",
              "        \n",
              "    \n",
              "        var popup_1fd40cdf9f68531ce02a0e3bbb0fd536 = L.popup({&quot;maxWidth&quot;: &quot;100%&quot;});\n",
              "\n",
              "        \n",
              "            \n",
              "                var html_192fdd8c4fe6ef5a300b6c4aeca86028 = $(`&lt;div id=&quot;html_192fdd8c4fe6ef5a300b6c4aeca86028&quot; style=&quot;width: 100.0%; height: 100.0%;&quot;&gt;Itumbiara&lt;/div&gt;`)[0];\n",
              "                popup_1fd40cdf9f68531ce02a0e3bbb0fd536.setContent(html_192fdd8c4fe6ef5a300b6c4aeca86028);\n",
              "            \n",
              "        \n",
              "\n",
              "        marker_e124e63c075d970fe36d87b45b422d3f.bindPopup(popup_1fd40cdf9f68531ce02a0e3bbb0fd536)\n",
              "        ;\n",
              "\n",
              "        \n",
              "    \n",
              "    \n",
              "            var marker_402bee38a39f9997447a3d659dd2fade = L.marker(\n",
              "                [-19.81, -43.1739],\n",
              "                {}\n",
              "            ).addTo(map_7dd9d8ca2102085c482ee5b33e462208);\n",
              "        \n",
              "    \n",
              "            var icon_b4e713de2265209ffaa3b8ff8c7d437f = L.AwesomeMarkers.icon(\n",
              "                {&quot;extraClasses&quot;: &quot;fa-rotate-0&quot;, &quot;icon&quot;: &quot;info-sign&quot;, &quot;iconColor&quot;: &quot;white&quot;, &quot;markerColor&quot;: &quot;green&quot;, &quot;prefix&quot;: &quot;glyphicon&quot;}\n",
              "            );\n",
              "            marker_402bee38a39f9997447a3d659dd2fade.setIcon(icon_b4e713de2265209ffaa3b8ff8c7d437f);\n",
              "        \n",
              "    \n",
              "        var popup_afddd1fa42b138fcabee73685837806f = L.popup({&quot;maxWidth&quot;: &quot;100%&quot;});\n",
              "\n",
              "        \n",
              "            \n",
              "                var html_0f70a9ec57bf072caa78d1ce710b5eed = $(`&lt;div id=&quot;html_0f70a9ec57bf072caa78d1ce710b5eed&quot; style=&quot;width: 100.0%; height: 100.0%;&quot;&gt;João Monlevade&lt;/div&gt;`)[0];\n",
              "                popup_afddd1fa42b138fcabee73685837806f.setContent(html_0f70a9ec57bf072caa78d1ce710b5eed);\n",
              "            \n",
              "        \n",
              "\n",
              "        marker_402bee38a39f9997447a3d659dd2fade.bindPopup(popup_afddd1fa42b138fcabee73685837806f)\n",
              "        ;\n",
              "\n",
              "        \n",
              "    \n",
              "    \n",
              "            var marker_828ad0662dedab67b73e3cb4a39a784e = L.marker(\n",
              "                [-26.3039, -48.8458],\n",
              "                {}\n",
              "            ).addTo(map_7dd9d8ca2102085c482ee5b33e462208);\n",
              "        \n",
              "    \n",
              "            var icon_81d02fb2c3b12ca6de76ec156e206cbb = L.AwesomeMarkers.icon(\n",
              "                {&quot;extraClasses&quot;: &quot;fa-rotate-0&quot;, &quot;icon&quot;: &quot;info-sign&quot;, &quot;iconColor&quot;: &quot;white&quot;, &quot;markerColor&quot;: &quot;green&quot;, &quot;prefix&quot;: &quot;glyphicon&quot;}\n",
              "            );\n",
              "            marker_828ad0662dedab67b73e3cb4a39a784e.setIcon(icon_81d02fb2c3b12ca6de76ec156e206cbb);\n",
              "        \n",
              "    \n",
              "        var popup_0bbf7cdef8e0be98a21d0557b6a3880b = L.popup({&quot;maxWidth&quot;: &quot;100%&quot;});\n",
              "\n",
              "        \n",
              "            \n",
              "                var html_d2caec23615b72599e12388b710956f0 = $(`&lt;div id=&quot;html_d2caec23615b72599e12388b710956f0&quot; style=&quot;width: 100.0%; height: 100.0%;&quot;&gt;Joinville&lt;/div&gt;`)[0];\n",
              "                popup_0bbf7cdef8e0be98a21d0557b6a3880b.setContent(html_d2caec23615b72599e12388b710956f0);\n",
              "            \n",
              "        \n",
              "\n",
              "        marker_828ad0662dedab67b73e3cb4a39a784e.bindPopup(popup_0bbf7cdef8e0be98a21d0557b6a3880b)\n",
              "        ;\n",
              "\n",
              "        \n",
              "    \n",
              "    \n",
              "            var marker_3d0e1c55841e3570addbce5900c0174a = L.marker(\n",
              "                [-21.75, -43.35],\n",
              "                {}\n",
              "            ).addTo(map_7dd9d8ca2102085c482ee5b33e462208);\n",
              "        \n",
              "    \n",
              "            var icon_6bf7c39b88d06e4f8d1d87b25fe8f127 = L.AwesomeMarkers.icon(\n",
              "                {&quot;extraClasses&quot;: &quot;fa-rotate-0&quot;, &quot;icon&quot;: &quot;info-sign&quot;, &quot;iconColor&quot;: &quot;white&quot;, &quot;markerColor&quot;: &quot;green&quot;, &quot;prefix&quot;: &quot;glyphicon&quot;}\n",
              "            );\n",
              "            marker_3d0e1c55841e3570addbce5900c0174a.setIcon(icon_6bf7c39b88d06e4f8d1d87b25fe8f127);\n",
              "        \n",
              "    \n",
              "        var popup_7c4c6b4a6b61493384fb00f06af1cb9f = L.popup({&quot;maxWidth&quot;: &quot;100%&quot;});\n",
              "\n",
              "        \n",
              "            \n",
              "                var html_d5a74aa9551289283d86193d4c0d3fc7 = $(`&lt;div id=&quot;html_d5a74aa9551289283d86193d4c0d3fc7&quot; style=&quot;width: 100.0%; height: 100.0%;&quot;&gt;Juiz de Fora&lt;/div&gt;`)[0];\n",
              "                popup_7c4c6b4a6b61493384fb00f06af1cb9f.setContent(html_d5a74aa9551289283d86193d4c0d3fc7);\n",
              "            \n",
              "        \n",
              "\n",
              "        marker_3d0e1c55841e3570addbce5900c0174a.bindPopup(popup_7c4c6b4a6b61493384fb00f06af1cb9f)\n",
              "        ;\n",
              "\n",
              "        \n",
              "    \n",
              "    \n",
              "            var marker_780f95bd1c4da294d4caebeda8166c43 = L.marker(\n",
              "                [-21.245, -45.0],\n",
              "                {}\n",
              "            ).addTo(map_7dd9d8ca2102085c482ee5b33e462208);\n",
              "        \n",
              "    \n",
              "            var icon_1a46336991e276388915a2ae4ae81f72 = L.AwesomeMarkers.icon(\n",
              "                {&quot;extraClasses&quot;: &quot;fa-rotate-0&quot;, &quot;icon&quot;: &quot;info-sign&quot;, &quot;iconColor&quot;: &quot;white&quot;, &quot;markerColor&quot;: &quot;green&quot;, &quot;prefix&quot;: &quot;glyphicon&quot;}\n",
              "            );\n",
              "            marker_780f95bd1c4da294d4caebeda8166c43.setIcon(icon_1a46336991e276388915a2ae4ae81f72);\n",
              "        \n",
              "    \n",
              "        var popup_a58f9c11516170ca89f200f135291ed5 = L.popup({&quot;maxWidth&quot;: &quot;100%&quot;});\n",
              "\n",
              "        \n",
              "            \n",
              "                var html_0bdac19dcb0cce5eabb3e9cd9e803da9 = $(`&lt;div id=&quot;html_0bdac19dcb0cce5eabb3e9cd9e803da9&quot; style=&quot;width: 100.0%; height: 100.0%;&quot;&gt;Lavras&lt;/div&gt;`)[0];\n",
              "                popup_a58f9c11516170ca89f200f135291ed5.setContent(html_0bdac19dcb0cce5eabb3e9cd9e803da9);\n",
              "            \n",
              "        \n",
              "\n",
              "        marker_780f95bd1c4da294d4caebeda8166c43.bindPopup(popup_a58f9c11516170ca89f200f135291ed5)\n",
              "        ;\n",
              "\n",
              "        \n",
              "    \n",
              "    \n",
              "            var marker_9a6bce3e278676c702d49e8a0f7e5e7e = L.marker(\n",
              "                [-22.5647, -47.4017],\n",
              "                {}\n",
              "            ).addTo(map_7dd9d8ca2102085c482ee5b33e462208);\n",
              "        \n",
              "    \n",
              "            var icon_75f27800ab78c270a4e03d5806c66976 = L.AwesomeMarkers.icon(\n",
              "                {&quot;extraClasses&quot;: &quot;fa-rotate-0&quot;, &quot;icon&quot;: &quot;info-sign&quot;, &quot;iconColor&quot;: &quot;white&quot;, &quot;markerColor&quot;: &quot;green&quot;, &quot;prefix&quot;: &quot;glyphicon&quot;}\n",
              "            );\n",
              "            marker_9a6bce3e278676c702d49e8a0f7e5e7e.setIcon(icon_75f27800ab78c270a4e03d5806c66976);\n",
              "        \n",
              "    \n",
              "        var popup_f0c13bc1be14755c4827eb30d05cc7fd = L.popup({&quot;maxWidth&quot;: &quot;100%&quot;});\n",
              "\n",
              "        \n",
              "            \n",
              "                var html_d7f240a57d0163e92e398473879cb5a4 = $(`&lt;div id=&quot;html_d7f240a57d0163e92e398473879cb5a4&quot; style=&quot;width: 100.0%; height: 100.0%;&quot;&gt;Limeira&lt;/div&gt;`)[0];\n",
              "                popup_f0c13bc1be14755c4827eb30d05cc7fd.setContent(html_d7f240a57d0163e92e398473879cb5a4);\n",
              "            \n",
              "        \n",
              "\n",
              "        marker_9a6bce3e278676c702d49e8a0f7e5e7e.bindPopup(popup_f0c13bc1be14755c4827eb30d05cc7fd)\n",
              "        ;\n",
              "\n",
              "        \n",
              "    \n",
              "    \n",
              "            var marker_a7d317bcea6049970b85f91fbe2e29c3 = L.marker(\n",
              "                [-22.7308, -45.1247],\n",
              "                {}\n",
              "            ).addTo(map_7dd9d8ca2102085c482ee5b33e462208);\n",
              "        \n",
              "    \n",
              "            var icon_1b1c8422f1513923649c69c7962cc6e9 = L.AwesomeMarkers.icon(\n",
              "                {&quot;extraClasses&quot;: &quot;fa-rotate-0&quot;, &quot;icon&quot;: &quot;info-sign&quot;, &quot;iconColor&quot;: &quot;white&quot;, &quot;markerColor&quot;: &quot;blue&quot;, &quot;prefix&quot;: &quot;glyphicon&quot;}\n",
              "            );\n",
              "            marker_a7d317bcea6049970b85f91fbe2e29c3.setIcon(icon_1b1c8422f1513923649c69c7962cc6e9);\n",
              "        \n",
              "    \n",
              "        var popup_dc077d902c175cef54f6435a7b1e46df = L.popup({&quot;maxWidth&quot;: &quot;100%&quot;});\n",
              "\n",
              "        \n",
              "            \n",
              "                var html_b2d19ed234b7d8618022c2663849e628 = $(`&lt;div id=&quot;html_b2d19ed234b7d8618022c2663849e628&quot; style=&quot;width: 100.0%; height: 100.0%;&quot;&gt;Lorena&lt;/div&gt;`)[0];\n",
              "                popup_dc077d902c175cef54f6435a7b1e46df.setContent(html_b2d19ed234b7d8618022c2663849e628);\n",
              "            \n",
              "        \n",
              "\n",
              "        marker_a7d317bcea6049970b85f91fbe2e29c3.bindPopup(popup_dc077d902c175cef54f6435a7b1e46df)\n",
              "        ;\n",
              "\n",
              "        \n",
              "    \n",
              "    \n",
              "            var marker_754a780ed5bfe82cffe5ca717ac04e0c = L.marker(\n",
              "                [-20.2572, -42.0347],\n",
              "                {}\n",
              "            ).addTo(map_7dd9d8ca2102085c482ee5b33e462208);\n",
              "        \n",
              "    \n",
              "            var icon_7dc5280ddbd6e2b2ed756574ac94d544 = L.AwesomeMarkers.icon(\n",
              "                {&quot;extraClasses&quot;: &quot;fa-rotate-0&quot;, &quot;icon&quot;: &quot;info-sign&quot;, &quot;iconColor&quot;: &quot;white&quot;, &quot;markerColor&quot;: &quot;red&quot;, &quot;prefix&quot;: &quot;glyphicon&quot;}\n",
              "            );\n",
              "            marker_754a780ed5bfe82cffe5ca717ac04e0c.setIcon(icon_7dc5280ddbd6e2b2ed756574ac94d544);\n",
              "        \n",
              "    \n",
              "        var popup_eada6700e6c8fbe9bc85f4c64a2079c4 = L.popup({&quot;maxWidth&quot;: &quot;100%&quot;});\n",
              "\n",
              "        \n",
              "            \n",
              "                var html_a5fb35c4f8dda15f8c8157799c536c93 = $(`&lt;div id=&quot;html_a5fb35c4f8dda15f8c8157799c536c93&quot; style=&quot;width: 100.0%; height: 100.0%;&quot;&gt;Manhuaçu&lt;/div&gt;`)[0];\n",
              "                popup_eada6700e6c8fbe9bc85f4c64a2079c4.setContent(html_a5fb35c4f8dda15f8c8157799c536c93);\n",
              "            \n",
              "        \n",
              "\n",
              "        marker_754a780ed5bfe82cffe5ca717ac04e0c.bindPopup(popup_eada6700e6c8fbe9bc85f4c64a2079c4)\n",
              "        ;\n",
              "\n",
              "        \n",
              "    \n",
              "    \n",
              "            var marker_70712b0bee814e881df6fae0c2958d07 = L.marker(\n",
              "                [-23.425, -51.9389],\n",
              "                {}\n",
              "            ).addTo(map_7dd9d8ca2102085c482ee5b33e462208);\n",
              "        \n",
              "    \n",
              "            var icon_ed11d808f1cecf52dfc377ddc000dce6 = L.AwesomeMarkers.icon(\n",
              "                {&quot;extraClasses&quot;: &quot;fa-rotate-0&quot;, &quot;icon&quot;: &quot;info-sign&quot;, &quot;iconColor&quot;: &quot;white&quot;, &quot;markerColor&quot;: &quot;green&quot;, &quot;prefix&quot;: &quot;glyphicon&quot;}\n",
              "            );\n",
              "            marker_70712b0bee814e881df6fae0c2958d07.setIcon(icon_ed11d808f1cecf52dfc377ddc000dce6);\n",
              "        \n",
              "    \n",
              "        var popup_94ee0d96aa037c4c0c6615e147b880c8 = L.popup({&quot;maxWidth&quot;: &quot;100%&quot;});\n",
              "\n",
              "        \n",
              "            \n",
              "                var html_51ec9370a19f6fdb3edf9c77942c1740 = $(`&lt;div id=&quot;html_51ec9370a19f6fdb3edf9c77942c1740&quot; style=&quot;width: 100.0%; height: 100.0%;&quot;&gt;Maringá&lt;/div&gt;`)[0];\n",
              "                popup_94ee0d96aa037c4c0c6615e147b880c8.setContent(html_51ec9370a19f6fdb3edf9c77942c1740);\n",
              "            \n",
              "        \n",
              "\n",
              "        marker_70712b0bee814e881df6fae0c2958d07.bindPopup(popup_94ee0d96aa037c4c0c6615e147b880c8)\n",
              "        ;\n",
              "\n",
              "        \n",
              "    \n",
              "    \n",
              "            var marker_2a8e750b5f099a5938d877e4949ffd6b = L.marker(\n",
              "                [-5.795, -35.2089],\n",
              "                {}\n",
              "            ).addTo(map_7dd9d8ca2102085c482ee5b33e462208);\n",
              "        \n",
              "    \n",
              "            var icon_77433bb6b7bf14991ad31409a2dad498 = L.AwesomeMarkers.icon(\n",
              "                {&quot;extraClasses&quot;: &quot;fa-rotate-0&quot;, &quot;icon&quot;: &quot;info-sign&quot;, &quot;iconColor&quot;: &quot;white&quot;, &quot;markerColor&quot;: &quot;green&quot;, &quot;prefix&quot;: &quot;glyphicon&quot;}\n",
              "            );\n",
              "            marker_2a8e750b5f099a5938d877e4949ffd6b.setIcon(icon_77433bb6b7bf14991ad31409a2dad498);\n",
              "        \n",
              "    \n",
              "        var popup_79023b842109889cf19d577d3acfa4cb = L.popup({&quot;maxWidth&quot;: &quot;100%&quot;});\n",
              "\n",
              "        \n",
              "            \n",
              "                var html_75115a28aab1c4d1eda23cb88883a3ad = $(`&lt;div id=&quot;html_75115a28aab1c4d1eda23cb88883a3ad&quot; style=&quot;width: 100.0%; height: 100.0%;&quot;&gt;Natal&lt;/div&gt;`)[0];\n",
              "                popup_79023b842109889cf19d577d3acfa4cb.setContent(html_75115a28aab1c4d1eda23cb88883a3ad);\n",
              "            \n",
              "        \n",
              "\n",
              "        marker_2a8e750b5f099a5938d877e4949ffd6b.bindPopup(popup_79023b842109889cf19d577d3acfa4cb)\n",
              "        ;\n",
              "\n",
              "        \n",
              "    \n",
              "    \n",
              "            var marker_62e66b972149b24c3679337ce6e82781 = L.marker(\n",
              "                [-22.8833, -43.1036],\n",
              "                {}\n",
              "            ).addTo(map_7dd9d8ca2102085c482ee5b33e462208);\n",
              "        \n",
              "    \n",
              "            var icon_a88d26eebfb42301283692ca32df7b1f = L.AwesomeMarkers.icon(\n",
              "                {&quot;extraClasses&quot;: &quot;fa-rotate-0&quot;, &quot;icon&quot;: &quot;info-sign&quot;, &quot;iconColor&quot;: &quot;white&quot;, &quot;markerColor&quot;: &quot;green&quot;, &quot;prefix&quot;: &quot;glyphicon&quot;}\n",
              "            );\n",
              "            marker_62e66b972149b24c3679337ce6e82781.setIcon(icon_a88d26eebfb42301283692ca32df7b1f);\n",
              "        \n",
              "    \n",
              "        var popup_6778501c3808e42131ee7159b59b7d34 = L.popup({&quot;maxWidth&quot;: &quot;100%&quot;});\n",
              "\n",
              "        \n",
              "            \n",
              "                var html_b24314562a583122481c97da962c1001 = $(`&lt;div id=&quot;html_b24314562a583122481c97da962c1001&quot; style=&quot;width: 100.0%; height: 100.0%;&quot;&gt;Niterói&lt;/div&gt;`)[0];\n",
              "                popup_6778501c3808e42131ee7159b59b7d34.setContent(html_b24314562a583122481c97da962c1001);\n",
              "            \n",
              "        \n",
              "\n",
              "        marker_62e66b972149b24c3679337ce6e82781.bindPopup(popup_6778501c3808e42131ee7159b59b7d34)\n",
              "        ;\n",
              "\n",
              "        \n",
              "    \n",
              "    \n",
              "            var marker_c9c473c28f2f488c1a7e15656fa351cf = L.marker(\n",
              "                [-20.5208, -43.6919],\n",
              "                {}\n",
              "            ).addTo(map_7dd9d8ca2102085c482ee5b33e462208);\n",
              "        \n",
              "    \n",
              "            var icon_5cda987eb02f3c3ceda44568dcee1e5d = L.AwesomeMarkers.icon(\n",
              "                {&quot;extraClasses&quot;: &quot;fa-rotate-0&quot;, &quot;icon&quot;: &quot;info-sign&quot;, &quot;iconColor&quot;: &quot;white&quot;, &quot;markerColor&quot;: &quot;green&quot;, &quot;prefix&quot;: &quot;glyphicon&quot;}\n",
              "            );\n",
              "            marker_c9c473c28f2f488c1a7e15656fa351cf.setIcon(icon_5cda987eb02f3c3ceda44568dcee1e5d);\n",
              "        \n",
              "    \n",
              "        var popup_4991dba3ccdee8aeb25ef79d4b094207 = L.popup({&quot;maxWidth&quot;: &quot;100%&quot;});\n",
              "\n",
              "        \n",
              "            \n",
              "                var html_92860d91f768a08f91e92472bda92ba5 = $(`&lt;div id=&quot;html_92860d91f768a08f91e92472bda92ba5&quot; style=&quot;width: 100.0%; height: 100.0%;&quot;&gt;Ouro Branco&lt;/div&gt;`)[0];\n",
              "                popup_4991dba3ccdee8aeb25ef79d4b094207.setContent(html_92860d91f768a08f91e92472bda92ba5);\n",
              "            \n",
              "        \n",
              "\n",
              "        marker_c9c473c28f2f488c1a7e15656fa351cf.bindPopup(popup_4991dba3ccdee8aeb25ef79d4b094207)\n",
              "        ;\n",
              "\n",
              "        \n",
              "    \n",
              "    \n",
              "            var marker_78fd61399a899fb026d5bfcbabdfac34 = L.marker(\n",
              "                [-20.3853, -43.5036],\n",
              "                {}\n",
              "            ).addTo(map_7dd9d8ca2102085c482ee5b33e462208);\n",
              "        \n",
              "    \n",
              "            var icon_57b1d867e667b024cbffe32006ef0c2f = L.AwesomeMarkers.icon(\n",
              "                {&quot;extraClasses&quot;: &quot;fa-rotate-0&quot;, &quot;icon&quot;: &quot;info-sign&quot;, &quot;iconColor&quot;: &quot;white&quot;, &quot;markerColor&quot;: &quot;green&quot;, &quot;prefix&quot;: &quot;glyphicon&quot;}\n",
              "            );\n",
              "            marker_78fd61399a899fb026d5bfcbabdfac34.setIcon(icon_57b1d867e667b024cbffe32006ef0c2f);\n",
              "        \n",
              "    \n",
              "        var popup_a7bc5f63d0dd54042ae053c7ee0120c1 = L.popup({&quot;maxWidth&quot;: &quot;100%&quot;});\n",
              "\n",
              "        \n",
              "            \n",
              "                var html_3bb442febe6826f687a2a27cd3dd8ce6 = $(`&lt;div id=&quot;html_3bb442febe6826f687a2a27cd3dd8ce6&quot; style=&quot;width: 100.0%; height: 100.0%;&quot;&gt;Ouro Preto&lt;/div&gt;`)[0];\n",
              "                popup_a7bc5f63d0dd54042ae053c7ee0120c1.setContent(html_3bb442febe6826f687a2a27cd3dd8ce6);\n",
              "            \n",
              "        \n",
              "\n",
              "        marker_78fd61399a899fb026d5bfcbabdfac34.bindPopup(popup_a7bc5f63d0dd54042ae053c7ee0120c1)\n",
              "        ;\n",
              "\n",
              "        \n",
              "    \n",
              "    \n",
              "            var marker_e40bc5024a26ecb2fb28a309fbaf5909 = L.marker(\n",
              "                [-20.7189, -46.61],\n",
              "                {}\n",
              "            ).addTo(map_7dd9d8ca2102085c482ee5b33e462208);\n",
              "        \n",
              "    \n",
              "            var icon_421b8a0f847f4b8e9d1fbc3d5129cb7c = L.AwesomeMarkers.icon(\n",
              "                {&quot;extraClasses&quot;: &quot;fa-rotate-0&quot;, &quot;icon&quot;: &quot;info-sign&quot;, &quot;iconColor&quot;: &quot;white&quot;, &quot;markerColor&quot;: &quot;red&quot;, &quot;prefix&quot;: &quot;glyphicon&quot;}\n",
              "            );\n",
              "            marker_e40bc5024a26ecb2fb28a309fbaf5909.setIcon(icon_421b8a0f847f4b8e9d1fbc3d5129cb7c);\n",
              "        \n",
              "    \n",
              "        var popup_b84a8abf73ba7572be9a7844f263fbd9 = L.popup({&quot;maxWidth&quot;: &quot;100%&quot;});\n",
              "\n",
              "        \n",
              "            \n",
              "                var html_4f4922f168fe453bb2ec95df8fd781bc = $(`&lt;div id=&quot;html_4f4922f168fe453bb2ec95df8fd781bc&quot; style=&quot;width: 100.0%; height: 100.0%;&quot;&gt;Passos&lt;/div&gt;`)[0];\n",
              "                popup_b84a8abf73ba7572be9a7844f263fbd9.setContent(html_4f4922f168fe453bb2ec95df8fd781bc);\n",
              "            \n",
              "        \n",
              "\n",
              "        marker_e40bc5024a26ecb2fb28a309fbaf5909.bindPopup(popup_b84a8abf73ba7572be9a7844f263fbd9)\n",
              "        ;\n",
              "\n",
              "        \n",
              "    \n",
              "    \n",
              "            var marker_4cd3bd5fc14a5c882e821f9978845132 = L.marker(\n",
              "                [-18.5871, -46.5149],\n",
              "                {}\n",
              "            ).addTo(map_7dd9d8ca2102085c482ee5b33e462208);\n",
              "        \n",
              "    \n",
              "            var icon_821b1932e0c9ad45e5c2c4df64d5dd84 = L.AwesomeMarkers.icon(\n",
              "                {&quot;extraClasses&quot;: &quot;fa-rotate-0&quot;, &quot;icon&quot;: &quot;info-sign&quot;, &quot;iconColor&quot;: &quot;white&quot;, &quot;markerColor&quot;: &quot;green&quot;, &quot;prefix&quot;: &quot;glyphicon&quot;}\n",
              "            );\n",
              "            marker_4cd3bd5fc14a5c882e821f9978845132.setIcon(icon_821b1932e0c9ad45e5c2c4df64d5dd84);\n",
              "        \n",
              "    \n",
              "        var popup_55c797d7620f633ab1c7e4099e01fef9 = L.popup({&quot;maxWidth&quot;: &quot;100%&quot;});\n",
              "\n",
              "        \n",
              "            \n",
              "                var html_bc6c56087757a2e2427b56e9a7a581fe = $(`&lt;div id=&quot;html_bc6c56087757a2e2427b56e9a7a581fe&quot; style=&quot;width: 100.0%; height: 100.0%;&quot;&gt;Patos de Minas&lt;/div&gt;`)[0];\n",
              "                popup_55c797d7620f633ab1c7e4099e01fef9.setContent(html_bc6c56087757a2e2427b56e9a7a581fe);\n",
              "            \n",
              "        \n",
              "\n",
              "        marker_4cd3bd5fc14a5c882e821f9978845132.bindPopup(popup_55c797d7620f633ab1c7e4099e01fef9)\n",
              "        ;\n",
              "\n",
              "        \n",
              "    \n",
              "    \n",
              "            var marker_a9208ac495314b8d1df0a1ed9ccec418 = L.marker(\n",
              "                [-31.7645, -52.3371],\n",
              "                {}\n",
              "            ).addTo(map_7dd9d8ca2102085c482ee5b33e462208);\n",
              "        \n",
              "    \n",
              "            var icon_cdc5768235acf75fbeddc2be772aedde = L.AwesomeMarkers.icon(\n",
              "                {&quot;extraClasses&quot;: &quot;fa-rotate-0&quot;, &quot;icon&quot;: &quot;info-sign&quot;, &quot;iconColor&quot;: &quot;white&quot;, &quot;markerColor&quot;: &quot;red&quot;, &quot;prefix&quot;: &quot;glyphicon&quot;}\n",
              "            );\n",
              "            marker_a9208ac495314b8d1df0a1ed9ccec418.setIcon(icon_cdc5768235acf75fbeddc2be772aedde);\n",
              "        \n",
              "    \n",
              "        var popup_be5d056208bcd99c4d8b9015f9bfc5c5 = L.popup({&quot;maxWidth&quot;: &quot;100%&quot;});\n",
              "\n",
              "        \n",
              "            \n",
              "                var html_22bbcf3b3d23c930e19d489537189c33 = $(`&lt;div id=&quot;html_22bbcf3b3d23c930e19d489537189c33&quot; style=&quot;width: 100.0%; height: 100.0%;&quot;&gt;Pelotas&lt;/div&gt;`)[0];\n",
              "                popup_be5d056208bcd99c4d8b9015f9bfc5c5.setContent(html_22bbcf3b3d23c930e19d489537189c33);\n",
              "            \n",
              "        \n",
              "\n",
              "        marker_a9208ac495314b8d1df0a1ed9ccec418.bindPopup(popup_be5d056208bcd99c4d8b9015f9bfc5c5)\n",
              "        ;\n",
              "\n",
              "        \n",
              "    \n",
              "    \n",
              "            var marker_e90e87d0be303a96049acc8de71f1812 = L.marker(\n",
              "                [-22.505, -43.1789],\n",
              "                {}\n",
              "            ).addTo(map_7dd9d8ca2102085c482ee5b33e462208);\n",
              "        \n",
              "    \n",
              "            var icon_a7dccb524235fca8105cfae59a784a28 = L.AwesomeMarkers.icon(\n",
              "                {&quot;extraClasses&quot;: &quot;fa-rotate-0&quot;, &quot;icon&quot;: &quot;info-sign&quot;, &quot;iconColor&quot;: &quot;white&quot;, &quot;markerColor&quot;: &quot;green&quot;, &quot;prefix&quot;: &quot;glyphicon&quot;}\n",
              "            );\n",
              "            marker_e90e87d0be303a96049acc8de71f1812.setIcon(icon_a7dccb524235fca8105cfae59a784a28);\n",
              "        \n",
              "    \n",
              "        var popup_1dce75462893fe6d2c63479d83bc84f0 = L.popup({&quot;maxWidth&quot;: &quot;100%&quot;});\n",
              "\n",
              "        \n",
              "            \n",
              "                var html_a4290cb2d0a8d59d79b1e15603505e78 = $(`&lt;div id=&quot;html_a4290cb2d0a8d59d79b1e15603505e78&quot; style=&quot;width: 100.0%; height: 100.0%;&quot;&gt;Petrópolis&lt;/div&gt;`)[0];\n",
              "                popup_1dce75462893fe6d2c63479d83bc84f0.setContent(html_a4290cb2d0a8d59d79b1e15603505e78);\n",
              "            \n",
              "        \n",
              "\n",
              "        marker_e90e87d0be303a96049acc8de71f1812.bindPopup(popup_1dce75462893fe6d2c63479d83bc84f0)\n",
              "        ;\n",
              "\n",
              "        \n",
              "    \n",
              "    \n",
              "            var marker_d766c985962d5e87a6dd82108327d552 = L.marker(\n",
              "                [-22.7252, -47.6493],\n",
              "                {}\n",
              "            ).addTo(map_7dd9d8ca2102085c482ee5b33e462208);\n",
              "        \n",
              "    \n",
              "            var icon_572cb0819e3529d11a5c07ed6fee2882 = L.AwesomeMarkers.icon(\n",
              "                {&quot;extraClasses&quot;: &quot;fa-rotate-0&quot;, &quot;icon&quot;: &quot;info-sign&quot;, &quot;iconColor&quot;: &quot;white&quot;, &quot;markerColor&quot;: &quot;red&quot;, &quot;prefix&quot;: &quot;glyphicon&quot;}\n",
              "            );\n",
              "            marker_d766c985962d5e87a6dd82108327d552.setIcon(icon_572cb0819e3529d11a5c07ed6fee2882);\n",
              "        \n",
              "    \n",
              "        var popup_b05dc80ca3f95ae99660e51d0a7f8f5b = L.popup({&quot;maxWidth&quot;: &quot;100%&quot;});\n",
              "\n",
              "        \n",
              "            \n",
              "                var html_d79b78064f6dfe7229771f9c710b2d2d = $(`&lt;div id=&quot;html_d79b78064f6dfe7229771f9c710b2d2d&quot; style=&quot;width: 100.0%; height: 100.0%;&quot;&gt;Piracicaba&lt;/div&gt;`)[0];\n",
              "                popup_b05dc80ca3f95ae99660e51d0a7f8f5b.setContent(html_d79b78064f6dfe7229771f9c710b2d2d);\n",
              "            \n",
              "        \n",
              "\n",
              "        marker_d766c985962d5e87a6dd82108327d552.bindPopup(popup_b05dc80ca3f95ae99660e51d0a7f8f5b)\n",
              "        ;\n",
              "\n",
              "        \n",
              "    \n",
              "    \n",
              "            var marker_e12e6e1e90c196cd42ceb0b8ab8d5e06 = L.marker(\n",
              "                [-6.77, -37.8019],\n",
              "                {}\n",
              "            ).addTo(map_7dd9d8ca2102085c482ee5b33e462208);\n",
              "        \n",
              "    \n",
              "            var icon_cc8ff51dabf30a931ae586e033e3cabc = L.AwesomeMarkers.icon(\n",
              "                {&quot;extraClasses&quot;: &quot;fa-rotate-0&quot;, &quot;icon&quot;: &quot;info-sign&quot;, &quot;iconColor&quot;: &quot;white&quot;, &quot;markerColor&quot;: &quot;green&quot;, &quot;prefix&quot;: &quot;glyphicon&quot;}\n",
              "            );\n",
              "            marker_e12e6e1e90c196cd42ceb0b8ab8d5e06.setIcon(icon_cc8ff51dabf30a931ae586e033e3cabc);\n",
              "        \n",
              "    \n",
              "        var popup_f2e49e9ff393aef535ab211c13965d32 = L.popup({&quot;maxWidth&quot;: &quot;100%&quot;});\n",
              "\n",
              "        \n",
              "            \n",
              "                var html_4c6a7cf284a9208c0db3d3b70dbcabfe = $(`&lt;div id=&quot;html_4c6a7cf284a9208c0db3d3b70dbcabfe&quot; style=&quot;width: 100.0%; height: 100.0%;&quot;&gt;Pombal&lt;/div&gt;`)[0];\n",
              "                popup_f2e49e9ff393aef535ab211c13965d32.setContent(html_4c6a7cf284a9208c0db3d3b70dbcabfe);\n",
              "            \n",
              "        \n",
              "\n",
              "        marker_e12e6e1e90c196cd42ceb0b8ab8d5e06.bindPopup(popup_f2e49e9ff393aef535ab211c13965d32)\n",
              "        ;\n",
              "\n",
              "        \n",
              "    \n",
              "    \n",
              "            var marker_8db0be57525db11191df9c8e11ef2f30 = L.marker(\n",
              "                [-30.0328, -51.23],\n",
              "                {}\n",
              "            ).addTo(map_7dd9d8ca2102085c482ee5b33e462208);\n",
              "        \n",
              "    \n",
              "            var icon_17daae65ef8465a4cff529a32c272cb6 = L.AwesomeMarkers.icon(\n",
              "                {&quot;extraClasses&quot;: &quot;fa-rotate-0&quot;, &quot;icon&quot;: &quot;info-sign&quot;, &quot;iconColor&quot;: &quot;white&quot;, &quot;markerColor&quot;: &quot;green&quot;, &quot;prefix&quot;: &quot;glyphicon&quot;}\n",
              "            );\n",
              "            marker_8db0be57525db11191df9c8e11ef2f30.setIcon(icon_17daae65ef8465a4cff529a32c272cb6);\n",
              "        \n",
              "    \n",
              "        var popup_6dc49b1ce690ae1f1ff5682fb588d48e = L.popup({&quot;maxWidth&quot;: &quot;100%&quot;});\n",
              "\n",
              "        \n",
              "            \n",
              "                var html_74040eb66ef94f2e1260657186ddece8 = $(`&lt;div id=&quot;html_74040eb66ef94f2e1260657186ddece8&quot; style=&quot;width: 100.0%; height: 100.0%;&quot;&gt;Porto Alegre&lt;/div&gt;`)[0];\n",
              "                popup_6dc49b1ce690ae1f1ff5682fb588d48e.setContent(html_74040eb66ef94f2e1260657186ddece8);\n",
              "            \n",
              "        \n",
              "\n",
              "        marker_8db0be57525db11191df9c8e11ef2f30.bindPopup(popup_6dc49b1ce690ae1f1ff5682fb588d48e)\n",
              "        ;\n",
              "\n",
              "        \n",
              "    \n",
              "    \n",
              "            var marker_3d1e949965c888da3f49e62675dc4438 = L.marker(\n",
              "                [-22.5269, -41.945],\n",
              "                {}\n",
              "            ).addTo(map_7dd9d8ca2102085c482ee5b33e462208);\n",
              "        \n",
              "    \n",
              "            var icon_2c667418576a17beb7a348b0468a3497 = L.AwesomeMarkers.icon(\n",
              "                {&quot;extraClasses&quot;: &quot;fa-rotate-0&quot;, &quot;icon&quot;: &quot;info-sign&quot;, &quot;iconColor&quot;: &quot;white&quot;, &quot;markerColor&quot;: &quot;green&quot;, &quot;prefix&quot;: &quot;glyphicon&quot;}\n",
              "            );\n",
              "            marker_3d1e949965c888da3f49e62675dc4438.setIcon(icon_2c667418576a17beb7a348b0468a3497);\n",
              "        \n",
              "    \n",
              "        var popup_b87175df82a4aee68fef449905629377 = L.popup({&quot;maxWidth&quot;: &quot;100%&quot;});\n",
              "\n",
              "        \n",
              "            \n",
              "                var html_bcd3809e7c6a6a8ff908af7a6fe6aff8 = $(`&lt;div id=&quot;html_bcd3809e7c6a6a8ff908af7a6fe6aff8&quot; style=&quot;width: 100.0%; height: 100.0%;&quot;&gt;Rio das Ostras&lt;/div&gt;`)[0];\n",
              "                popup_b87175df82a4aee68fef449905629377.setContent(html_bcd3809e7c6a6a8ff908af7a6fe6aff8);\n",
              "            \n",
              "        \n",
              "\n",
              "        marker_3d1e949965c888da3f49e62675dc4438.bindPopup(popup_b87175df82a4aee68fef449905629377)\n",
              "        ;\n",
              "\n",
              "        \n",
              "    \n",
              "    \n",
              "            var marker_a06ebefe7a625e06a04ed9de18baf955 = L.marker(\n",
              "                [-22.9111, -43.2056],\n",
              "                {}\n",
              "            ).addTo(map_7dd9d8ca2102085c482ee5b33e462208);\n",
              "        \n",
              "    \n",
              "            var icon_14c15a6f8d149649fe1291eca8d46845 = L.AwesomeMarkers.icon(\n",
              "                {&quot;extraClasses&quot;: &quot;fa-rotate-0&quot;, &quot;icon&quot;: &quot;info-sign&quot;, &quot;iconColor&quot;: &quot;white&quot;, &quot;markerColor&quot;: &quot;green&quot;, &quot;prefix&quot;: &quot;glyphicon&quot;}\n",
              "            );\n",
              "            marker_a06ebefe7a625e06a04ed9de18baf955.setIcon(icon_14c15a6f8d149649fe1291eca8d46845);\n",
              "        \n",
              "    \n",
              "        var popup_b6a84e185f1eeca10e05a7143919ff32 = L.popup({&quot;maxWidth&quot;: &quot;100%&quot;});\n",
              "\n",
              "        \n",
              "            \n",
              "                var html_e143f32c6863f8721e9c86d5f2bbbf34 = $(`&lt;div id=&quot;html_e143f32c6863f8721e9c86d5f2bbbf34&quot; style=&quot;width: 100.0%; height: 100.0%;&quot;&gt;Rio de Janeiro&lt;/div&gt;`)[0];\n",
              "                popup_b6a84e185f1eeca10e05a7143919ff32.setContent(html_e143f32c6863f8721e9c86d5f2bbbf34);\n",
              "            \n",
              "        \n",
              "\n",
              "        marker_a06ebefe7a625e06a04ed9de18baf955.bindPopup(popup_b6a84e185f1eeca10e05a7143919ff32)\n",
              "        ;\n",
              "\n",
              "        \n",
              "    \n",
              "    \n",
              "            var marker_44d9a947e8a1f1b375fc319741b97dfc = L.marker(\n",
              "                [-32.035, -52.0989],\n",
              "                {}\n",
              "            ).addTo(map_7dd9d8ca2102085c482ee5b33e462208);\n",
              "        \n",
              "    \n",
              "            var icon_998ed04740f8c4bb5673dcc32255418b = L.AwesomeMarkers.icon(\n",
              "                {&quot;extraClasses&quot;: &quot;fa-rotate-0&quot;, &quot;icon&quot;: &quot;info-sign&quot;, &quot;iconColor&quot;: &quot;white&quot;, &quot;markerColor&quot;: &quot;red&quot;, &quot;prefix&quot;: &quot;glyphicon&quot;}\n",
              "            );\n",
              "            marker_44d9a947e8a1f1b375fc319741b97dfc.setIcon(icon_998ed04740f8c4bb5673dcc32255418b);\n",
              "        \n",
              "    \n",
              "        var popup_5749dc898ced60b89e13344caab08cd7 = L.popup({&quot;maxWidth&quot;: &quot;100%&quot;});\n",
              "\n",
              "        \n",
              "            \n",
              "                var html_4c63fcc25d75a47585708483dc31a33e = $(`&lt;div id=&quot;html_4c63fcc25d75a47585708483dc31a33e&quot; style=&quot;width: 100.0%; height: 100.0%;&quot;&gt;Rio Grande&lt;/div&gt;`)[0];\n",
              "                popup_5749dc898ced60b89e13344caab08cd7.setContent(html_4c63fcc25d75a47585708483dc31a33e);\n",
              "            \n",
              "        \n",
              "\n",
              "        marker_44d9a947e8a1f1b375fc319741b97dfc.bindPopup(popup_5749dc898ced60b89e13344caab08cd7)\n",
              "        ;\n",
              "\n",
              "        \n",
              "    \n",
              "    \n",
              "            var marker_8622a5efc12aca07d34a7b759144b39a = L.marker(\n",
              "                [-19.1939, -46.2469],\n",
              "                {}\n",
              "            ).addTo(map_7dd9d8ca2102085c482ee5b33e462208);\n",
              "        \n",
              "    \n",
              "            var icon_59e436d1a4c83e3ceb82bdcf2910c4c5 = L.AwesomeMarkers.icon(\n",
              "                {&quot;extraClasses&quot;: &quot;fa-rotate-0&quot;, &quot;icon&quot;: &quot;info-sign&quot;, &quot;iconColor&quot;: &quot;white&quot;, &quot;markerColor&quot;: &quot;red&quot;, &quot;prefix&quot;: &quot;glyphicon&quot;}\n",
              "            );\n",
              "            marker_8622a5efc12aca07d34a7b759144b39a.setIcon(icon_59e436d1a4c83e3ceb82bdcf2910c4c5);\n",
              "        \n",
              "    \n",
              "        var popup_0506050807d9f562d42f9648282462b6 = L.popup({&quot;maxWidth&quot;: &quot;100%&quot;});\n",
              "\n",
              "        \n",
              "            \n",
              "                var html_2813860c2820f6a87bfa799026a3a688 = $(`&lt;div id=&quot;html_2813860c2820f6a87bfa799026a3a688&quot; style=&quot;width: 100.0%; height: 100.0%;&quot;&gt;Rio Paranaíba&lt;/div&gt;`)[0];\n",
              "                popup_0506050807d9f562d42f9648282462b6.setContent(html_2813860c2820f6a87bfa799026a3a688);\n",
              "            \n",
              "        \n",
              "\n",
              "        marker_8622a5efc12aca07d34a7b759144b39a.bindPopup(popup_0506050807d9f562d42f9648282462b6)\n",
              "        ;\n",
              "\n",
              "        \n",
              "    \n",
              "    \n",
              "            var marker_26226bf721d1a7cd3acf2d4de1631361 = L.marker(\n",
              "                [-29.6839, -53.8069],\n",
              "                {}\n",
              "            ).addTo(map_7dd9d8ca2102085c482ee5b33e462208);\n",
              "        \n",
              "    \n",
              "            var icon_46ab1b9a07d059f57196285040b242c0 = L.AwesomeMarkers.icon(\n",
              "                {&quot;extraClasses&quot;: &quot;fa-rotate-0&quot;, &quot;icon&quot;: &quot;info-sign&quot;, &quot;iconColor&quot;: &quot;white&quot;, &quot;markerColor&quot;: &quot;blue&quot;, &quot;prefix&quot;: &quot;glyphicon&quot;}\n",
              "            );\n",
              "            marker_26226bf721d1a7cd3acf2d4de1631361.setIcon(icon_46ab1b9a07d059f57196285040b242c0);\n",
              "        \n",
              "    \n",
              "        var popup_5b074511df5dcc97b491a409a3d2800a = L.popup({&quot;maxWidth&quot;: &quot;100%&quot;});\n",
              "\n",
              "        \n",
              "            \n",
              "                var html_cd95f26c397fd781871ff050a4bd0e2a = $(`&lt;div id=&quot;html_cd95f26c397fd781871ff050a4bd0e2a&quot; style=&quot;width: 100.0%; height: 100.0%;&quot;&gt;Santa Maria&lt;/div&gt;`)[0];\n",
              "                popup_5b074511df5dcc97b491a409a3d2800a.setContent(html_cd95f26c397fd781871ff050a4bd0e2a);\n",
              "            \n",
              "        \n",
              "\n",
              "        marker_26226bf721d1a7cd3acf2d4de1631361.bindPopup(popup_5b074511df5dcc97b491a409a3d2800a)\n",
              "        ;\n",
              "\n",
              "        \n",
              "    \n",
              "    \n",
              "            var marker_ca497af0aff4f584b93e63dc91a6b09d = L.marker(\n",
              "                [-22.0178, -47.8908],\n",
              "                {}\n",
              "            ).addTo(map_7dd9d8ca2102085c482ee5b33e462208);\n",
              "        \n",
              "    \n",
              "            var icon_7fc3b2577d6bbaa4516202d4c64f73c6 = L.AwesomeMarkers.icon(\n",
              "                {&quot;extraClasses&quot;: &quot;fa-rotate-0&quot;, &quot;icon&quot;: &quot;info-sign&quot;, &quot;iconColor&quot;: &quot;white&quot;, &quot;markerColor&quot;: &quot;red&quot;, &quot;prefix&quot;: &quot;glyphicon&quot;}\n",
              "            );\n",
              "            marker_ca497af0aff4f584b93e63dc91a6b09d.setIcon(icon_7fc3b2577d6bbaa4516202d4c64f73c6);\n",
              "        \n",
              "    \n",
              "        var popup_a6a4978c19c825df95b7414d106bd897 = L.popup({&quot;maxWidth&quot;: &quot;100%&quot;});\n",
              "\n",
              "        \n",
              "            \n",
              "                var html_262c1735925f67ef89d7f50953b8f04c = $(`&lt;div id=&quot;html_262c1735925f67ef89d7f50953b8f04c&quot; style=&quot;width: 100.0%; height: 100.0%;&quot;&gt;nan&lt;/div&gt;`)[0];\n",
              "                popup_a6a4978c19c825df95b7414d106bd897.setContent(html_262c1735925f67ef89d7f50953b8f04c);\n",
              "            \n",
              "        \n",
              "\n",
              "        marker_ca497af0aff4f584b93e63dc91a6b09d.bindPopup(popup_a6a4978c19c825df95b7414d106bd897)\n",
              "        ;\n",
              "\n",
              "        \n",
              "    \n",
              "    \n",
              "            var marker_12d448cb423533c03313a25c77a0ec50 = L.marker(\n",
              "                [-21.1358, -44.2619],\n",
              "                {}\n",
              "            ).addTo(map_7dd9d8ca2102085c482ee5b33e462208);\n",
              "        \n",
              "    \n",
              "            var icon_37ea8e0fe5b242060130ed95ce22f7b3 = L.AwesomeMarkers.icon(\n",
              "                {&quot;extraClasses&quot;: &quot;fa-rotate-0&quot;, &quot;icon&quot;: &quot;info-sign&quot;, &quot;iconColor&quot;: &quot;white&quot;, &quot;markerColor&quot;: &quot;green&quot;, &quot;prefix&quot;: &quot;glyphicon&quot;}\n",
              "            );\n",
              "            marker_12d448cb423533c03313a25c77a0ec50.setIcon(icon_37ea8e0fe5b242060130ed95ce22f7b3);\n",
              "        \n",
              "    \n",
              "        var popup_0bd40ed89a0ebabfec0b680697b07d63 = L.popup({&quot;maxWidth&quot;: &quot;100%&quot;});\n",
              "\n",
              "        \n",
              "            \n",
              "                var html_7f177faa05042334d6636c0b5c93a2c4 = $(`&lt;div id=&quot;html_7f177faa05042334d6636c0b5c93a2c4&quot; style=&quot;width: 100.0%; height: 100.0%;&quot;&gt;São Carlos&lt;/div&gt;`)[0];\n",
              "                popup_0bd40ed89a0ebabfec0b680697b07d63.setContent(html_7f177faa05042334d6636c0b5c93a2c4);\n",
              "            \n",
              "        \n",
              "\n",
              "        marker_12d448cb423533c03313a25c77a0ec50.bindPopup(popup_0bd40ed89a0ebabfec0b680697b07d63)\n",
              "        ;\n",
              "\n",
              "        \n",
              "    \n",
              "    \n",
              "            var marker_85089f330db12246cb0f84f45c618872 = L.marker(\n",
              "                [-19.4658, -44.2469],\n",
              "                {}\n",
              "            ).addTo(map_7dd9d8ca2102085c482ee5b33e462208);\n",
              "        \n",
              "    \n",
              "            var icon_468cc6ad250d66b665b7d991883b981e = L.AwesomeMarkers.icon(\n",
              "                {&quot;extraClasses&quot;: &quot;fa-rotate-0&quot;, &quot;icon&quot;: &quot;info-sign&quot;, &quot;iconColor&quot;: &quot;white&quot;, &quot;markerColor&quot;: &quot;green&quot;, &quot;prefix&quot;: &quot;glyphicon&quot;}\n",
              "            );\n",
              "            marker_85089f330db12246cb0f84f45c618872.setIcon(icon_468cc6ad250d66b665b7d991883b981e);\n",
              "        \n",
              "    \n",
              "        var popup_57226e677e7248b6dc9b5ca9fa28f59e = L.popup({&quot;maxWidth&quot;: &quot;100%&quot;});\n",
              "\n",
              "        \n",
              "            \n",
              "                var html_5d19612798d43369e4f6248078fe4865 = $(`&lt;div id=&quot;html_5d19612798d43369e4f6248078fe4865&quot; style=&quot;width: 100.0%; height: 100.0%;&quot;&gt;São João del-Rei&lt;/div&gt;`)[0];\n",
              "                popup_57226e677e7248b6dc9b5ca9fa28f59e.setContent(html_5d19612798d43369e4f6248078fe4865);\n",
              "            \n",
              "        \n",
              "\n",
              "        marker_85089f330db12246cb0f84f45c618872.bindPopup(popup_57226e677e7248b6dc9b5ca9fa28f59e)\n",
              "        ;\n",
              "\n",
              "        \n",
              "    \n",
              "    \n",
              "            var marker_562d93e4bce127a13e7e6090b751ffd2 = L.marker(\n",
              "                [-23.5019, -47.4578],\n",
              "                {}\n",
              "            ).addTo(map_7dd9d8ca2102085c482ee5b33e462208);\n",
              "        \n",
              "    \n",
              "            var icon_9bd4d66ac1954564826cff8387535b8c = L.AwesomeMarkers.icon(\n",
              "                {&quot;extraClasses&quot;: &quot;fa-rotate-0&quot;, &quot;icon&quot;: &quot;info-sign&quot;, &quot;iconColor&quot;: &quot;white&quot;, &quot;markerColor&quot;: &quot;green&quot;, &quot;prefix&quot;: &quot;glyphicon&quot;}\n",
              "            );\n",
              "            marker_562d93e4bce127a13e7e6090b751ffd2.setIcon(icon_9bd4d66ac1954564826cff8387535b8c);\n",
              "        \n",
              "    \n",
              "        var popup_34b16a9970fc496f7592985248c79150 = L.popup({&quot;maxWidth&quot;: &quot;100%&quot;});\n",
              "\n",
              "        \n",
              "            \n",
              "                var html_17fd029a9da33ca1e5bf5f4e79fa11ae = $(`&lt;div id=&quot;html_17fd029a9da33ca1e5bf5f4e79fa11ae&quot; style=&quot;width: 100.0%; height: 100.0%;&quot;&gt;Sete Lagoas&lt;/div&gt;`)[0];\n",
              "                popup_34b16a9970fc496f7592985248c79150.setContent(html_17fd029a9da33ca1e5bf5f4e79fa11ae);\n",
              "            \n",
              "        \n",
              "\n",
              "        marker_562d93e4bce127a13e7e6090b751ffd2.bindPopup(popup_34b16a9970fc496f7592985248c79150)\n",
              "        ;\n",
              "\n",
              "        \n",
              "    \n",
              "    \n",
              "            var marker_d2e775cc0be81b72f41a7eca99066cb3 = L.marker(\n",
              "                [-5.0949, -42.8042],\n",
              "                {}\n",
              "            ).addTo(map_7dd9d8ca2102085c482ee5b33e462208);\n",
              "        \n",
              "    \n",
              "            var icon_479456de2c652725849ee1abd98bfd72 = L.AwesomeMarkers.icon(\n",
              "                {&quot;extraClasses&quot;: &quot;fa-rotate-0&quot;, &quot;icon&quot;: &quot;info-sign&quot;, &quot;iconColor&quot;: &quot;white&quot;, &quot;markerColor&quot;: &quot;green&quot;, &quot;prefix&quot;: &quot;glyphicon&quot;}\n",
              "            );\n",
              "            marker_d2e775cc0be81b72f41a7eca99066cb3.setIcon(icon_479456de2c652725849ee1abd98bfd72);\n",
              "        \n",
              "    \n",
              "        var popup_791034e6bf0ec74a4f50189408e7e2e8 = L.popup({&quot;maxWidth&quot;: &quot;100%&quot;});\n",
              "\n",
              "        \n",
              "            \n",
              "                var html_9b55f9a78e7f4054c56ec35c4825dc7c = $(`&lt;div id=&quot;html_9b55f9a78e7f4054c56ec35c4825dc7c&quot; style=&quot;width: 100.0%; height: 100.0%;&quot;&gt;Sorocaba&lt;/div&gt;`)[0];\n",
              "                popup_791034e6bf0ec74a4f50189408e7e2e8.setContent(html_9b55f9a78e7f4054c56ec35c4825dc7c);\n",
              "            \n",
              "        \n",
              "\n",
              "        marker_d2e775cc0be81b72f41a7eca99066cb3.bindPopup(popup_791034e6bf0ec74a4f50189408e7e2e8)\n",
              "        ;\n",
              "\n",
              "        \n",
              "    \n",
              "    \n",
              "            var marker_538f9cf3f5e9a78e9cbc1b133dd6d340 = L.marker(\n",
              "                [-3.7678, -49.6728],\n",
              "                {}\n",
              "            ).addTo(map_7dd9d8ca2102085c482ee5b33e462208);\n",
              "        \n",
              "    \n",
              "            var icon_ff860eb5d900781e91f0a930d68108c1 = L.AwesomeMarkers.icon(\n",
              "                {&quot;extraClasses&quot;: &quot;fa-rotate-0&quot;, &quot;icon&quot;: &quot;info-sign&quot;, &quot;iconColor&quot;: &quot;white&quot;, &quot;markerColor&quot;: &quot;red&quot;, &quot;prefix&quot;: &quot;glyphicon&quot;}\n",
              "            );\n",
              "            marker_538f9cf3f5e9a78e9cbc1b133dd6d340.setIcon(icon_ff860eb5d900781e91f0a930d68108c1);\n",
              "        \n",
              "    \n",
              "        var popup_5cb4bba383c8a4d328121b367cbb444a = L.popup({&quot;maxWidth&quot;: &quot;100%&quot;});\n",
              "\n",
              "        \n",
              "            \n",
              "                var html_49a10c37ee9ab00e3bc9ed31e653f75f = $(`&lt;div id=&quot;html_49a10c37ee9ab00e3bc9ed31e653f75f&quot; style=&quot;width: 100.0%; height: 100.0%;&quot;&gt;Teresina&lt;/div&gt;`)[0];\n",
              "                popup_5cb4bba383c8a4d328121b367cbb444a.setContent(html_49a10c37ee9ab00e3bc9ed31e653f75f);\n",
              "            \n",
              "        \n",
              "\n",
              "        marker_538f9cf3f5e9a78e9cbc1b133dd6d340.bindPopup(popup_5cb4bba383c8a4d328121b367cbb444a)\n",
              "        ;\n",
              "\n",
              "        \n",
              "    \n",
              "    \n",
              "            var marker_e407a5a3b0212b0d0b56af83c4a3989c = L.marker(\n",
              "                [-3.7678, -49.6728],\n",
              "                {}\n",
              "            ).addTo(map_7dd9d8ca2102085c482ee5b33e462208);\n",
              "        \n",
              "    \n",
              "            var icon_0af816e2cafe72602fbb6ba8a1319289 = L.AwesomeMarkers.icon(\n",
              "                {&quot;extraClasses&quot;: &quot;fa-rotate-0&quot;, &quot;icon&quot;: &quot;info-sign&quot;, &quot;iconColor&quot;: &quot;white&quot;, &quot;markerColor&quot;: &quot;orange&quot;, &quot;prefix&quot;: &quot;glyphicon&quot;}\n",
              "            );\n",
              "            marker_e407a5a3b0212b0d0b56af83c4a3989c.setIcon(icon_0af816e2cafe72602fbb6ba8a1319289);\n",
              "        \n",
              "    \n",
              "        var popup_fff94b15bbaa85ad948c9642f2220125 = L.popup({&quot;maxWidth&quot;: &quot;100%&quot;});\n",
              "\n",
              "        \n",
              "            \n",
              "                var html_5911a04cb04869518c4ce13afc2c4627 = $(`&lt;div id=&quot;html_5911a04cb04869518c4ce13afc2c4627&quot; style=&quot;width: 100.0%; height: 100.0%;&quot;&gt;Tucuruí&lt;/div&gt;`)[0];\n",
              "                popup_fff94b15bbaa85ad948c9642f2220125.setContent(html_5911a04cb04869518c4ce13afc2c4627);\n",
              "            \n",
              "        \n",
              "\n",
              "        marker_e407a5a3b0212b0d0b56af83c4a3989c.bindPopup(popup_fff94b15bbaa85ad948c9642f2220125)\n",
              "        ;\n",
              "\n",
              "        \n",
              "    \n",
              "    \n",
              "            var marker_2426c3058f9696690349ce37f06b13d3 = L.marker(\n",
              "                [-19.7483, -47.9319],\n",
              "                {}\n",
              "            ).addTo(map_7dd9d8ca2102085c482ee5b33e462208);\n",
              "        \n",
              "    \n",
              "            var icon_29f6d011653e3693f41f1ce5ffc45edc = L.AwesomeMarkers.icon(\n",
              "                {&quot;extraClasses&quot;: &quot;fa-rotate-0&quot;, &quot;icon&quot;: &quot;info-sign&quot;, &quot;iconColor&quot;: &quot;white&quot;, &quot;markerColor&quot;: &quot;red&quot;, &quot;prefix&quot;: &quot;glyphicon&quot;}\n",
              "            );\n",
              "            marker_2426c3058f9696690349ce37f06b13d3.setIcon(icon_29f6d011653e3693f41f1ce5ffc45edc);\n",
              "        \n",
              "    \n",
              "        var popup_9583be29d9bb212d2a473510a341dd58 = L.popup({&quot;maxWidth&quot;: &quot;100%&quot;});\n",
              "\n",
              "        \n",
              "            \n",
              "                var html_20b371051add38da8ce1153ad6a68c54 = $(`&lt;div id=&quot;html_20b371051add38da8ce1153ad6a68c54&quot; style=&quot;width: 100.0%; height: 100.0%;&quot;&gt;Tucuruí&lt;/div&gt;`)[0];\n",
              "                popup_9583be29d9bb212d2a473510a341dd58.setContent(html_20b371051add38da8ce1153ad6a68c54);\n",
              "            \n",
              "        \n",
              "\n",
              "        marker_2426c3058f9696690349ce37f06b13d3.bindPopup(popup_9583be29d9bb212d2a473510a341dd58)\n",
              "        ;\n",
              "\n",
              "        \n",
              "    \n",
              "    \n",
              "            var marker_0fadc679d00302426ab69bc29dcc43a9 = L.marker(\n",
              "                [-20.7539, -42.8819],\n",
              "                {}\n",
              "            ).addTo(map_7dd9d8ca2102085c482ee5b33e462208);\n",
              "        \n",
              "    \n",
              "            var icon_8f75129f2d7d893ef07e333b5b76966f = L.AwesomeMarkers.icon(\n",
              "                {&quot;extraClasses&quot;: &quot;fa-rotate-0&quot;, &quot;icon&quot;: &quot;info-sign&quot;, &quot;iconColor&quot;: &quot;white&quot;, &quot;markerColor&quot;: &quot;green&quot;, &quot;prefix&quot;: &quot;glyphicon&quot;}\n",
              "            );\n",
              "            marker_0fadc679d00302426ab69bc29dcc43a9.setIcon(icon_8f75129f2d7d893ef07e333b5b76966f);\n",
              "        \n",
              "    \n",
              "        var popup_cac1de5613a6b2be32586487deabd037 = L.popup({&quot;maxWidth&quot;: &quot;100%&quot;});\n",
              "\n",
              "        \n",
              "            \n",
              "                var html_acf93dde27aa894bc12703cbdf1a5ccd = $(`&lt;div id=&quot;html_acf93dde27aa894bc12703cbdf1a5ccd&quot; style=&quot;width: 100.0%; height: 100.0%;&quot;&gt;Uberaba&lt;/div&gt;`)[0];\n",
              "                popup_cac1de5613a6b2be32586487deabd037.setContent(html_acf93dde27aa894bc12703cbdf1a5ccd);\n",
              "            \n",
              "        \n",
              "\n",
              "        marker_0fadc679d00302426ab69bc29dcc43a9.bindPopup(popup_cac1de5613a6b2be32586487deabd037)\n",
              "        ;\n",
              "\n",
              "        \n",
              "    \n",
              "    \n",
              "            var marker_c4002754c924cdd4b69ff1c0080f66e0 = L.marker(\n",
              "                [-20.3106, -40.2972],\n",
              "                {}\n",
              "            ).addTo(map_7dd9d8ca2102085c482ee5b33e462208);\n",
              "        \n",
              "    \n",
              "            var icon_89f55e4e33aeaf83a4f708d56665053a = L.AwesomeMarkers.icon(\n",
              "                {&quot;extraClasses&quot;: &quot;fa-rotate-0&quot;, &quot;icon&quot;: &quot;info-sign&quot;, &quot;iconColor&quot;: &quot;white&quot;, &quot;markerColor&quot;: &quot;green&quot;, &quot;prefix&quot;: &quot;glyphicon&quot;}\n",
              "            );\n",
              "            marker_c4002754c924cdd4b69ff1c0080f66e0.setIcon(icon_89f55e4e33aeaf83a4f708d56665053a);\n",
              "        \n",
              "    \n",
              "        var popup_c5d4312b997755d31457c1b97cc965db = L.popup({&quot;maxWidth&quot;: &quot;100%&quot;});\n",
              "\n",
              "        \n",
              "            \n",
              "                var html_1c9c3c3ab5d5ac3851b272fb827420f8 = $(`&lt;div id=&quot;html_1c9c3c3ab5d5ac3851b272fb827420f8&quot; style=&quot;width: 100.0%; height: 100.0%;&quot;&gt;Viçosa&lt;/div&gt;`)[0];\n",
              "                popup_c5d4312b997755d31457c1b97cc965db.setContent(html_1c9c3c3ab5d5ac3851b272fb827420f8);\n",
              "            \n",
              "        \n",
              "\n",
              "        marker_c4002754c924cdd4b69ff1c0080f66e0.bindPopup(popup_c5d4312b997755d31457c1b97cc965db)\n",
              "        ;\n",
              "\n",
              "        \n",
              "    \n",
              "    \n",
              "            var marker_353d0345d5e41a09748c75d4618a4362 = L.marker(\n",
              "                [-15.7939, -47.8828],\n",
              "                {}\n",
              "            ).addTo(map_7dd9d8ca2102085c482ee5b33e462208);\n",
              "        \n",
              "    \n",
              "            var icon_ad3248c83e10da8fc7b93b308bbe458f = L.AwesomeMarkers.icon(\n",
              "                {&quot;extraClasses&quot;: &quot;fa-rotate-0&quot;, &quot;icon&quot;: &quot;info-sign&quot;, &quot;iconColor&quot;: &quot;white&quot;, &quot;markerColor&quot;: &quot;blue&quot;, &quot;prefix&quot;: &quot;glyphicon&quot;}\n",
              "            );\n",
              "            marker_353d0345d5e41a09748c75d4618a4362.setIcon(icon_ad3248c83e10da8fc7b93b308bbe458f);\n",
              "        \n",
              "    \n",
              "        var popup_1ab45ebee76b8c9c754b48f6271e4ae3 = L.popup({&quot;maxWidth&quot;: &quot;100%&quot;});\n",
              "\n",
              "        \n",
              "            \n",
              "                var html_d83b4fd63b694a3723e27acdb8a50e36 = $(`&lt;div id=&quot;html_d83b4fd63b694a3723e27acdb8a50e36&quot; style=&quot;width: 100.0%; height: 100.0%;&quot;&gt;Brasília&lt;/div&gt;`)[0];\n",
              "                popup_1ab45ebee76b8c9c754b48f6271e4ae3.setContent(html_d83b4fd63b694a3723e27acdb8a50e36);\n",
              "            \n",
              "        \n",
              "\n",
              "        marker_353d0345d5e41a09748c75d4618a4362.bindPopup(popup_1ab45ebee76b8c9c754b48f6271e4ae3)\n",
              "        ;\n",
              "\n",
              "        \n",
              "    \n",
              "    \n",
              "            var marker_4db7ff905e9ac47533e501a8c38f02b7 = L.marker(\n",
              "                [-6.26, -38.4439],\n",
              "                {}\n",
              "            ).addTo(map_7dd9d8ca2102085c482ee5b33e462208);\n",
              "        \n",
              "    \n",
              "            var icon_216d81e3c587ea27e7010f5512349895 = L.AwesomeMarkers.icon(\n",
              "                {&quot;extraClasses&quot;: &quot;fa-rotate-0&quot;, &quot;icon&quot;: &quot;info-sign&quot;, &quot;iconColor&quot;: &quot;white&quot;, &quot;markerColor&quot;: &quot;blue&quot;, &quot;prefix&quot;: &quot;glyphicon&quot;}\n",
              "            );\n",
              "            marker_4db7ff905e9ac47533e501a8c38f02b7.setIcon(icon_216d81e3c587ea27e7010f5512349895);\n",
              "        \n",
              "    \n",
              "        var popup_5b744c6897b6260955d624522340b0e7 = L.popup({&quot;maxWidth&quot;: &quot;100%&quot;});\n",
              "\n",
              "        \n",
              "            \n",
              "                var html_5816f31a4559607cff737e9f0c96ce16 = $(`&lt;div id=&quot;html_5816f31a4559607cff737e9f0c96ce16&quot; style=&quot;width: 100.0%; height: 100.0%;&quot;&gt;Coronel João Pessoa&lt;/div&gt;`)[0];\n",
              "                popup_5b744c6897b6260955d624522340b0e7.setContent(html_5816f31a4559607cff737e9f0c96ce16);\n",
              "            \n",
              "        \n",
              "\n",
              "        marker_4db7ff905e9ac47533e501a8c38f02b7.bindPopup(popup_5b744c6897b6260955d624522340b0e7)\n",
              "        ;\n",
              "\n",
              "        \n",
              "    \n",
              "    \n",
              "            var marker_d1add9249e58b45792b79d82aad2864f = L.marker(\n",
              "                [-23.5917, -48.0531],\n",
              "                {}\n",
              "            ).addTo(map_7dd9d8ca2102085c482ee5b33e462208);\n",
              "        \n",
              "    \n",
              "            var icon_cb987d6e4c9bd6060d12f12cdcde807c = L.AwesomeMarkers.icon(\n",
              "                {&quot;extraClasses&quot;: &quot;fa-rotate-0&quot;, &quot;icon&quot;: &quot;info-sign&quot;, &quot;iconColor&quot;: &quot;white&quot;, &quot;markerColor&quot;: &quot;blue&quot;, &quot;prefix&quot;: &quot;glyphicon&quot;}\n",
              "            );\n",
              "            marker_d1add9249e58b45792b79d82aad2864f.setIcon(icon_cb987d6e4c9bd6060d12f12cdcde807c);\n",
              "        \n",
              "    \n",
              "        var popup_0b67ad8d81c78ea3d0c69f72f216d4ba = L.popup({&quot;maxWidth&quot;: &quot;100%&quot;});\n",
              "\n",
              "        \n",
              "            \n",
              "                var html_68f33c7c68ad30bf6bd96cd24b49a773 = $(`&lt;div id=&quot;html_68f33c7c68ad30bf6bd96cd24b49a773&quot; style=&quot;width: 100.0%; height: 100.0%;&quot;&gt;Itapetininga&lt;/div&gt;`)[0];\n",
              "                popup_0b67ad8d81c78ea3d0c69f72f216d4ba.setContent(html_68f33c7c68ad30bf6bd96cd24b49a773);\n",
              "            \n",
              "        \n",
              "\n",
              "        marker_d1add9249e58b45792b79d82aad2864f.bindPopup(popup_0b67ad8d81c78ea3d0c69f72f216d4ba)\n",
              "        ;\n",
              "\n",
              "        \n",
              "    \n",
              "    \n",
              "            var marker_0758d50fedad1a2d4f17620501c8d589 = L.marker(\n",
              "                [-5.3689, -49.1178],\n",
              "                {}\n",
              "            ).addTo(map_7dd9d8ca2102085c482ee5b33e462208);\n",
              "        \n",
              "    \n",
              "            var icon_bf1be66f5b076e2a9670a541fb723c37 = L.AwesomeMarkers.icon(\n",
              "                {&quot;extraClasses&quot;: &quot;fa-rotate-0&quot;, &quot;icon&quot;: &quot;info-sign&quot;, &quot;iconColor&quot;: &quot;white&quot;, &quot;markerColor&quot;: &quot;blue&quot;, &quot;prefix&quot;: &quot;glyphicon&quot;}\n",
              "            );\n",
              "            marker_0758d50fedad1a2d4f17620501c8d589.setIcon(icon_bf1be66f5b076e2a9670a541fb723c37);\n",
              "        \n",
              "    \n",
              "        var popup_0a82cbf570687bc48fcf062627cf485c = L.popup({&quot;maxWidth&quot;: &quot;100%&quot;});\n",
              "\n",
              "        \n",
              "            \n",
              "                var html_5bc0cc69d3607d9acd673a6f76dceb2f = $(`&lt;div id=&quot;html_5bc0cc69d3607d9acd673a6f76dceb2f&quot; style=&quot;width: 100.0%; height: 100.0%;&quot;&gt;Marabá&lt;/div&gt;`)[0];\n",
              "                popup_0a82cbf570687bc48fcf062627cf485c.setContent(html_5bc0cc69d3607d9acd673a6f76dceb2f);\n",
              "            \n",
              "        \n",
              "\n",
              "        marker_0758d50fedad1a2d4f17620501c8d589.bindPopup(popup_0a82cbf570687bc48fcf062627cf485c)\n",
              "        ;\n",
              "\n",
              "        \n",
              "    \n",
              "    \n",
              "            tile_layer_f5886d3d885153e619ca65bfcabdd79a.addTo(map_7dd9d8ca2102085c482ee5b33e462208);\n",
              "        \n",
              "&lt;/script&gt;\n",
              "&lt;/html&gt;\" style=\"position:absolute;width:100%;height:100%;left:0;top:0;border:none !important;\" allowfullscreen webkitallowfullscreen mozallowfullscreen></iframe></div></div>"
            ],
            "text/plain": [
              "<folium.folium.Map at 0x7fa579ba8b90>"
            ]
          },
          "execution_count": 3,
          "metadata": {},
          "output_type": "execute_result"
        }
      ],
      "source": [
        "# Criar o mapa centrado em uma coordenada média\n",
        "mapa = folium.Map(location=[-15, -47], zoom_start=4)\n",
        "\n",
        "# Função para determinar a cor do marcador com base na situação\n",
        "def definir_cor(situacao):\n",
        "    if situacao == 'PAGO':\n",
        "        return 'green'\n",
        "    elif situacao == 'ATRASADO':\n",
        "        return 'red'\n",
        "    elif situacao == 'DIVERGÊNCIA':\n",
        "        return 'orange'\n",
        "    else:\n",
        "        return 'blue'\n",
        "\n",
        "# Adicionar marcadores ao mapa\n",
        "for _, row in df.iterrows():\n",
        "    folium.Marker(\n",
        "        location=[row['LATITUDE'], row['LONGITUDE']],\n",
        "        popup=row['Descrição núcleo'],\n",
        "        icon=folium.Icon(color=definir_cor(row['Situação']))\n",
        "    ).add_to(mapa)\n",
        "\n",
        "# Criar uma legenda personalizada com HTML\n",
        "legend_html = '''\n",
        "<div style=\"position: fixed;\n",
        "     bottom: 50px; left: 50px; width: 150px; height: 150px;\n",
        "     background-color: white; border:2px solid grey; z-index:9999; font-size:14px;\n",
        "     \">\n",
        "     <b>Legenda</b><br>\n",
        "     <i class=\"fa fa-map-marker fa-2x\" style=\"color:green\"></i> PAGO<br>\n",
        "     <i class=\"fa fa-map-marker fa-2x\" style=\"color:red\"></i> ATRASADO<br>\n",
        "     <i class=\"fa fa-map-marker fa-2x\" style=\"color:orange\"></i> DIVERGÊNCIA<br>\n",
        "     <i class=\"fa fa-map-marker fa-2x\" style=\"color:blue\"></i> OUTROS\n",
        "</div>\n",
        "'''\n",
        "\n",
        "# Adicionar a legenda ao mapa\n",
        "mapa.get_root().html.add_child(folium.Element(legend_html))\n",
        "\n",
        "# Salvar o mapa em um arquivo HTML\n",
        "mapa.save('content/mapa_situacao_nucleos.html')\n",
        "\n",
        "# Exibir o mapa\n",
        "mapa"
      ]
    },
    {
      "cell_type": "markdown",
      "metadata": {
        "id": "YrRLiwVu5_-w"
      },
      "source": [
        "# Gráfico de linhas para as Entradas e Saídas ao longo do ano."
      ]
    },
    {
      "cell_type": "code",
      "execution_count": 4,
      "metadata": {
        "colab": {
          "base_uri": "https://localhost:8080/"
        },
        "id": "Z_VwSXBDj8g5",
        "outputId": "e8796812-c4a7-409c-d6be-3fbf68538002"
      },
      "outputs": [
        {
          "name": "stdout",
          "output_type": "stream",
          "text": [
            "Saldo total: R$ -43855.82\n",
            "Total de receitas: R$ 38942.46\n",
            "Total de despesas: R$ -82798.28\n"
          ]
        }
      ],
      "source": [
        "# Carregar a planilha fornecida\n",
        "df = pd.read_excel(file_path, sheet_name='Entradas e saidas')\n",
        "\n",
        "# Converter a coluna \"Data\" para datetime e \"Pago_Recebido\" para numérico\n",
        "df['Data'] = pd.to_datetime(df['Data'], format='%d/%m/%y')\n",
        "df['Pago_Recebido'] = pd.to_numeric(df['Pago_Recebido'], errors='coerce')\n",
        "\n",
        "# Remover valores nulos na coluna Pago_Recebido\n",
        "df = df.dropna(subset=['Pago_Recebido'])\n",
        "\n",
        "# Criar colunas para identificar receitas e despesas\n",
        "df['Receitas'] = df['Pago_Recebido'].apply(lambda x: x if x > 0 else 0)\n",
        "df['Despesas'] = df['Pago_Recebido'].apply(lambda x: x if x < 0 else 0)\n",
        "\n",
        "# Agrupar receitas e despesas por mês\n",
        "df['Mes'] = df['Data'].dt.to_period('M')\n",
        "entradas_mes = df.groupby('Mes')['Receitas'].sum()\n",
        "saidas_mes = df.groupby('Mes')['Despesas'].sum()\n",
        "\n",
        "# Somar receitas e despesas para obter o total por mês\n",
        "soma_mes = entradas_mes + saidas_mes\n",
        "\n",
        "# Converter a coluna \"Pago_Recebido\" para tipo numérico\n",
        "df['Pago_Recebido'] = pd.to_numeric(df['Pago_Recebido'], errors='coerce')\n",
        "\n",
        "# Remover valores nulos que possam ter sido criados durante a conversão\n",
        "df = df.dropna(subset=['Pago_Recebido'])\n",
        "\n",
        "# Análise básica dos dados\n",
        "saldo_total = df['Pago_Recebido'].sum()\n",
        "print(f\"Saldo total: R$ {saldo_total:.2f}\")\n",
        "\n",
        "# Separar receitas e despesas\n",
        "receitas = df[df['Pago_Recebido'] > 0]\n",
        "despesas = df[df['Pago_Recebido'] < 0]\n",
        "\n",
        "# Total de receitas e despesas\n",
        "total_receitas = receitas['Pago_Recebido'].sum()\n",
        "total_despesas = despesas['Pago_Recebido'].sum()\n",
        "\n",
        "print(f\"Total de receitas: R$ {total_receitas:.2f}\")\n",
        "print(f\"Total de despesas: R$ {total_despesas:.2f}\")"
      ]
    },
    {
      "cell_type": "code",
      "execution_count": 5,
      "metadata": {
        "colab": {
          "base_uri": "https://localhost:8080/",
          "height": 542
        },
        "id": "Xcv3C3L1kRuA",
        "outputId": "7aec8168-95f2-4fdb-bfc0-be5f48539ec6"
      },
      "outputs": [
        {
          "data": {
            "application/vnd.plotly.v1+json": {
              "config": {
                "plotlyServerURL": "https://plot.ly"
              },
              "data": [
                {
                  "fill": "tozeroy",
                  "fillcolor": "rgba(135, 206, 235, 0.3)",
                  "line": {
                    "color": "skyblue",
                    "width": 2
                  },
                  "mode": "lines+markers",
                  "name": "Entradas",
                  "type": "scatter",
                  "x": [
                    "2023-01",
                    "2023-02",
                    "2023-03",
                    "2023-04",
                    "2023-05",
                    "2023-06",
                    "2023-07",
                    "2023-08",
                    "2023-09",
                    "2023-10",
                    "2023-11",
                    "2023-12"
                  ],
                  "y": [
                    838.4300000000001,
                    8343.5,
                    5376.15,
                    852.02,
                    977.5799999999999,
                    787.11,
                    484.40000000000003,
                    7636.64,
                    3879.89,
                    4630.64,
                    3932.14,
                    1203.96
                  ]
                },
                {
                  "fill": "tozeroy",
                  "fillcolor": "rgba(255, 160, 122, 0.3)",
                  "line": {
                    "color": "lightsalmon",
                    "width": 2
                  },
                  "mode": "lines+markers",
                  "name": "Saídas",
                  "type": "scatter",
                  "x": [
                    "2023-01",
                    "2023-02",
                    "2023-03",
                    "2023-04",
                    "2023-05",
                    "2023-06",
                    "2023-07",
                    "2023-08",
                    "2023-09",
                    "2023-10",
                    "2023-11",
                    "2023-12"
                  ],
                  "y": [
                    -23335.9,
                    -9160.560000000001,
                    -5630.860000000001,
                    -1802.8400000000001,
                    -1232.09,
                    -779.0699999999999,
                    -776.5,
                    -10776.27,
                    -3342.11,
                    -125.32,
                    -3822.7200000000003,
                    -86.13
                  ]
                },
                {
                  "line": {
                    "color": "darkgray",
                    "width": 2
                  },
                  "mode": "lines+markers",
                  "name": "Soma",
                  "type": "scatter",
                  "x": [
                    "2023-01",
                    "2023-02",
                    "2023-03",
                    "2023-04",
                    "2023-05",
                    "2023-06",
                    "2023-07",
                    "2023-08",
                    "2023-09",
                    "2023-10",
                    "2023-11",
                    "2023-12"
                  ],
                  "y": [
                    -22497.47,
                    -817.0600000000013,
                    -254.71000000000095,
                    -950.8200000000002,
                    -254.51,
                    8.040000000000077,
                    -292.09999999999997,
                    -3139.63,
                    537.7799999999997,
                    4505.320000000001,
                    109.41999999999962,
                    1117.83
                  ]
                }
              ],
              "layout": {
                "hovermode": "x unified",
                "legend": {
                  "x": 0.85,
                  "y": 0.05
                },
                "template": {
                  "data": {
                    "bar": [
                      {
                        "error_x": {
                          "color": "#2a3f5f"
                        },
                        "error_y": {
                          "color": "#2a3f5f"
                        },
                        "marker": {
                          "line": {
                            "color": "#E5ECF6",
                            "width": 0.5
                          },
                          "pattern": {
                            "fillmode": "overlay",
                            "size": 10,
                            "solidity": 0.2
                          }
                        },
                        "type": "bar"
                      }
                    ],
                    "barpolar": [
                      {
                        "marker": {
                          "line": {
                            "color": "#E5ECF6",
                            "width": 0.5
                          },
                          "pattern": {
                            "fillmode": "overlay",
                            "size": 10,
                            "solidity": 0.2
                          }
                        },
                        "type": "barpolar"
                      }
                    ],
                    "carpet": [
                      {
                        "aaxis": {
                          "endlinecolor": "#2a3f5f",
                          "gridcolor": "white",
                          "linecolor": "white",
                          "minorgridcolor": "white",
                          "startlinecolor": "#2a3f5f"
                        },
                        "baxis": {
                          "endlinecolor": "#2a3f5f",
                          "gridcolor": "white",
                          "linecolor": "white",
                          "minorgridcolor": "white",
                          "startlinecolor": "#2a3f5f"
                        },
                        "type": "carpet"
                      }
                    ],
                    "choropleth": [
                      {
                        "colorbar": {
                          "outlinewidth": 0,
                          "ticks": ""
                        },
                        "type": "choropleth"
                      }
                    ],
                    "contour": [
                      {
                        "colorbar": {
                          "outlinewidth": 0,
                          "ticks": ""
                        },
                        "colorscale": [
                          [
                            0,
                            "#0d0887"
                          ],
                          [
                            0.1111111111111111,
                            "#46039f"
                          ],
                          [
                            0.2222222222222222,
                            "#7201a8"
                          ],
                          [
                            0.3333333333333333,
                            "#9c179e"
                          ],
                          [
                            0.4444444444444444,
                            "#bd3786"
                          ],
                          [
                            0.5555555555555556,
                            "#d8576b"
                          ],
                          [
                            0.6666666666666666,
                            "#ed7953"
                          ],
                          [
                            0.7777777777777778,
                            "#fb9f3a"
                          ],
                          [
                            0.8888888888888888,
                            "#fdca26"
                          ],
                          [
                            1,
                            "#f0f921"
                          ]
                        ],
                        "type": "contour"
                      }
                    ],
                    "contourcarpet": [
                      {
                        "colorbar": {
                          "outlinewidth": 0,
                          "ticks": ""
                        },
                        "type": "contourcarpet"
                      }
                    ],
                    "heatmap": [
                      {
                        "colorbar": {
                          "outlinewidth": 0,
                          "ticks": ""
                        },
                        "colorscale": [
                          [
                            0,
                            "#0d0887"
                          ],
                          [
                            0.1111111111111111,
                            "#46039f"
                          ],
                          [
                            0.2222222222222222,
                            "#7201a8"
                          ],
                          [
                            0.3333333333333333,
                            "#9c179e"
                          ],
                          [
                            0.4444444444444444,
                            "#bd3786"
                          ],
                          [
                            0.5555555555555556,
                            "#d8576b"
                          ],
                          [
                            0.6666666666666666,
                            "#ed7953"
                          ],
                          [
                            0.7777777777777778,
                            "#fb9f3a"
                          ],
                          [
                            0.8888888888888888,
                            "#fdca26"
                          ],
                          [
                            1,
                            "#f0f921"
                          ]
                        ],
                        "type": "heatmap"
                      }
                    ],
                    "heatmapgl": [
                      {
                        "colorbar": {
                          "outlinewidth": 0,
                          "ticks": ""
                        },
                        "colorscale": [
                          [
                            0,
                            "#0d0887"
                          ],
                          [
                            0.1111111111111111,
                            "#46039f"
                          ],
                          [
                            0.2222222222222222,
                            "#7201a8"
                          ],
                          [
                            0.3333333333333333,
                            "#9c179e"
                          ],
                          [
                            0.4444444444444444,
                            "#bd3786"
                          ],
                          [
                            0.5555555555555556,
                            "#d8576b"
                          ],
                          [
                            0.6666666666666666,
                            "#ed7953"
                          ],
                          [
                            0.7777777777777778,
                            "#fb9f3a"
                          ],
                          [
                            0.8888888888888888,
                            "#fdca26"
                          ],
                          [
                            1,
                            "#f0f921"
                          ]
                        ],
                        "type": "heatmapgl"
                      }
                    ],
                    "histogram": [
                      {
                        "marker": {
                          "pattern": {
                            "fillmode": "overlay",
                            "size": 10,
                            "solidity": 0.2
                          }
                        },
                        "type": "histogram"
                      }
                    ],
                    "histogram2d": [
                      {
                        "colorbar": {
                          "outlinewidth": 0,
                          "ticks": ""
                        },
                        "colorscale": [
                          [
                            0,
                            "#0d0887"
                          ],
                          [
                            0.1111111111111111,
                            "#46039f"
                          ],
                          [
                            0.2222222222222222,
                            "#7201a8"
                          ],
                          [
                            0.3333333333333333,
                            "#9c179e"
                          ],
                          [
                            0.4444444444444444,
                            "#bd3786"
                          ],
                          [
                            0.5555555555555556,
                            "#d8576b"
                          ],
                          [
                            0.6666666666666666,
                            "#ed7953"
                          ],
                          [
                            0.7777777777777778,
                            "#fb9f3a"
                          ],
                          [
                            0.8888888888888888,
                            "#fdca26"
                          ],
                          [
                            1,
                            "#f0f921"
                          ]
                        ],
                        "type": "histogram2d"
                      }
                    ],
                    "histogram2dcontour": [
                      {
                        "colorbar": {
                          "outlinewidth": 0,
                          "ticks": ""
                        },
                        "colorscale": [
                          [
                            0,
                            "#0d0887"
                          ],
                          [
                            0.1111111111111111,
                            "#46039f"
                          ],
                          [
                            0.2222222222222222,
                            "#7201a8"
                          ],
                          [
                            0.3333333333333333,
                            "#9c179e"
                          ],
                          [
                            0.4444444444444444,
                            "#bd3786"
                          ],
                          [
                            0.5555555555555556,
                            "#d8576b"
                          ],
                          [
                            0.6666666666666666,
                            "#ed7953"
                          ],
                          [
                            0.7777777777777778,
                            "#fb9f3a"
                          ],
                          [
                            0.8888888888888888,
                            "#fdca26"
                          ],
                          [
                            1,
                            "#f0f921"
                          ]
                        ],
                        "type": "histogram2dcontour"
                      }
                    ],
                    "mesh3d": [
                      {
                        "colorbar": {
                          "outlinewidth": 0,
                          "ticks": ""
                        },
                        "type": "mesh3d"
                      }
                    ],
                    "parcoords": [
                      {
                        "line": {
                          "colorbar": {
                            "outlinewidth": 0,
                            "ticks": ""
                          }
                        },
                        "type": "parcoords"
                      }
                    ],
                    "pie": [
                      {
                        "automargin": true,
                        "type": "pie"
                      }
                    ],
                    "scatter": [
                      {
                        "fillpattern": {
                          "fillmode": "overlay",
                          "size": 10,
                          "solidity": 0.2
                        },
                        "type": "scatter"
                      }
                    ],
                    "scatter3d": [
                      {
                        "line": {
                          "colorbar": {
                            "outlinewidth": 0,
                            "ticks": ""
                          }
                        },
                        "marker": {
                          "colorbar": {
                            "outlinewidth": 0,
                            "ticks": ""
                          }
                        },
                        "type": "scatter3d"
                      }
                    ],
                    "scattercarpet": [
                      {
                        "marker": {
                          "colorbar": {
                            "outlinewidth": 0,
                            "ticks": ""
                          }
                        },
                        "type": "scattercarpet"
                      }
                    ],
                    "scattergeo": [
                      {
                        "marker": {
                          "colorbar": {
                            "outlinewidth": 0,
                            "ticks": ""
                          }
                        },
                        "type": "scattergeo"
                      }
                    ],
                    "scattergl": [
                      {
                        "marker": {
                          "colorbar": {
                            "outlinewidth": 0,
                            "ticks": ""
                          }
                        },
                        "type": "scattergl"
                      }
                    ],
                    "scattermapbox": [
                      {
                        "marker": {
                          "colorbar": {
                            "outlinewidth": 0,
                            "ticks": ""
                          }
                        },
                        "type": "scattermapbox"
                      }
                    ],
                    "scatterpolar": [
                      {
                        "marker": {
                          "colorbar": {
                            "outlinewidth": 0,
                            "ticks": ""
                          }
                        },
                        "type": "scatterpolar"
                      }
                    ],
                    "scatterpolargl": [
                      {
                        "marker": {
                          "colorbar": {
                            "outlinewidth": 0,
                            "ticks": ""
                          }
                        },
                        "type": "scatterpolargl"
                      }
                    ],
                    "scatterternary": [
                      {
                        "marker": {
                          "colorbar": {
                            "outlinewidth": 0,
                            "ticks": ""
                          }
                        },
                        "type": "scatterternary"
                      }
                    ],
                    "surface": [
                      {
                        "colorbar": {
                          "outlinewidth": 0,
                          "ticks": ""
                        },
                        "colorscale": [
                          [
                            0,
                            "#0d0887"
                          ],
                          [
                            0.1111111111111111,
                            "#46039f"
                          ],
                          [
                            0.2222222222222222,
                            "#7201a8"
                          ],
                          [
                            0.3333333333333333,
                            "#9c179e"
                          ],
                          [
                            0.4444444444444444,
                            "#bd3786"
                          ],
                          [
                            0.5555555555555556,
                            "#d8576b"
                          ],
                          [
                            0.6666666666666666,
                            "#ed7953"
                          ],
                          [
                            0.7777777777777778,
                            "#fb9f3a"
                          ],
                          [
                            0.8888888888888888,
                            "#fdca26"
                          ],
                          [
                            1,
                            "#f0f921"
                          ]
                        ],
                        "type": "surface"
                      }
                    ],
                    "table": [
                      {
                        "cells": {
                          "fill": {
                            "color": "#EBF0F8"
                          },
                          "line": {
                            "color": "white"
                          }
                        },
                        "header": {
                          "fill": {
                            "color": "#C8D4E3"
                          },
                          "line": {
                            "color": "white"
                          }
                        },
                        "type": "table"
                      }
                    ]
                  },
                  "layout": {
                    "annotationdefaults": {
                      "arrowcolor": "#2a3f5f",
                      "arrowhead": 0,
                      "arrowwidth": 1
                    },
                    "autotypenumbers": "strict",
                    "coloraxis": {
                      "colorbar": {
                        "outlinewidth": 0,
                        "ticks": ""
                      }
                    },
                    "colorscale": {
                      "diverging": [
                        [
                          0,
                          "#8e0152"
                        ],
                        [
                          0.1,
                          "#c51b7d"
                        ],
                        [
                          0.2,
                          "#de77ae"
                        ],
                        [
                          0.3,
                          "#f1b6da"
                        ],
                        [
                          0.4,
                          "#fde0ef"
                        ],
                        [
                          0.5,
                          "#f7f7f7"
                        ],
                        [
                          0.6,
                          "#e6f5d0"
                        ],
                        [
                          0.7,
                          "#b8e186"
                        ],
                        [
                          0.8,
                          "#7fbc41"
                        ],
                        [
                          0.9,
                          "#4d9221"
                        ],
                        [
                          1,
                          "#276419"
                        ]
                      ],
                      "sequential": [
                        [
                          0,
                          "#0d0887"
                        ],
                        [
                          0.1111111111111111,
                          "#46039f"
                        ],
                        [
                          0.2222222222222222,
                          "#7201a8"
                        ],
                        [
                          0.3333333333333333,
                          "#9c179e"
                        ],
                        [
                          0.4444444444444444,
                          "#bd3786"
                        ],
                        [
                          0.5555555555555556,
                          "#d8576b"
                        ],
                        [
                          0.6666666666666666,
                          "#ed7953"
                        ],
                        [
                          0.7777777777777778,
                          "#fb9f3a"
                        ],
                        [
                          0.8888888888888888,
                          "#fdca26"
                        ],
                        [
                          1,
                          "#f0f921"
                        ]
                      ],
                      "sequentialminus": [
                        [
                          0,
                          "#0d0887"
                        ],
                        [
                          0.1111111111111111,
                          "#46039f"
                        ],
                        [
                          0.2222222222222222,
                          "#7201a8"
                        ],
                        [
                          0.3333333333333333,
                          "#9c179e"
                        ],
                        [
                          0.4444444444444444,
                          "#bd3786"
                        ],
                        [
                          0.5555555555555556,
                          "#d8576b"
                        ],
                        [
                          0.6666666666666666,
                          "#ed7953"
                        ],
                        [
                          0.7777777777777778,
                          "#fb9f3a"
                        ],
                        [
                          0.8888888888888888,
                          "#fdca26"
                        ],
                        [
                          1,
                          "#f0f921"
                        ]
                      ]
                    },
                    "colorway": [
                      "#636efa",
                      "#EF553B",
                      "#00cc96",
                      "#ab63fa",
                      "#FFA15A",
                      "#19d3f3",
                      "#FF6692",
                      "#B6E880",
                      "#FF97FF",
                      "#FECB52"
                    ],
                    "font": {
                      "color": "#2a3f5f"
                    },
                    "geo": {
                      "bgcolor": "white",
                      "lakecolor": "white",
                      "landcolor": "#E5ECF6",
                      "showlakes": true,
                      "showland": true,
                      "subunitcolor": "white"
                    },
                    "hoverlabel": {
                      "align": "left"
                    },
                    "hovermode": "closest",
                    "mapbox": {
                      "style": "light"
                    },
                    "paper_bgcolor": "white",
                    "plot_bgcolor": "#E5ECF6",
                    "polar": {
                      "angularaxis": {
                        "gridcolor": "white",
                        "linecolor": "white",
                        "ticks": ""
                      },
                      "bgcolor": "#E5ECF6",
                      "radialaxis": {
                        "gridcolor": "white",
                        "linecolor": "white",
                        "ticks": ""
                      }
                    },
                    "scene": {
                      "xaxis": {
                        "backgroundcolor": "#E5ECF6",
                        "gridcolor": "white",
                        "gridwidth": 2,
                        "linecolor": "white",
                        "showbackground": true,
                        "ticks": "",
                        "zerolinecolor": "white"
                      },
                      "yaxis": {
                        "backgroundcolor": "#E5ECF6",
                        "gridcolor": "white",
                        "gridwidth": 2,
                        "linecolor": "white",
                        "showbackground": true,
                        "ticks": "",
                        "zerolinecolor": "white"
                      },
                      "zaxis": {
                        "backgroundcolor": "#E5ECF6",
                        "gridcolor": "white",
                        "gridwidth": 2,
                        "linecolor": "white",
                        "showbackground": true,
                        "ticks": "",
                        "zerolinecolor": "white"
                      }
                    },
                    "shapedefaults": {
                      "line": {
                        "color": "#2a3f5f"
                      }
                    },
                    "ternary": {
                      "aaxis": {
                        "gridcolor": "white",
                        "linecolor": "white",
                        "ticks": ""
                      },
                      "baxis": {
                        "gridcolor": "white",
                        "linecolor": "white",
                        "ticks": ""
                      },
                      "bgcolor": "#E5ECF6",
                      "caxis": {
                        "gridcolor": "white",
                        "linecolor": "white",
                        "ticks": ""
                      }
                    },
                    "title": {
                      "x": 0.05
                    },
                    "xaxis": {
                      "automargin": true,
                      "gridcolor": "white",
                      "linecolor": "white",
                      "ticks": "",
                      "title": {
                        "standoff": 15
                      },
                      "zerolinecolor": "white",
                      "zerolinewidth": 2
                    },
                    "yaxis": {
                      "automargin": true,
                      "gridcolor": "white",
                      "linecolor": "white",
                      "ticks": "",
                      "title": {
                        "standoff": 15
                      },
                      "zerolinecolor": "white",
                      "zerolinewidth": 2
                    }
                  }
                },
                "title": {
                  "text": "Performance ao Longo do Ano"
                },
                "xaxis": {
                  "tickangle": -45,
                  "ticktext": [
                    "2023-01",
                    "2023-02",
                    "2023-03",
                    "2023-04",
                    "2023-05",
                    "2023-06",
                    "2023-07",
                    "2023-08",
                    "2023-09",
                    "2023-10",
                    "2023-11",
                    "2023-12"
                  ],
                  "tickvals": [
                    "2023-01",
                    "2023-02",
                    "2023-03",
                    "2023-04",
                    "2023-05",
                    "2023-06",
                    "2023-07",
                    "2023-08",
                    "2023-09",
                    "2023-10",
                    "2023-11",
                    "2023-12"
                  ],
                  "title": {
                    "text": "Meses"
                  }
                },
                "yaxis": {
                  "gridcolor": "rgba(0,0,0,0.2)",
                  "showgrid": true,
                  "title": {
                    "text": "Valor (R$)"
                  }
                }
              }
            }
          },
          "metadata": {},
          "output_type": "display_data"
        }
      ],
      "source": [
        "fig = go.Figure()\n",
        "\n",
        "# Adicionar linha para entradas\n",
        "fig.add_trace(go.Scatter(\n",
        "    x=entradas_mes.index.astype(str),\n",
        "    y=entradas_mes,\n",
        "    mode='lines+markers',\n",
        "    name='Entradas',\n",
        "    line=dict(color='skyblue', width=2),\n",
        "    fill='tozeroy',  # Preencher a área abaixo da linha\n",
        "    fillcolor='rgba(135, 206, 235, 0.3)'  # Azul claro com transparência\n",
        "))\n",
        "\n",
        "# Adicionar linha para saídas\n",
        "fig.add_trace(go.Scatter(\n",
        "    x=saidas_mes.index.astype(str),\n",
        "    y=saidas_mes,\n",
        "    mode='lines+markers',\n",
        "    name='Saídas',\n",
        "    line=dict(color='lightsalmon', width=2),\n",
        "    fill='tozeroy',\n",
        "    fillcolor='rgba(255, 160, 122, 0.3)'  # Salmão claro com transparência\n",
        "))\n",
        "\n",
        "# Adicionar linha para a soma\n",
        "fig.add_trace(go.Scatter(\n",
        "    x=soma_mes.index.astype(str),\n",
        "    y=soma_mes,\n",
        "    mode='lines+markers',\n",
        "    name='Soma',\n",
        "    line=dict(color='darkgray', width=2)\n",
        "))\n",
        "\n",
        "# Atualizar layout\n",
        "fig.update_layout(\n",
        "    title='Performance ao Longo do Ano',\n",
        "    xaxis_title='Meses',\n",
        "    yaxis_title='Valor (R$)',\n",
        "    xaxis_tickangle=-45,\n",
        "    xaxis=dict(\n",
        "        tickvals=entradas_mes.index.astype(str),\n",
        "        ticktext=entradas_mes.index.astype(str),\n",
        "    ),\n",
        "    yaxis=dict(showgrid=True, gridcolor='rgba(0,0,0,0.2)'),\n",
        "    legend=dict(x=0.85, y=0.05),\n",
        "    hovermode='x unified'\n",
        ")\n",
        "\n",
        "# Exibir o gráfico\n",
        "fig.show()"
      ]
    },
    {
      "cell_type": "code",
      "execution_count": 6,
      "metadata": {
        "id": "UdBbcuyakZoL"
      },
      "outputs": [],
      "source": [
        "# Salvar o gráfico Plotly em um arquivo HTML\n",
        "fig.write_html('content/Performance_ao_longo_do_ano.html')"
      ]
    },
    {
      "cell_type": "markdown",
      "metadata": {
        "id": "cGovckd75pg8"
      },
      "source": [
        "# Gráfico em barras para as Entradas"
      ]
    },
    {
      "cell_type": "code",
      "execution_count": 7,
      "metadata": {
        "colab": {
          "base_uri": "https://localhost:8080/",
          "height": 542
        },
        "id": "f4h9er361YzB",
        "outputId": "7b1b4c19-3ac3-4558-d369-fda6363f162c"
      },
      "outputs": [
        {
          "data": {
            "application/vnd.plotly.v1+json": {
              "config": {
                "plotlyServerURL": "https://plot.ly"
              },
              "data": [
                {
                  "marker": {
                    "color": "skyblue"
                  },
                  "name": "Entradas",
                  "text": [
                    "R$838.43",
                    "R$8343.50",
                    "R$5376.15",
                    "R$852.02",
                    "R$977.58",
                    "R$787.11",
                    "R$484.40",
                    "R$7636.64",
                    "R$3879.89",
                    "R$4630.64",
                    "R$3932.14",
                    "R$1203.96"
                  ],
                  "textposition": "outside",
                  "type": "bar",
                  "x": [
                    "2023-01",
                    "2023-02",
                    "2023-03",
                    "2023-04",
                    "2023-05",
                    "2023-06",
                    "2023-07",
                    "2023-08",
                    "2023-09",
                    "2023-10",
                    "2023-11",
                    "2023-12"
                  ],
                  "y": [
                    838.4300000000001,
                    8343.5,
                    5376.15,
                    852.02,
                    977.5799999999999,
                    787.11,
                    484.40000000000003,
                    7636.64,
                    3879.89,
                    4630.64,
                    3932.14,
                    1203.96
                  ]
                }
              ],
              "layout": {
                "barmode": "group",
                "margin": {
                  "b": 50,
                  "l": 50,
                  "r": 50,
                  "t": 50
                },
                "template": {
                  "data": {
                    "bar": [
                      {
                        "error_x": {
                          "color": "#2a3f5f"
                        },
                        "error_y": {
                          "color": "#2a3f5f"
                        },
                        "marker": {
                          "line": {
                            "color": "#E5ECF6",
                            "width": 0.5
                          },
                          "pattern": {
                            "fillmode": "overlay",
                            "size": 10,
                            "solidity": 0.2
                          }
                        },
                        "type": "bar"
                      }
                    ],
                    "barpolar": [
                      {
                        "marker": {
                          "line": {
                            "color": "#E5ECF6",
                            "width": 0.5
                          },
                          "pattern": {
                            "fillmode": "overlay",
                            "size": 10,
                            "solidity": 0.2
                          }
                        },
                        "type": "barpolar"
                      }
                    ],
                    "carpet": [
                      {
                        "aaxis": {
                          "endlinecolor": "#2a3f5f",
                          "gridcolor": "white",
                          "linecolor": "white",
                          "minorgridcolor": "white",
                          "startlinecolor": "#2a3f5f"
                        },
                        "baxis": {
                          "endlinecolor": "#2a3f5f",
                          "gridcolor": "white",
                          "linecolor": "white",
                          "minorgridcolor": "white",
                          "startlinecolor": "#2a3f5f"
                        },
                        "type": "carpet"
                      }
                    ],
                    "choropleth": [
                      {
                        "colorbar": {
                          "outlinewidth": 0,
                          "ticks": ""
                        },
                        "type": "choropleth"
                      }
                    ],
                    "contour": [
                      {
                        "colorbar": {
                          "outlinewidth": 0,
                          "ticks": ""
                        },
                        "colorscale": [
                          [
                            0,
                            "#0d0887"
                          ],
                          [
                            0.1111111111111111,
                            "#46039f"
                          ],
                          [
                            0.2222222222222222,
                            "#7201a8"
                          ],
                          [
                            0.3333333333333333,
                            "#9c179e"
                          ],
                          [
                            0.4444444444444444,
                            "#bd3786"
                          ],
                          [
                            0.5555555555555556,
                            "#d8576b"
                          ],
                          [
                            0.6666666666666666,
                            "#ed7953"
                          ],
                          [
                            0.7777777777777778,
                            "#fb9f3a"
                          ],
                          [
                            0.8888888888888888,
                            "#fdca26"
                          ],
                          [
                            1,
                            "#f0f921"
                          ]
                        ],
                        "type": "contour"
                      }
                    ],
                    "contourcarpet": [
                      {
                        "colorbar": {
                          "outlinewidth": 0,
                          "ticks": ""
                        },
                        "type": "contourcarpet"
                      }
                    ],
                    "heatmap": [
                      {
                        "colorbar": {
                          "outlinewidth": 0,
                          "ticks": ""
                        },
                        "colorscale": [
                          [
                            0,
                            "#0d0887"
                          ],
                          [
                            0.1111111111111111,
                            "#46039f"
                          ],
                          [
                            0.2222222222222222,
                            "#7201a8"
                          ],
                          [
                            0.3333333333333333,
                            "#9c179e"
                          ],
                          [
                            0.4444444444444444,
                            "#bd3786"
                          ],
                          [
                            0.5555555555555556,
                            "#d8576b"
                          ],
                          [
                            0.6666666666666666,
                            "#ed7953"
                          ],
                          [
                            0.7777777777777778,
                            "#fb9f3a"
                          ],
                          [
                            0.8888888888888888,
                            "#fdca26"
                          ],
                          [
                            1,
                            "#f0f921"
                          ]
                        ],
                        "type": "heatmap"
                      }
                    ],
                    "heatmapgl": [
                      {
                        "colorbar": {
                          "outlinewidth": 0,
                          "ticks": ""
                        },
                        "colorscale": [
                          [
                            0,
                            "#0d0887"
                          ],
                          [
                            0.1111111111111111,
                            "#46039f"
                          ],
                          [
                            0.2222222222222222,
                            "#7201a8"
                          ],
                          [
                            0.3333333333333333,
                            "#9c179e"
                          ],
                          [
                            0.4444444444444444,
                            "#bd3786"
                          ],
                          [
                            0.5555555555555556,
                            "#d8576b"
                          ],
                          [
                            0.6666666666666666,
                            "#ed7953"
                          ],
                          [
                            0.7777777777777778,
                            "#fb9f3a"
                          ],
                          [
                            0.8888888888888888,
                            "#fdca26"
                          ],
                          [
                            1,
                            "#f0f921"
                          ]
                        ],
                        "type": "heatmapgl"
                      }
                    ],
                    "histogram": [
                      {
                        "marker": {
                          "pattern": {
                            "fillmode": "overlay",
                            "size": 10,
                            "solidity": 0.2
                          }
                        },
                        "type": "histogram"
                      }
                    ],
                    "histogram2d": [
                      {
                        "colorbar": {
                          "outlinewidth": 0,
                          "ticks": ""
                        },
                        "colorscale": [
                          [
                            0,
                            "#0d0887"
                          ],
                          [
                            0.1111111111111111,
                            "#46039f"
                          ],
                          [
                            0.2222222222222222,
                            "#7201a8"
                          ],
                          [
                            0.3333333333333333,
                            "#9c179e"
                          ],
                          [
                            0.4444444444444444,
                            "#bd3786"
                          ],
                          [
                            0.5555555555555556,
                            "#d8576b"
                          ],
                          [
                            0.6666666666666666,
                            "#ed7953"
                          ],
                          [
                            0.7777777777777778,
                            "#fb9f3a"
                          ],
                          [
                            0.8888888888888888,
                            "#fdca26"
                          ],
                          [
                            1,
                            "#f0f921"
                          ]
                        ],
                        "type": "histogram2d"
                      }
                    ],
                    "histogram2dcontour": [
                      {
                        "colorbar": {
                          "outlinewidth": 0,
                          "ticks": ""
                        },
                        "colorscale": [
                          [
                            0,
                            "#0d0887"
                          ],
                          [
                            0.1111111111111111,
                            "#46039f"
                          ],
                          [
                            0.2222222222222222,
                            "#7201a8"
                          ],
                          [
                            0.3333333333333333,
                            "#9c179e"
                          ],
                          [
                            0.4444444444444444,
                            "#bd3786"
                          ],
                          [
                            0.5555555555555556,
                            "#d8576b"
                          ],
                          [
                            0.6666666666666666,
                            "#ed7953"
                          ],
                          [
                            0.7777777777777778,
                            "#fb9f3a"
                          ],
                          [
                            0.8888888888888888,
                            "#fdca26"
                          ],
                          [
                            1,
                            "#f0f921"
                          ]
                        ],
                        "type": "histogram2dcontour"
                      }
                    ],
                    "mesh3d": [
                      {
                        "colorbar": {
                          "outlinewidth": 0,
                          "ticks": ""
                        },
                        "type": "mesh3d"
                      }
                    ],
                    "parcoords": [
                      {
                        "line": {
                          "colorbar": {
                            "outlinewidth": 0,
                            "ticks": ""
                          }
                        },
                        "type": "parcoords"
                      }
                    ],
                    "pie": [
                      {
                        "automargin": true,
                        "type": "pie"
                      }
                    ],
                    "scatter": [
                      {
                        "fillpattern": {
                          "fillmode": "overlay",
                          "size": 10,
                          "solidity": 0.2
                        },
                        "type": "scatter"
                      }
                    ],
                    "scatter3d": [
                      {
                        "line": {
                          "colorbar": {
                            "outlinewidth": 0,
                            "ticks": ""
                          }
                        },
                        "marker": {
                          "colorbar": {
                            "outlinewidth": 0,
                            "ticks": ""
                          }
                        },
                        "type": "scatter3d"
                      }
                    ],
                    "scattercarpet": [
                      {
                        "marker": {
                          "colorbar": {
                            "outlinewidth": 0,
                            "ticks": ""
                          }
                        },
                        "type": "scattercarpet"
                      }
                    ],
                    "scattergeo": [
                      {
                        "marker": {
                          "colorbar": {
                            "outlinewidth": 0,
                            "ticks": ""
                          }
                        },
                        "type": "scattergeo"
                      }
                    ],
                    "scattergl": [
                      {
                        "marker": {
                          "colorbar": {
                            "outlinewidth": 0,
                            "ticks": ""
                          }
                        },
                        "type": "scattergl"
                      }
                    ],
                    "scattermapbox": [
                      {
                        "marker": {
                          "colorbar": {
                            "outlinewidth": 0,
                            "ticks": ""
                          }
                        },
                        "type": "scattermapbox"
                      }
                    ],
                    "scatterpolar": [
                      {
                        "marker": {
                          "colorbar": {
                            "outlinewidth": 0,
                            "ticks": ""
                          }
                        },
                        "type": "scatterpolar"
                      }
                    ],
                    "scatterpolargl": [
                      {
                        "marker": {
                          "colorbar": {
                            "outlinewidth": 0,
                            "ticks": ""
                          }
                        },
                        "type": "scatterpolargl"
                      }
                    ],
                    "scatterternary": [
                      {
                        "marker": {
                          "colorbar": {
                            "outlinewidth": 0,
                            "ticks": ""
                          }
                        },
                        "type": "scatterternary"
                      }
                    ],
                    "surface": [
                      {
                        "colorbar": {
                          "outlinewidth": 0,
                          "ticks": ""
                        },
                        "colorscale": [
                          [
                            0,
                            "#0d0887"
                          ],
                          [
                            0.1111111111111111,
                            "#46039f"
                          ],
                          [
                            0.2222222222222222,
                            "#7201a8"
                          ],
                          [
                            0.3333333333333333,
                            "#9c179e"
                          ],
                          [
                            0.4444444444444444,
                            "#bd3786"
                          ],
                          [
                            0.5555555555555556,
                            "#d8576b"
                          ],
                          [
                            0.6666666666666666,
                            "#ed7953"
                          ],
                          [
                            0.7777777777777778,
                            "#fb9f3a"
                          ],
                          [
                            0.8888888888888888,
                            "#fdca26"
                          ],
                          [
                            1,
                            "#f0f921"
                          ]
                        ],
                        "type": "surface"
                      }
                    ],
                    "table": [
                      {
                        "cells": {
                          "fill": {
                            "color": "#EBF0F8"
                          },
                          "line": {
                            "color": "white"
                          }
                        },
                        "header": {
                          "fill": {
                            "color": "#C8D4E3"
                          },
                          "line": {
                            "color": "white"
                          }
                        },
                        "type": "table"
                      }
                    ]
                  },
                  "layout": {
                    "annotationdefaults": {
                      "arrowcolor": "#2a3f5f",
                      "arrowhead": 0,
                      "arrowwidth": 1
                    },
                    "autotypenumbers": "strict",
                    "coloraxis": {
                      "colorbar": {
                        "outlinewidth": 0,
                        "ticks": ""
                      }
                    },
                    "colorscale": {
                      "diverging": [
                        [
                          0,
                          "#8e0152"
                        ],
                        [
                          0.1,
                          "#c51b7d"
                        ],
                        [
                          0.2,
                          "#de77ae"
                        ],
                        [
                          0.3,
                          "#f1b6da"
                        ],
                        [
                          0.4,
                          "#fde0ef"
                        ],
                        [
                          0.5,
                          "#f7f7f7"
                        ],
                        [
                          0.6,
                          "#e6f5d0"
                        ],
                        [
                          0.7,
                          "#b8e186"
                        ],
                        [
                          0.8,
                          "#7fbc41"
                        ],
                        [
                          0.9,
                          "#4d9221"
                        ],
                        [
                          1,
                          "#276419"
                        ]
                      ],
                      "sequential": [
                        [
                          0,
                          "#0d0887"
                        ],
                        [
                          0.1111111111111111,
                          "#46039f"
                        ],
                        [
                          0.2222222222222222,
                          "#7201a8"
                        ],
                        [
                          0.3333333333333333,
                          "#9c179e"
                        ],
                        [
                          0.4444444444444444,
                          "#bd3786"
                        ],
                        [
                          0.5555555555555556,
                          "#d8576b"
                        ],
                        [
                          0.6666666666666666,
                          "#ed7953"
                        ],
                        [
                          0.7777777777777778,
                          "#fb9f3a"
                        ],
                        [
                          0.8888888888888888,
                          "#fdca26"
                        ],
                        [
                          1,
                          "#f0f921"
                        ]
                      ],
                      "sequentialminus": [
                        [
                          0,
                          "#0d0887"
                        ],
                        [
                          0.1111111111111111,
                          "#46039f"
                        ],
                        [
                          0.2222222222222222,
                          "#7201a8"
                        ],
                        [
                          0.3333333333333333,
                          "#9c179e"
                        ],
                        [
                          0.4444444444444444,
                          "#bd3786"
                        ],
                        [
                          0.5555555555555556,
                          "#d8576b"
                        ],
                        [
                          0.6666666666666666,
                          "#ed7953"
                        ],
                        [
                          0.7777777777777778,
                          "#fb9f3a"
                        ],
                        [
                          0.8888888888888888,
                          "#fdca26"
                        ],
                        [
                          1,
                          "#f0f921"
                        ]
                      ]
                    },
                    "colorway": [
                      "#636efa",
                      "#EF553B",
                      "#00cc96",
                      "#ab63fa",
                      "#FFA15A",
                      "#19d3f3",
                      "#FF6692",
                      "#B6E880",
                      "#FF97FF",
                      "#FECB52"
                    ],
                    "font": {
                      "color": "#2a3f5f"
                    },
                    "geo": {
                      "bgcolor": "white",
                      "lakecolor": "white",
                      "landcolor": "#E5ECF6",
                      "showlakes": true,
                      "showland": true,
                      "subunitcolor": "white"
                    },
                    "hoverlabel": {
                      "align": "left"
                    },
                    "hovermode": "closest",
                    "mapbox": {
                      "style": "light"
                    },
                    "paper_bgcolor": "white",
                    "plot_bgcolor": "#E5ECF6",
                    "polar": {
                      "angularaxis": {
                        "gridcolor": "white",
                        "linecolor": "white",
                        "ticks": ""
                      },
                      "bgcolor": "#E5ECF6",
                      "radialaxis": {
                        "gridcolor": "white",
                        "linecolor": "white",
                        "ticks": ""
                      }
                    },
                    "scene": {
                      "xaxis": {
                        "backgroundcolor": "#E5ECF6",
                        "gridcolor": "white",
                        "gridwidth": 2,
                        "linecolor": "white",
                        "showbackground": true,
                        "ticks": "",
                        "zerolinecolor": "white"
                      },
                      "yaxis": {
                        "backgroundcolor": "#E5ECF6",
                        "gridcolor": "white",
                        "gridwidth": 2,
                        "linecolor": "white",
                        "showbackground": true,
                        "ticks": "",
                        "zerolinecolor": "white"
                      },
                      "zaxis": {
                        "backgroundcolor": "#E5ECF6",
                        "gridcolor": "white",
                        "gridwidth": 2,
                        "linecolor": "white",
                        "showbackground": true,
                        "ticks": "",
                        "zerolinecolor": "white"
                      }
                    },
                    "shapedefaults": {
                      "line": {
                        "color": "#2a3f5f"
                      }
                    },
                    "ternary": {
                      "aaxis": {
                        "gridcolor": "white",
                        "linecolor": "white",
                        "ticks": ""
                      },
                      "baxis": {
                        "gridcolor": "white",
                        "linecolor": "white",
                        "ticks": ""
                      },
                      "bgcolor": "#E5ECF6",
                      "caxis": {
                        "gridcolor": "white",
                        "linecolor": "white",
                        "ticks": ""
                      }
                    },
                    "title": {
                      "x": 0.05
                    },
                    "xaxis": {
                      "automargin": true,
                      "gridcolor": "white",
                      "linecolor": "white",
                      "ticks": "",
                      "title": {
                        "standoff": 15
                      },
                      "zerolinecolor": "white",
                      "zerolinewidth": 2
                    },
                    "yaxis": {
                      "automargin": true,
                      "gridcolor": "white",
                      "linecolor": "white",
                      "ticks": "",
                      "title": {
                        "standoff": 15
                      },
                      "zerolinecolor": "white",
                      "zerolinewidth": 2
                    }
                  }
                },
                "title": {
                  "text": "Saídas Mensais",
                  "x": 0.5,
                  "xanchor": "center",
                  "yanchor": "top"
                },
                "xaxis": {
                  "tickangle": -30,
                  "ticktext": [
                    "2023-01",
                    "2023-02",
                    "2023-03",
                    "2023-04",
                    "2023-05",
                    "2023-06",
                    "2023-07",
                    "2023-08",
                    "2023-09",
                    "2023-10",
                    "2023-11",
                    "2023-12"
                  ],
                  "tickvals": [
                    "2023-01",
                    "2023-02",
                    "2023-03",
                    "2023-04",
                    "2023-05",
                    "2023-06",
                    "2023-07",
                    "2023-08",
                    "2023-09",
                    "2023-10",
                    "2023-11",
                    "2023-12"
                  ],
                  "title": {
                    "text": "Meses"
                  }
                },
                "yaxis": {
                  "title": {
                    "text": "Valor (R$)"
                  }
                }
              }
            }
          },
          "metadata": {},
          "output_type": "display_data"
        }
      ],
      "source": [
        "# Criar gráfico\n",
        "fig = go.Figure()\n",
        "\n",
        "# Adicionar barras para entradas\n",
        "fig.add_trace(go.Bar(\n",
        "    x=entradas_mes.index.astype(str),  # Usar meses como texto\n",
        "    y=entradas_mes,\n",
        "    name='Entradas',\n",
        "    marker_color='skyblue',\n",
        "    text=[f'R${val:.2f}' for val in entradas_mes],\n",
        "    textposition='outside',\n",
        "))\n",
        "\n",
        "# Atualizar layout para o eixo x ter 12 divisões\n",
        "fig.update_layout(\n",
        "    title={\n",
        "        'text': 'Saídas Mensais',\n",
        "        'x': 0.5,  # Centraliza o título horizontalmente\n",
        "        'xanchor': 'center',\n",
        "        'yanchor': 'top'\n",
        "    },\n",
        "    margin=dict(l=50, r=50, t=50, b=50),  # Ajusta as margens para manter o gráfico centralizado\n",
        "    xaxis_title='Meses',\n",
        "    yaxis_title='Valor (R$)',\n",
        "    barmode='group',\n",
        "    xaxis_tickangle=-30,\n",
        "    xaxis=dict(\n",
        "        tickvals=entradas_mes.index.astype(str),  # Definir valores dos ticks\n",
        "        ticktext=entradas_mes.index.astype(str),  # Definir texto dos ticks\n",
        "    )\n",
        ")\n",
        "\n",
        "# Exibir o gráfico\n",
        "fig.show()"
      ]
    },
    {
      "cell_type": "code",
      "execution_count": 8,
      "metadata": {
        "id": "mzmqD4J1A5Qb"
      },
      "outputs": [],
      "source": [
        "# Salvar o gráfico Plotly em um arquivo HTML\n",
        "fig.write_html('content/Entradas_ao_longo_do_ano.html')"
      ]
    },
    {
      "cell_type": "markdown",
      "metadata": {
        "id": "WjqGkoxG5xgV"
      },
      "source": [
        "# Gráfico em barras para as Saídas"
      ]
    },
    {
      "cell_type": "code",
      "execution_count": 9,
      "metadata": {
        "colab": {
          "base_uri": "https://localhost:8080/",
          "height": 542
        },
        "id": "nYb-Q8Eq2THo",
        "outputId": "2b4cb551-8ced-48b4-ef62-f5c59ae4475d"
      },
      "outputs": [
        {
          "data": {
            "application/vnd.plotly.v1+json": {
              "config": {
                "plotlyServerURL": "https://plot.ly"
              },
              "data": [
                {
                  "marker": {
                    "color": "lightsalmon"
                  },
                  "name": "Saídas",
                  "text": [
                    "R$-23335.90",
                    "R$-9160.56",
                    "R$-5630.86",
                    "R$-1802.84",
                    "R$-1232.09",
                    "R$-779.07",
                    "R$-776.50",
                    "R$-10776.27",
                    "R$-3342.11",
                    "R$-125.32",
                    "R$-3822.72",
                    "R$-86.13"
                  ],
                  "textposition": "outside",
                  "type": "bar",
                  "x": [
                    "2023-01",
                    "2023-02",
                    "2023-03",
                    "2023-04",
                    "2023-05",
                    "2023-06",
                    "2023-07",
                    "2023-08",
                    "2023-09",
                    "2023-10",
                    "2023-11",
                    "2023-12"
                  ],
                  "y": [
                    -23335.9,
                    -9160.560000000001,
                    -5630.860000000001,
                    -1802.8400000000001,
                    -1232.09,
                    -779.0699999999999,
                    -776.5,
                    -10776.27,
                    -3342.11,
                    -125.32,
                    -3822.7200000000003,
                    -86.13
                  ]
                }
              ],
              "layout": {
                "barmode": "group",
                "margin": {
                  "b": 50,
                  "l": 50,
                  "r": 50,
                  "t": 50
                },
                "template": {
                  "data": {
                    "bar": [
                      {
                        "error_x": {
                          "color": "#2a3f5f"
                        },
                        "error_y": {
                          "color": "#2a3f5f"
                        },
                        "marker": {
                          "line": {
                            "color": "#E5ECF6",
                            "width": 0.5
                          },
                          "pattern": {
                            "fillmode": "overlay",
                            "size": 10,
                            "solidity": 0.2
                          }
                        },
                        "type": "bar"
                      }
                    ],
                    "barpolar": [
                      {
                        "marker": {
                          "line": {
                            "color": "#E5ECF6",
                            "width": 0.5
                          },
                          "pattern": {
                            "fillmode": "overlay",
                            "size": 10,
                            "solidity": 0.2
                          }
                        },
                        "type": "barpolar"
                      }
                    ],
                    "carpet": [
                      {
                        "aaxis": {
                          "endlinecolor": "#2a3f5f",
                          "gridcolor": "white",
                          "linecolor": "white",
                          "minorgridcolor": "white",
                          "startlinecolor": "#2a3f5f"
                        },
                        "baxis": {
                          "endlinecolor": "#2a3f5f",
                          "gridcolor": "white",
                          "linecolor": "white",
                          "minorgridcolor": "white",
                          "startlinecolor": "#2a3f5f"
                        },
                        "type": "carpet"
                      }
                    ],
                    "choropleth": [
                      {
                        "colorbar": {
                          "outlinewidth": 0,
                          "ticks": ""
                        },
                        "type": "choropleth"
                      }
                    ],
                    "contour": [
                      {
                        "colorbar": {
                          "outlinewidth": 0,
                          "ticks": ""
                        },
                        "colorscale": [
                          [
                            0,
                            "#0d0887"
                          ],
                          [
                            0.1111111111111111,
                            "#46039f"
                          ],
                          [
                            0.2222222222222222,
                            "#7201a8"
                          ],
                          [
                            0.3333333333333333,
                            "#9c179e"
                          ],
                          [
                            0.4444444444444444,
                            "#bd3786"
                          ],
                          [
                            0.5555555555555556,
                            "#d8576b"
                          ],
                          [
                            0.6666666666666666,
                            "#ed7953"
                          ],
                          [
                            0.7777777777777778,
                            "#fb9f3a"
                          ],
                          [
                            0.8888888888888888,
                            "#fdca26"
                          ],
                          [
                            1,
                            "#f0f921"
                          ]
                        ],
                        "type": "contour"
                      }
                    ],
                    "contourcarpet": [
                      {
                        "colorbar": {
                          "outlinewidth": 0,
                          "ticks": ""
                        },
                        "type": "contourcarpet"
                      }
                    ],
                    "heatmap": [
                      {
                        "colorbar": {
                          "outlinewidth": 0,
                          "ticks": ""
                        },
                        "colorscale": [
                          [
                            0,
                            "#0d0887"
                          ],
                          [
                            0.1111111111111111,
                            "#46039f"
                          ],
                          [
                            0.2222222222222222,
                            "#7201a8"
                          ],
                          [
                            0.3333333333333333,
                            "#9c179e"
                          ],
                          [
                            0.4444444444444444,
                            "#bd3786"
                          ],
                          [
                            0.5555555555555556,
                            "#d8576b"
                          ],
                          [
                            0.6666666666666666,
                            "#ed7953"
                          ],
                          [
                            0.7777777777777778,
                            "#fb9f3a"
                          ],
                          [
                            0.8888888888888888,
                            "#fdca26"
                          ],
                          [
                            1,
                            "#f0f921"
                          ]
                        ],
                        "type": "heatmap"
                      }
                    ],
                    "heatmapgl": [
                      {
                        "colorbar": {
                          "outlinewidth": 0,
                          "ticks": ""
                        },
                        "colorscale": [
                          [
                            0,
                            "#0d0887"
                          ],
                          [
                            0.1111111111111111,
                            "#46039f"
                          ],
                          [
                            0.2222222222222222,
                            "#7201a8"
                          ],
                          [
                            0.3333333333333333,
                            "#9c179e"
                          ],
                          [
                            0.4444444444444444,
                            "#bd3786"
                          ],
                          [
                            0.5555555555555556,
                            "#d8576b"
                          ],
                          [
                            0.6666666666666666,
                            "#ed7953"
                          ],
                          [
                            0.7777777777777778,
                            "#fb9f3a"
                          ],
                          [
                            0.8888888888888888,
                            "#fdca26"
                          ],
                          [
                            1,
                            "#f0f921"
                          ]
                        ],
                        "type": "heatmapgl"
                      }
                    ],
                    "histogram": [
                      {
                        "marker": {
                          "pattern": {
                            "fillmode": "overlay",
                            "size": 10,
                            "solidity": 0.2
                          }
                        },
                        "type": "histogram"
                      }
                    ],
                    "histogram2d": [
                      {
                        "colorbar": {
                          "outlinewidth": 0,
                          "ticks": ""
                        },
                        "colorscale": [
                          [
                            0,
                            "#0d0887"
                          ],
                          [
                            0.1111111111111111,
                            "#46039f"
                          ],
                          [
                            0.2222222222222222,
                            "#7201a8"
                          ],
                          [
                            0.3333333333333333,
                            "#9c179e"
                          ],
                          [
                            0.4444444444444444,
                            "#bd3786"
                          ],
                          [
                            0.5555555555555556,
                            "#d8576b"
                          ],
                          [
                            0.6666666666666666,
                            "#ed7953"
                          ],
                          [
                            0.7777777777777778,
                            "#fb9f3a"
                          ],
                          [
                            0.8888888888888888,
                            "#fdca26"
                          ],
                          [
                            1,
                            "#f0f921"
                          ]
                        ],
                        "type": "histogram2d"
                      }
                    ],
                    "histogram2dcontour": [
                      {
                        "colorbar": {
                          "outlinewidth": 0,
                          "ticks": ""
                        },
                        "colorscale": [
                          [
                            0,
                            "#0d0887"
                          ],
                          [
                            0.1111111111111111,
                            "#46039f"
                          ],
                          [
                            0.2222222222222222,
                            "#7201a8"
                          ],
                          [
                            0.3333333333333333,
                            "#9c179e"
                          ],
                          [
                            0.4444444444444444,
                            "#bd3786"
                          ],
                          [
                            0.5555555555555556,
                            "#d8576b"
                          ],
                          [
                            0.6666666666666666,
                            "#ed7953"
                          ],
                          [
                            0.7777777777777778,
                            "#fb9f3a"
                          ],
                          [
                            0.8888888888888888,
                            "#fdca26"
                          ],
                          [
                            1,
                            "#f0f921"
                          ]
                        ],
                        "type": "histogram2dcontour"
                      }
                    ],
                    "mesh3d": [
                      {
                        "colorbar": {
                          "outlinewidth": 0,
                          "ticks": ""
                        },
                        "type": "mesh3d"
                      }
                    ],
                    "parcoords": [
                      {
                        "line": {
                          "colorbar": {
                            "outlinewidth": 0,
                            "ticks": ""
                          }
                        },
                        "type": "parcoords"
                      }
                    ],
                    "pie": [
                      {
                        "automargin": true,
                        "type": "pie"
                      }
                    ],
                    "scatter": [
                      {
                        "fillpattern": {
                          "fillmode": "overlay",
                          "size": 10,
                          "solidity": 0.2
                        },
                        "type": "scatter"
                      }
                    ],
                    "scatter3d": [
                      {
                        "line": {
                          "colorbar": {
                            "outlinewidth": 0,
                            "ticks": ""
                          }
                        },
                        "marker": {
                          "colorbar": {
                            "outlinewidth": 0,
                            "ticks": ""
                          }
                        },
                        "type": "scatter3d"
                      }
                    ],
                    "scattercarpet": [
                      {
                        "marker": {
                          "colorbar": {
                            "outlinewidth": 0,
                            "ticks": ""
                          }
                        },
                        "type": "scattercarpet"
                      }
                    ],
                    "scattergeo": [
                      {
                        "marker": {
                          "colorbar": {
                            "outlinewidth": 0,
                            "ticks": ""
                          }
                        },
                        "type": "scattergeo"
                      }
                    ],
                    "scattergl": [
                      {
                        "marker": {
                          "colorbar": {
                            "outlinewidth": 0,
                            "ticks": ""
                          }
                        },
                        "type": "scattergl"
                      }
                    ],
                    "scattermapbox": [
                      {
                        "marker": {
                          "colorbar": {
                            "outlinewidth": 0,
                            "ticks": ""
                          }
                        },
                        "type": "scattermapbox"
                      }
                    ],
                    "scatterpolar": [
                      {
                        "marker": {
                          "colorbar": {
                            "outlinewidth": 0,
                            "ticks": ""
                          }
                        },
                        "type": "scatterpolar"
                      }
                    ],
                    "scatterpolargl": [
                      {
                        "marker": {
                          "colorbar": {
                            "outlinewidth": 0,
                            "ticks": ""
                          }
                        },
                        "type": "scatterpolargl"
                      }
                    ],
                    "scatterternary": [
                      {
                        "marker": {
                          "colorbar": {
                            "outlinewidth": 0,
                            "ticks": ""
                          }
                        },
                        "type": "scatterternary"
                      }
                    ],
                    "surface": [
                      {
                        "colorbar": {
                          "outlinewidth": 0,
                          "ticks": ""
                        },
                        "colorscale": [
                          [
                            0,
                            "#0d0887"
                          ],
                          [
                            0.1111111111111111,
                            "#46039f"
                          ],
                          [
                            0.2222222222222222,
                            "#7201a8"
                          ],
                          [
                            0.3333333333333333,
                            "#9c179e"
                          ],
                          [
                            0.4444444444444444,
                            "#bd3786"
                          ],
                          [
                            0.5555555555555556,
                            "#d8576b"
                          ],
                          [
                            0.6666666666666666,
                            "#ed7953"
                          ],
                          [
                            0.7777777777777778,
                            "#fb9f3a"
                          ],
                          [
                            0.8888888888888888,
                            "#fdca26"
                          ],
                          [
                            1,
                            "#f0f921"
                          ]
                        ],
                        "type": "surface"
                      }
                    ],
                    "table": [
                      {
                        "cells": {
                          "fill": {
                            "color": "#EBF0F8"
                          },
                          "line": {
                            "color": "white"
                          }
                        },
                        "header": {
                          "fill": {
                            "color": "#C8D4E3"
                          },
                          "line": {
                            "color": "white"
                          }
                        },
                        "type": "table"
                      }
                    ]
                  },
                  "layout": {
                    "annotationdefaults": {
                      "arrowcolor": "#2a3f5f",
                      "arrowhead": 0,
                      "arrowwidth": 1
                    },
                    "autotypenumbers": "strict",
                    "coloraxis": {
                      "colorbar": {
                        "outlinewidth": 0,
                        "ticks": ""
                      }
                    },
                    "colorscale": {
                      "diverging": [
                        [
                          0,
                          "#8e0152"
                        ],
                        [
                          0.1,
                          "#c51b7d"
                        ],
                        [
                          0.2,
                          "#de77ae"
                        ],
                        [
                          0.3,
                          "#f1b6da"
                        ],
                        [
                          0.4,
                          "#fde0ef"
                        ],
                        [
                          0.5,
                          "#f7f7f7"
                        ],
                        [
                          0.6,
                          "#e6f5d0"
                        ],
                        [
                          0.7,
                          "#b8e186"
                        ],
                        [
                          0.8,
                          "#7fbc41"
                        ],
                        [
                          0.9,
                          "#4d9221"
                        ],
                        [
                          1,
                          "#276419"
                        ]
                      ],
                      "sequential": [
                        [
                          0,
                          "#0d0887"
                        ],
                        [
                          0.1111111111111111,
                          "#46039f"
                        ],
                        [
                          0.2222222222222222,
                          "#7201a8"
                        ],
                        [
                          0.3333333333333333,
                          "#9c179e"
                        ],
                        [
                          0.4444444444444444,
                          "#bd3786"
                        ],
                        [
                          0.5555555555555556,
                          "#d8576b"
                        ],
                        [
                          0.6666666666666666,
                          "#ed7953"
                        ],
                        [
                          0.7777777777777778,
                          "#fb9f3a"
                        ],
                        [
                          0.8888888888888888,
                          "#fdca26"
                        ],
                        [
                          1,
                          "#f0f921"
                        ]
                      ],
                      "sequentialminus": [
                        [
                          0,
                          "#0d0887"
                        ],
                        [
                          0.1111111111111111,
                          "#46039f"
                        ],
                        [
                          0.2222222222222222,
                          "#7201a8"
                        ],
                        [
                          0.3333333333333333,
                          "#9c179e"
                        ],
                        [
                          0.4444444444444444,
                          "#bd3786"
                        ],
                        [
                          0.5555555555555556,
                          "#d8576b"
                        ],
                        [
                          0.6666666666666666,
                          "#ed7953"
                        ],
                        [
                          0.7777777777777778,
                          "#fb9f3a"
                        ],
                        [
                          0.8888888888888888,
                          "#fdca26"
                        ],
                        [
                          1,
                          "#f0f921"
                        ]
                      ]
                    },
                    "colorway": [
                      "#636efa",
                      "#EF553B",
                      "#00cc96",
                      "#ab63fa",
                      "#FFA15A",
                      "#19d3f3",
                      "#FF6692",
                      "#B6E880",
                      "#FF97FF",
                      "#FECB52"
                    ],
                    "font": {
                      "color": "#2a3f5f"
                    },
                    "geo": {
                      "bgcolor": "white",
                      "lakecolor": "white",
                      "landcolor": "#E5ECF6",
                      "showlakes": true,
                      "showland": true,
                      "subunitcolor": "white"
                    },
                    "hoverlabel": {
                      "align": "left"
                    },
                    "hovermode": "closest",
                    "mapbox": {
                      "style": "light"
                    },
                    "paper_bgcolor": "white",
                    "plot_bgcolor": "#E5ECF6",
                    "polar": {
                      "angularaxis": {
                        "gridcolor": "white",
                        "linecolor": "white",
                        "ticks": ""
                      },
                      "bgcolor": "#E5ECF6",
                      "radialaxis": {
                        "gridcolor": "white",
                        "linecolor": "white",
                        "ticks": ""
                      }
                    },
                    "scene": {
                      "xaxis": {
                        "backgroundcolor": "#E5ECF6",
                        "gridcolor": "white",
                        "gridwidth": 2,
                        "linecolor": "white",
                        "showbackground": true,
                        "ticks": "",
                        "zerolinecolor": "white"
                      },
                      "yaxis": {
                        "backgroundcolor": "#E5ECF6",
                        "gridcolor": "white",
                        "gridwidth": 2,
                        "linecolor": "white",
                        "showbackground": true,
                        "ticks": "",
                        "zerolinecolor": "white"
                      },
                      "zaxis": {
                        "backgroundcolor": "#E5ECF6",
                        "gridcolor": "white",
                        "gridwidth": 2,
                        "linecolor": "white",
                        "showbackground": true,
                        "ticks": "",
                        "zerolinecolor": "white"
                      }
                    },
                    "shapedefaults": {
                      "line": {
                        "color": "#2a3f5f"
                      }
                    },
                    "ternary": {
                      "aaxis": {
                        "gridcolor": "white",
                        "linecolor": "white",
                        "ticks": ""
                      },
                      "baxis": {
                        "gridcolor": "white",
                        "linecolor": "white",
                        "ticks": ""
                      },
                      "bgcolor": "#E5ECF6",
                      "caxis": {
                        "gridcolor": "white",
                        "linecolor": "white",
                        "ticks": ""
                      }
                    },
                    "title": {
                      "x": 0.05
                    },
                    "xaxis": {
                      "automargin": true,
                      "gridcolor": "white",
                      "linecolor": "white",
                      "ticks": "",
                      "title": {
                        "standoff": 15
                      },
                      "zerolinecolor": "white",
                      "zerolinewidth": 2
                    },
                    "yaxis": {
                      "automargin": true,
                      "gridcolor": "white",
                      "linecolor": "white",
                      "ticks": "",
                      "title": {
                        "standoff": 15
                      },
                      "zerolinecolor": "white",
                      "zerolinewidth": 2
                    }
                  }
                },
                "title": {
                  "text": "Saídas Mensais",
                  "x": 0.5,
                  "xanchor": "center",
                  "yanchor": "top"
                },
                "xaxis": {
                  "tickangle": -30,
                  "ticktext": [
                    "2023-01",
                    "2023-02",
                    "2023-03",
                    "2023-04",
                    "2023-05",
                    "2023-06",
                    "2023-07",
                    "2023-08",
                    "2023-09",
                    "2023-10",
                    "2023-11",
                    "2023-12"
                  ],
                  "tickvals": [
                    "2023-01",
                    "2023-02",
                    "2023-03",
                    "2023-04",
                    "2023-05",
                    "2023-06",
                    "2023-07",
                    "2023-08",
                    "2023-09",
                    "2023-10",
                    "2023-11",
                    "2023-12"
                  ],
                  "title": {
                    "text": "Meses"
                  }
                },
                "yaxis": {
                  "title": {
                    "text": "Valor (R$)"
                  }
                }
              }
            }
          },
          "metadata": {},
          "output_type": "display_data"
        }
      ],
      "source": [
        "# Criar gráfico\n",
        "fig = go.Figure()\n",
        "\n",
        "# Adicionar barras para saídas\n",
        "fig.add_trace(go.Bar(\n",
        "    x=saidas_mes.index.astype(str),\n",
        "    y=saidas_mes,\n",
        "    name='Saídas',\n",
        "    marker_color='lightsalmon',\n",
        "    text=[f'R${val:.2f}' for val in saidas_mes],\n",
        "    textposition='outside',\n",
        "))\n",
        "\n",
        "# Atualizar layout para o eixo x ter 12 divisões\n",
        "fig.update_layout(\n",
        "    title={\n",
        "        'text': 'Saídas Mensais',\n",
        "        'x': 0.5,  # Centraliza o título horizontalmente\n",
        "        'xanchor': 'center',\n",
        "        'yanchor': 'top'\n",
        "    },\n",
        "    xaxis_title='Meses',\n",
        "    yaxis_title='Valor (R$)',\n",
        "    barmode='group',\n",
        "    xaxis_tickangle=-30,\n",
        "    xaxis=dict(\n",
        "        tickvals=saidas_mes.index.astype(str),  # Definir valores dos ticks\n",
        "        ticktext=saidas_mes.index.astype(str),  # Definir texto dos ticks\n",
        "    ),\n",
        "    margin=dict(l=50, r=50, t=50, b=50),  # Ajusta as margens para manter o gráfico centralizado\n",
        ")\n",
        "\n",
        "# Exibir o gráfico\n",
        "fig.show()"
      ]
    },
    {
      "cell_type": "code",
      "execution_count": 10,
      "metadata": {
        "id": "G4ThAobPA-pn"
      },
      "outputs": [],
      "source": [
        "# Salvar o gráfico Plotly em um arquivo HTML\n",
        "fig.write_html('content/Saidas_ao_longo_do_ano.html')"
      ]
    },
    {
      "cell_type": "markdown",
      "metadata": {
        "id": "0L3rEGAk5kjo"
      },
      "source": [
        "# Gráfico Donut para as Receitas"
      ]
    },
    {
      "cell_type": "code",
      "execution_count": 11,
      "metadata": {
        "colab": {
          "base_uri": "https://localhost:8080/"
        },
        "id": "Xmy1nP-E2dbA",
        "outputId": "c644d89d-42d1-4f14-9097-b073ffded465"
      },
      "outputs": [
        {
          "name": "stdout",
          "output_type": "stream",
          "text": [
            "Index(['Receitas/Origem', 'TOTAL'], dtype='object')\n"
          ]
        }
      ],
      "source": [
        "# Carregar a planilha fornecida\n",
        "df = pd.read_excel(file_path, sheet_name='Receitas')\n",
        "print(df.columns)"
      ]
    },
    {
      "cell_type": "code",
      "execution_count": 12,
      "metadata": {
        "colab": {
          "base_uri": "https://localhost:8080/",
          "height": 542
        },
        "id": "mO2p2iy72fZU",
        "outputId": "db98dd60-2d2a-47a8-98ff-a654098f3cc1"
      },
      "outputs": [
        {
          "data": {
            "application/vnd.plotly.v1+json": {
              "config": {
                "plotlyServerURL": "https://plot.ly"
              },
              "data": [
                {
                  "hole": 0.4,
                  "hovertemplate": "%{label}<br>Valor: R$%{value:,.2f}<extra></extra>",
                  "labels": [
                    "Receitas com Associados/virtual",
                    "Outros",
                    "Receitas de Parceria com Editais",
                    "Receitas de Parceria com Pessoa Jurídica",
                    "Receitas com Marketing (Google Ads)/virtual"
                  ],
                  "textinfo": "percent",
                  "type": "pie",
                  "values": [
                    60000,
                    70800,
                    120000,
                    120000,
                    480000
                  ]
                }
              ],
              "layout": {
                "height": 500,
                "legend": {
                  "x": 0.5,
                  "xanchor": "center",
                  "y": -0.01,
                  "yanchor": "top"
                },
                "margin": {
                  "b": 50,
                  "l": 50,
                  "r": 50,
                  "t": 50
                },
                "showlegend": true,
                "template": {
                  "data": {
                    "bar": [
                      {
                        "error_x": {
                          "color": "#2a3f5f"
                        },
                        "error_y": {
                          "color": "#2a3f5f"
                        },
                        "marker": {
                          "line": {
                            "color": "#E5ECF6",
                            "width": 0.5
                          },
                          "pattern": {
                            "fillmode": "overlay",
                            "size": 10,
                            "solidity": 0.2
                          }
                        },
                        "type": "bar"
                      }
                    ],
                    "barpolar": [
                      {
                        "marker": {
                          "line": {
                            "color": "#E5ECF6",
                            "width": 0.5
                          },
                          "pattern": {
                            "fillmode": "overlay",
                            "size": 10,
                            "solidity": 0.2
                          }
                        },
                        "type": "barpolar"
                      }
                    ],
                    "carpet": [
                      {
                        "aaxis": {
                          "endlinecolor": "#2a3f5f",
                          "gridcolor": "white",
                          "linecolor": "white",
                          "minorgridcolor": "white",
                          "startlinecolor": "#2a3f5f"
                        },
                        "baxis": {
                          "endlinecolor": "#2a3f5f",
                          "gridcolor": "white",
                          "linecolor": "white",
                          "minorgridcolor": "white",
                          "startlinecolor": "#2a3f5f"
                        },
                        "type": "carpet"
                      }
                    ],
                    "choropleth": [
                      {
                        "colorbar": {
                          "outlinewidth": 0,
                          "ticks": ""
                        },
                        "type": "choropleth"
                      }
                    ],
                    "contour": [
                      {
                        "colorbar": {
                          "outlinewidth": 0,
                          "ticks": ""
                        },
                        "colorscale": [
                          [
                            0,
                            "#0d0887"
                          ],
                          [
                            0.1111111111111111,
                            "#46039f"
                          ],
                          [
                            0.2222222222222222,
                            "#7201a8"
                          ],
                          [
                            0.3333333333333333,
                            "#9c179e"
                          ],
                          [
                            0.4444444444444444,
                            "#bd3786"
                          ],
                          [
                            0.5555555555555556,
                            "#d8576b"
                          ],
                          [
                            0.6666666666666666,
                            "#ed7953"
                          ],
                          [
                            0.7777777777777778,
                            "#fb9f3a"
                          ],
                          [
                            0.8888888888888888,
                            "#fdca26"
                          ],
                          [
                            1,
                            "#f0f921"
                          ]
                        ],
                        "type": "contour"
                      }
                    ],
                    "contourcarpet": [
                      {
                        "colorbar": {
                          "outlinewidth": 0,
                          "ticks": ""
                        },
                        "type": "contourcarpet"
                      }
                    ],
                    "heatmap": [
                      {
                        "colorbar": {
                          "outlinewidth": 0,
                          "ticks": ""
                        },
                        "colorscale": [
                          [
                            0,
                            "#0d0887"
                          ],
                          [
                            0.1111111111111111,
                            "#46039f"
                          ],
                          [
                            0.2222222222222222,
                            "#7201a8"
                          ],
                          [
                            0.3333333333333333,
                            "#9c179e"
                          ],
                          [
                            0.4444444444444444,
                            "#bd3786"
                          ],
                          [
                            0.5555555555555556,
                            "#d8576b"
                          ],
                          [
                            0.6666666666666666,
                            "#ed7953"
                          ],
                          [
                            0.7777777777777778,
                            "#fb9f3a"
                          ],
                          [
                            0.8888888888888888,
                            "#fdca26"
                          ],
                          [
                            1,
                            "#f0f921"
                          ]
                        ],
                        "type": "heatmap"
                      }
                    ],
                    "heatmapgl": [
                      {
                        "colorbar": {
                          "outlinewidth": 0,
                          "ticks": ""
                        },
                        "colorscale": [
                          [
                            0,
                            "#0d0887"
                          ],
                          [
                            0.1111111111111111,
                            "#46039f"
                          ],
                          [
                            0.2222222222222222,
                            "#7201a8"
                          ],
                          [
                            0.3333333333333333,
                            "#9c179e"
                          ],
                          [
                            0.4444444444444444,
                            "#bd3786"
                          ],
                          [
                            0.5555555555555556,
                            "#d8576b"
                          ],
                          [
                            0.6666666666666666,
                            "#ed7953"
                          ],
                          [
                            0.7777777777777778,
                            "#fb9f3a"
                          ],
                          [
                            0.8888888888888888,
                            "#fdca26"
                          ],
                          [
                            1,
                            "#f0f921"
                          ]
                        ],
                        "type": "heatmapgl"
                      }
                    ],
                    "histogram": [
                      {
                        "marker": {
                          "pattern": {
                            "fillmode": "overlay",
                            "size": 10,
                            "solidity": 0.2
                          }
                        },
                        "type": "histogram"
                      }
                    ],
                    "histogram2d": [
                      {
                        "colorbar": {
                          "outlinewidth": 0,
                          "ticks": ""
                        },
                        "colorscale": [
                          [
                            0,
                            "#0d0887"
                          ],
                          [
                            0.1111111111111111,
                            "#46039f"
                          ],
                          [
                            0.2222222222222222,
                            "#7201a8"
                          ],
                          [
                            0.3333333333333333,
                            "#9c179e"
                          ],
                          [
                            0.4444444444444444,
                            "#bd3786"
                          ],
                          [
                            0.5555555555555556,
                            "#d8576b"
                          ],
                          [
                            0.6666666666666666,
                            "#ed7953"
                          ],
                          [
                            0.7777777777777778,
                            "#fb9f3a"
                          ],
                          [
                            0.8888888888888888,
                            "#fdca26"
                          ],
                          [
                            1,
                            "#f0f921"
                          ]
                        ],
                        "type": "histogram2d"
                      }
                    ],
                    "histogram2dcontour": [
                      {
                        "colorbar": {
                          "outlinewidth": 0,
                          "ticks": ""
                        },
                        "colorscale": [
                          [
                            0,
                            "#0d0887"
                          ],
                          [
                            0.1111111111111111,
                            "#46039f"
                          ],
                          [
                            0.2222222222222222,
                            "#7201a8"
                          ],
                          [
                            0.3333333333333333,
                            "#9c179e"
                          ],
                          [
                            0.4444444444444444,
                            "#bd3786"
                          ],
                          [
                            0.5555555555555556,
                            "#d8576b"
                          ],
                          [
                            0.6666666666666666,
                            "#ed7953"
                          ],
                          [
                            0.7777777777777778,
                            "#fb9f3a"
                          ],
                          [
                            0.8888888888888888,
                            "#fdca26"
                          ],
                          [
                            1,
                            "#f0f921"
                          ]
                        ],
                        "type": "histogram2dcontour"
                      }
                    ],
                    "mesh3d": [
                      {
                        "colorbar": {
                          "outlinewidth": 0,
                          "ticks": ""
                        },
                        "type": "mesh3d"
                      }
                    ],
                    "parcoords": [
                      {
                        "line": {
                          "colorbar": {
                            "outlinewidth": 0,
                            "ticks": ""
                          }
                        },
                        "type": "parcoords"
                      }
                    ],
                    "pie": [
                      {
                        "automargin": true,
                        "type": "pie"
                      }
                    ],
                    "scatter": [
                      {
                        "fillpattern": {
                          "fillmode": "overlay",
                          "size": 10,
                          "solidity": 0.2
                        },
                        "type": "scatter"
                      }
                    ],
                    "scatter3d": [
                      {
                        "line": {
                          "colorbar": {
                            "outlinewidth": 0,
                            "ticks": ""
                          }
                        },
                        "marker": {
                          "colorbar": {
                            "outlinewidth": 0,
                            "ticks": ""
                          }
                        },
                        "type": "scatter3d"
                      }
                    ],
                    "scattercarpet": [
                      {
                        "marker": {
                          "colorbar": {
                            "outlinewidth": 0,
                            "ticks": ""
                          }
                        },
                        "type": "scattercarpet"
                      }
                    ],
                    "scattergeo": [
                      {
                        "marker": {
                          "colorbar": {
                            "outlinewidth": 0,
                            "ticks": ""
                          }
                        },
                        "type": "scattergeo"
                      }
                    ],
                    "scattergl": [
                      {
                        "marker": {
                          "colorbar": {
                            "outlinewidth": 0,
                            "ticks": ""
                          }
                        },
                        "type": "scattergl"
                      }
                    ],
                    "scattermapbox": [
                      {
                        "marker": {
                          "colorbar": {
                            "outlinewidth": 0,
                            "ticks": ""
                          }
                        },
                        "type": "scattermapbox"
                      }
                    ],
                    "scatterpolar": [
                      {
                        "marker": {
                          "colorbar": {
                            "outlinewidth": 0,
                            "ticks": ""
                          }
                        },
                        "type": "scatterpolar"
                      }
                    ],
                    "scatterpolargl": [
                      {
                        "marker": {
                          "colorbar": {
                            "outlinewidth": 0,
                            "ticks": ""
                          }
                        },
                        "type": "scatterpolargl"
                      }
                    ],
                    "scatterternary": [
                      {
                        "marker": {
                          "colorbar": {
                            "outlinewidth": 0,
                            "ticks": ""
                          }
                        },
                        "type": "scatterternary"
                      }
                    ],
                    "surface": [
                      {
                        "colorbar": {
                          "outlinewidth": 0,
                          "ticks": ""
                        },
                        "colorscale": [
                          [
                            0,
                            "#0d0887"
                          ],
                          [
                            0.1111111111111111,
                            "#46039f"
                          ],
                          [
                            0.2222222222222222,
                            "#7201a8"
                          ],
                          [
                            0.3333333333333333,
                            "#9c179e"
                          ],
                          [
                            0.4444444444444444,
                            "#bd3786"
                          ],
                          [
                            0.5555555555555556,
                            "#d8576b"
                          ],
                          [
                            0.6666666666666666,
                            "#ed7953"
                          ],
                          [
                            0.7777777777777778,
                            "#fb9f3a"
                          ],
                          [
                            0.8888888888888888,
                            "#fdca26"
                          ],
                          [
                            1,
                            "#f0f921"
                          ]
                        ],
                        "type": "surface"
                      }
                    ],
                    "table": [
                      {
                        "cells": {
                          "fill": {
                            "color": "#EBF0F8"
                          },
                          "line": {
                            "color": "white"
                          }
                        },
                        "header": {
                          "fill": {
                            "color": "#C8D4E3"
                          },
                          "line": {
                            "color": "white"
                          }
                        },
                        "type": "table"
                      }
                    ]
                  },
                  "layout": {
                    "annotationdefaults": {
                      "arrowcolor": "#2a3f5f",
                      "arrowhead": 0,
                      "arrowwidth": 1
                    },
                    "autotypenumbers": "strict",
                    "coloraxis": {
                      "colorbar": {
                        "outlinewidth": 0,
                        "ticks": ""
                      }
                    },
                    "colorscale": {
                      "diverging": [
                        [
                          0,
                          "#8e0152"
                        ],
                        [
                          0.1,
                          "#c51b7d"
                        ],
                        [
                          0.2,
                          "#de77ae"
                        ],
                        [
                          0.3,
                          "#f1b6da"
                        ],
                        [
                          0.4,
                          "#fde0ef"
                        ],
                        [
                          0.5,
                          "#f7f7f7"
                        ],
                        [
                          0.6,
                          "#e6f5d0"
                        ],
                        [
                          0.7,
                          "#b8e186"
                        ],
                        [
                          0.8,
                          "#7fbc41"
                        ],
                        [
                          0.9,
                          "#4d9221"
                        ],
                        [
                          1,
                          "#276419"
                        ]
                      ],
                      "sequential": [
                        [
                          0,
                          "#0d0887"
                        ],
                        [
                          0.1111111111111111,
                          "#46039f"
                        ],
                        [
                          0.2222222222222222,
                          "#7201a8"
                        ],
                        [
                          0.3333333333333333,
                          "#9c179e"
                        ],
                        [
                          0.4444444444444444,
                          "#bd3786"
                        ],
                        [
                          0.5555555555555556,
                          "#d8576b"
                        ],
                        [
                          0.6666666666666666,
                          "#ed7953"
                        ],
                        [
                          0.7777777777777778,
                          "#fb9f3a"
                        ],
                        [
                          0.8888888888888888,
                          "#fdca26"
                        ],
                        [
                          1,
                          "#f0f921"
                        ]
                      ],
                      "sequentialminus": [
                        [
                          0,
                          "#0d0887"
                        ],
                        [
                          0.1111111111111111,
                          "#46039f"
                        ],
                        [
                          0.2222222222222222,
                          "#7201a8"
                        ],
                        [
                          0.3333333333333333,
                          "#9c179e"
                        ],
                        [
                          0.4444444444444444,
                          "#bd3786"
                        ],
                        [
                          0.5555555555555556,
                          "#d8576b"
                        ],
                        [
                          0.6666666666666666,
                          "#ed7953"
                        ],
                        [
                          0.7777777777777778,
                          "#fb9f3a"
                        ],
                        [
                          0.8888888888888888,
                          "#fdca26"
                        ],
                        [
                          1,
                          "#f0f921"
                        ]
                      ]
                    },
                    "colorway": [
                      "#636efa",
                      "#EF553B",
                      "#00cc96",
                      "#ab63fa",
                      "#FFA15A",
                      "#19d3f3",
                      "#FF6692",
                      "#B6E880",
                      "#FF97FF",
                      "#FECB52"
                    ],
                    "font": {
                      "color": "#2a3f5f"
                    },
                    "geo": {
                      "bgcolor": "white",
                      "lakecolor": "white",
                      "landcolor": "#E5ECF6",
                      "showlakes": true,
                      "showland": true,
                      "subunitcolor": "white"
                    },
                    "hoverlabel": {
                      "align": "left"
                    },
                    "hovermode": "closest",
                    "mapbox": {
                      "style": "light"
                    },
                    "paper_bgcolor": "white",
                    "plot_bgcolor": "#E5ECF6",
                    "polar": {
                      "angularaxis": {
                        "gridcolor": "white",
                        "linecolor": "white",
                        "ticks": ""
                      },
                      "bgcolor": "#E5ECF6",
                      "radialaxis": {
                        "gridcolor": "white",
                        "linecolor": "white",
                        "ticks": ""
                      }
                    },
                    "scene": {
                      "xaxis": {
                        "backgroundcolor": "#E5ECF6",
                        "gridcolor": "white",
                        "gridwidth": 2,
                        "linecolor": "white",
                        "showbackground": true,
                        "ticks": "",
                        "zerolinecolor": "white"
                      },
                      "yaxis": {
                        "backgroundcolor": "#E5ECF6",
                        "gridcolor": "white",
                        "gridwidth": 2,
                        "linecolor": "white",
                        "showbackground": true,
                        "ticks": "",
                        "zerolinecolor": "white"
                      },
                      "zaxis": {
                        "backgroundcolor": "#E5ECF6",
                        "gridcolor": "white",
                        "gridwidth": 2,
                        "linecolor": "white",
                        "showbackground": true,
                        "ticks": "",
                        "zerolinecolor": "white"
                      }
                    },
                    "shapedefaults": {
                      "line": {
                        "color": "#2a3f5f"
                      }
                    },
                    "ternary": {
                      "aaxis": {
                        "gridcolor": "white",
                        "linecolor": "white",
                        "ticks": ""
                      },
                      "baxis": {
                        "gridcolor": "white",
                        "linecolor": "white",
                        "ticks": ""
                      },
                      "bgcolor": "#E5ECF6",
                      "caxis": {
                        "gridcolor": "white",
                        "linecolor": "white",
                        "ticks": ""
                      }
                    },
                    "title": {
                      "x": 0.05
                    },
                    "xaxis": {
                      "automargin": true,
                      "gridcolor": "white",
                      "linecolor": "white",
                      "ticks": "",
                      "title": {
                        "standoff": 15
                      },
                      "zerolinecolor": "white",
                      "zerolinewidth": 2
                    },
                    "yaxis": {
                      "automargin": true,
                      "gridcolor": "white",
                      "linecolor": "white",
                      "ticks": "",
                      "title": {
                        "standoff": 15
                      },
                      "zerolinecolor": "white",
                      "zerolinewidth": 2
                    }
                  }
                },
                "title": {
                  "text": "Distribuição de Despesas por Categoria",
                  "x": 0.5,
                  "xanchor": "center",
                  "yanchor": "top"
                },
                "width": 550
              }
            }
          },
          "metadata": {},
          "output_type": "display_data"
        }
      ],
      "source": [
        "# Calcular a soma total das receitas\n",
        "total_receitas = df['TOTAL'].astype(float).sum()\n",
        "\n",
        "# Calcular a porcentagem de cada categoria\n",
        "df['PORCENTAGEM'] = df['TOTAL'].astype(float) / total_receitas * 100\n",
        "\n",
        "# Separar categorias com mais de 5% e somar as outras\n",
        "df_maior_5 = df[df['PORCENTAGEM'] > 5]\n",
        "df_menor_5 = df[df['PORCENTAGEM'] <= 5]\n",
        "\n",
        "# Adicionar uma linha para a categoria \"Outros\" se houver categorias menores que 5%\n",
        "if not df_menor_5.empty:\n",
        "    total_outros = df_menor_5['TOTAL'].astype(float).sum()\n",
        "    outros = pd.DataFrame({\n",
        "        'Receitas/Origem': ['Outros'],\n",
        "        'TOTAL': [total_outros],\n",
        "        'PORCENTAGEM': [total_outros / total_receitas * 100]\n",
        "    })\n",
        "    df_maior_5 = pd.concat([df_maior_5, outros], ignore_index=True)\n",
        "\n",
        "# Classificar por ordem crescente\n",
        "df_maior_5 = df_maior_5.sort_values(by='TOTAL', ascending=True)\n",
        "# Criar gráfico de setores interativo\n",
        "fig = go.Figure(data=[go.Pie(\n",
        "    labels=df_maior_5['Receitas/Origem'],\n",
        "    values=df_maior_5['TOTAL'].astype(float),\n",
        "    textinfo='percent',  # Exibe porcentagem\n",
        "    hovertemplate='%{label}<br>Valor: R$%{value:,.2f}<extra></extra>',  # Personaliza o hover\n",
        "    hole=0.4  # Define o \"buraco\" no meio do gráfico, transformando-o em um donut\n",
        ")])\n",
        "\n",
        "# Atualizar layout do gráfico\n",
        "fig.update_layout(\n",
        "    title={\n",
        "        'text': 'Distribuição de Despesas por Categoria',\n",
        "        'x': 0.5,  # Centraliza o título horizontalmente\n",
        "        'xanchor': 'center',\n",
        "        'yanchor': 'top'\n",
        "    },\n",
        "    showlegend=True,\n",
        "    legend=dict(\n",
        "        x=0.5,  # Centraliza a posição horizontal da legenda\n",
        "        y=-0.01,   # Ajusta a posição vertical da legenda (fora da área do gráfico)\n",
        "        xanchor='center',  # Define o ponto de ancoragem da legenda ao centro\n",
        "        yanchor='top',  # Define o ponto de ancoragem da legenda no topo\n",
        "    ),\n",
        "    margin=dict(l=50, r=50, t=50, b=50),  # Ajusta as margens para manter o gráfico centralizado\n",
        ")\n",
        "\n",
        "# Exibir o gráfico\n",
        "fig.show()"
      ]
    },
    {
      "cell_type": "code",
      "execution_count": 13,
      "metadata": {
        "id": "BManUaCYBDKX"
      },
      "outputs": [],
      "source": [
        "# Salvar o gráfico Plotly em um arquivo HTML\n",
        "fig.write_html('content/Donut_receitas.html')"
      ]
    },
    {
      "cell_type": "markdown",
      "metadata": {
        "id": "KI1UZ3C05cIT"
      },
      "source": [
        "# Gráfico Donut para as Despesas"
      ]
    },
    {
      "cell_type": "code",
      "execution_count": 14,
      "metadata": {
        "colab": {
          "base_uri": "https://localhost:8080/"
        },
        "id": "98qikVIR2nOu",
        "outputId": "1b0a991c-5f36-44e0-df00-2f8c0de0e0fd"
      },
      "outputs": [
        {
          "name": "stdout",
          "output_type": "stream",
          "text": [
            "Index(['Despesas', 'TOTAL'], dtype='object')\n"
          ]
        }
      ],
      "source": [
        "# Carregar a planilha fornecida\n",
        "df = pd.read_excel(file_path, sheet_name='Despesas')\n",
        "print(df.columns)"
      ]
    },
    {
      "cell_type": "code",
      "execution_count": 15,
      "metadata": {
        "colab": {
          "base_uri": "https://localhost:8080/",
          "height": 542
        },
        "id": "Ef4LgyRE2qQi",
        "outputId": "2dc39aad-408d-4a8b-e3d1-20de2cc1bc9c"
      },
      "outputs": [
        {
          "data": {
            "application/vnd.plotly.v1+json": {
              "config": {
                "plotlyServerURL": "https://plot.ly"
              },
              "data": [
                {
                  "hole": 0.4,
                  "hovertemplate": "%{label}<br>Valor: R$%{value:,.2f}<extra></extra>",
                  "labels": [
                    "Despesas Trabalhistas/virtual",
                    "Outros",
                    "Despesas com Projetos",
                    "Despesas com Marketing (Google Ads)/virtual"
                  ],
                  "textinfo": "percent",
                  "type": "pie",
                  "values": [
                    60000,
                    88600,
                    215000,
                    480000
                  ]
                }
              ],
              "layout": {
                "height": 500,
                "legend": {
                  "x": 0.5,
                  "xanchor": "center",
                  "y": -0.01,
                  "yanchor": "top"
                },
                "margin": {
                  "b": 50,
                  "l": 50,
                  "r": 50,
                  "t": 50
                },
                "showlegend": true,
                "template": {
                  "data": {
                    "bar": [
                      {
                        "error_x": {
                          "color": "#2a3f5f"
                        },
                        "error_y": {
                          "color": "#2a3f5f"
                        },
                        "marker": {
                          "line": {
                            "color": "#E5ECF6",
                            "width": 0.5
                          },
                          "pattern": {
                            "fillmode": "overlay",
                            "size": 10,
                            "solidity": 0.2
                          }
                        },
                        "type": "bar"
                      }
                    ],
                    "barpolar": [
                      {
                        "marker": {
                          "line": {
                            "color": "#E5ECF6",
                            "width": 0.5
                          },
                          "pattern": {
                            "fillmode": "overlay",
                            "size": 10,
                            "solidity": 0.2
                          }
                        },
                        "type": "barpolar"
                      }
                    ],
                    "carpet": [
                      {
                        "aaxis": {
                          "endlinecolor": "#2a3f5f",
                          "gridcolor": "white",
                          "linecolor": "white",
                          "minorgridcolor": "white",
                          "startlinecolor": "#2a3f5f"
                        },
                        "baxis": {
                          "endlinecolor": "#2a3f5f",
                          "gridcolor": "white",
                          "linecolor": "white",
                          "minorgridcolor": "white",
                          "startlinecolor": "#2a3f5f"
                        },
                        "type": "carpet"
                      }
                    ],
                    "choropleth": [
                      {
                        "colorbar": {
                          "outlinewidth": 0,
                          "ticks": ""
                        },
                        "type": "choropleth"
                      }
                    ],
                    "contour": [
                      {
                        "colorbar": {
                          "outlinewidth": 0,
                          "ticks": ""
                        },
                        "colorscale": [
                          [
                            0,
                            "#0d0887"
                          ],
                          [
                            0.1111111111111111,
                            "#46039f"
                          ],
                          [
                            0.2222222222222222,
                            "#7201a8"
                          ],
                          [
                            0.3333333333333333,
                            "#9c179e"
                          ],
                          [
                            0.4444444444444444,
                            "#bd3786"
                          ],
                          [
                            0.5555555555555556,
                            "#d8576b"
                          ],
                          [
                            0.6666666666666666,
                            "#ed7953"
                          ],
                          [
                            0.7777777777777778,
                            "#fb9f3a"
                          ],
                          [
                            0.8888888888888888,
                            "#fdca26"
                          ],
                          [
                            1,
                            "#f0f921"
                          ]
                        ],
                        "type": "contour"
                      }
                    ],
                    "contourcarpet": [
                      {
                        "colorbar": {
                          "outlinewidth": 0,
                          "ticks": ""
                        },
                        "type": "contourcarpet"
                      }
                    ],
                    "heatmap": [
                      {
                        "colorbar": {
                          "outlinewidth": 0,
                          "ticks": ""
                        },
                        "colorscale": [
                          [
                            0,
                            "#0d0887"
                          ],
                          [
                            0.1111111111111111,
                            "#46039f"
                          ],
                          [
                            0.2222222222222222,
                            "#7201a8"
                          ],
                          [
                            0.3333333333333333,
                            "#9c179e"
                          ],
                          [
                            0.4444444444444444,
                            "#bd3786"
                          ],
                          [
                            0.5555555555555556,
                            "#d8576b"
                          ],
                          [
                            0.6666666666666666,
                            "#ed7953"
                          ],
                          [
                            0.7777777777777778,
                            "#fb9f3a"
                          ],
                          [
                            0.8888888888888888,
                            "#fdca26"
                          ],
                          [
                            1,
                            "#f0f921"
                          ]
                        ],
                        "type": "heatmap"
                      }
                    ],
                    "heatmapgl": [
                      {
                        "colorbar": {
                          "outlinewidth": 0,
                          "ticks": ""
                        },
                        "colorscale": [
                          [
                            0,
                            "#0d0887"
                          ],
                          [
                            0.1111111111111111,
                            "#46039f"
                          ],
                          [
                            0.2222222222222222,
                            "#7201a8"
                          ],
                          [
                            0.3333333333333333,
                            "#9c179e"
                          ],
                          [
                            0.4444444444444444,
                            "#bd3786"
                          ],
                          [
                            0.5555555555555556,
                            "#d8576b"
                          ],
                          [
                            0.6666666666666666,
                            "#ed7953"
                          ],
                          [
                            0.7777777777777778,
                            "#fb9f3a"
                          ],
                          [
                            0.8888888888888888,
                            "#fdca26"
                          ],
                          [
                            1,
                            "#f0f921"
                          ]
                        ],
                        "type": "heatmapgl"
                      }
                    ],
                    "histogram": [
                      {
                        "marker": {
                          "pattern": {
                            "fillmode": "overlay",
                            "size": 10,
                            "solidity": 0.2
                          }
                        },
                        "type": "histogram"
                      }
                    ],
                    "histogram2d": [
                      {
                        "colorbar": {
                          "outlinewidth": 0,
                          "ticks": ""
                        },
                        "colorscale": [
                          [
                            0,
                            "#0d0887"
                          ],
                          [
                            0.1111111111111111,
                            "#46039f"
                          ],
                          [
                            0.2222222222222222,
                            "#7201a8"
                          ],
                          [
                            0.3333333333333333,
                            "#9c179e"
                          ],
                          [
                            0.4444444444444444,
                            "#bd3786"
                          ],
                          [
                            0.5555555555555556,
                            "#d8576b"
                          ],
                          [
                            0.6666666666666666,
                            "#ed7953"
                          ],
                          [
                            0.7777777777777778,
                            "#fb9f3a"
                          ],
                          [
                            0.8888888888888888,
                            "#fdca26"
                          ],
                          [
                            1,
                            "#f0f921"
                          ]
                        ],
                        "type": "histogram2d"
                      }
                    ],
                    "histogram2dcontour": [
                      {
                        "colorbar": {
                          "outlinewidth": 0,
                          "ticks": ""
                        },
                        "colorscale": [
                          [
                            0,
                            "#0d0887"
                          ],
                          [
                            0.1111111111111111,
                            "#46039f"
                          ],
                          [
                            0.2222222222222222,
                            "#7201a8"
                          ],
                          [
                            0.3333333333333333,
                            "#9c179e"
                          ],
                          [
                            0.4444444444444444,
                            "#bd3786"
                          ],
                          [
                            0.5555555555555556,
                            "#d8576b"
                          ],
                          [
                            0.6666666666666666,
                            "#ed7953"
                          ],
                          [
                            0.7777777777777778,
                            "#fb9f3a"
                          ],
                          [
                            0.8888888888888888,
                            "#fdca26"
                          ],
                          [
                            1,
                            "#f0f921"
                          ]
                        ],
                        "type": "histogram2dcontour"
                      }
                    ],
                    "mesh3d": [
                      {
                        "colorbar": {
                          "outlinewidth": 0,
                          "ticks": ""
                        },
                        "type": "mesh3d"
                      }
                    ],
                    "parcoords": [
                      {
                        "line": {
                          "colorbar": {
                            "outlinewidth": 0,
                            "ticks": ""
                          }
                        },
                        "type": "parcoords"
                      }
                    ],
                    "pie": [
                      {
                        "automargin": true,
                        "type": "pie"
                      }
                    ],
                    "scatter": [
                      {
                        "fillpattern": {
                          "fillmode": "overlay",
                          "size": 10,
                          "solidity": 0.2
                        },
                        "type": "scatter"
                      }
                    ],
                    "scatter3d": [
                      {
                        "line": {
                          "colorbar": {
                            "outlinewidth": 0,
                            "ticks": ""
                          }
                        },
                        "marker": {
                          "colorbar": {
                            "outlinewidth": 0,
                            "ticks": ""
                          }
                        },
                        "type": "scatter3d"
                      }
                    ],
                    "scattercarpet": [
                      {
                        "marker": {
                          "colorbar": {
                            "outlinewidth": 0,
                            "ticks": ""
                          }
                        },
                        "type": "scattercarpet"
                      }
                    ],
                    "scattergeo": [
                      {
                        "marker": {
                          "colorbar": {
                            "outlinewidth": 0,
                            "ticks": ""
                          }
                        },
                        "type": "scattergeo"
                      }
                    ],
                    "scattergl": [
                      {
                        "marker": {
                          "colorbar": {
                            "outlinewidth": 0,
                            "ticks": ""
                          }
                        },
                        "type": "scattergl"
                      }
                    ],
                    "scattermapbox": [
                      {
                        "marker": {
                          "colorbar": {
                            "outlinewidth": 0,
                            "ticks": ""
                          }
                        },
                        "type": "scattermapbox"
                      }
                    ],
                    "scatterpolar": [
                      {
                        "marker": {
                          "colorbar": {
                            "outlinewidth": 0,
                            "ticks": ""
                          }
                        },
                        "type": "scatterpolar"
                      }
                    ],
                    "scatterpolargl": [
                      {
                        "marker": {
                          "colorbar": {
                            "outlinewidth": 0,
                            "ticks": ""
                          }
                        },
                        "type": "scatterpolargl"
                      }
                    ],
                    "scatterternary": [
                      {
                        "marker": {
                          "colorbar": {
                            "outlinewidth": 0,
                            "ticks": ""
                          }
                        },
                        "type": "scatterternary"
                      }
                    ],
                    "surface": [
                      {
                        "colorbar": {
                          "outlinewidth": 0,
                          "ticks": ""
                        },
                        "colorscale": [
                          [
                            0,
                            "#0d0887"
                          ],
                          [
                            0.1111111111111111,
                            "#46039f"
                          ],
                          [
                            0.2222222222222222,
                            "#7201a8"
                          ],
                          [
                            0.3333333333333333,
                            "#9c179e"
                          ],
                          [
                            0.4444444444444444,
                            "#bd3786"
                          ],
                          [
                            0.5555555555555556,
                            "#d8576b"
                          ],
                          [
                            0.6666666666666666,
                            "#ed7953"
                          ],
                          [
                            0.7777777777777778,
                            "#fb9f3a"
                          ],
                          [
                            0.8888888888888888,
                            "#fdca26"
                          ],
                          [
                            1,
                            "#f0f921"
                          ]
                        ],
                        "type": "surface"
                      }
                    ],
                    "table": [
                      {
                        "cells": {
                          "fill": {
                            "color": "#EBF0F8"
                          },
                          "line": {
                            "color": "white"
                          }
                        },
                        "header": {
                          "fill": {
                            "color": "#C8D4E3"
                          },
                          "line": {
                            "color": "white"
                          }
                        },
                        "type": "table"
                      }
                    ]
                  },
                  "layout": {
                    "annotationdefaults": {
                      "arrowcolor": "#2a3f5f",
                      "arrowhead": 0,
                      "arrowwidth": 1
                    },
                    "autotypenumbers": "strict",
                    "coloraxis": {
                      "colorbar": {
                        "outlinewidth": 0,
                        "ticks": ""
                      }
                    },
                    "colorscale": {
                      "diverging": [
                        [
                          0,
                          "#8e0152"
                        ],
                        [
                          0.1,
                          "#c51b7d"
                        ],
                        [
                          0.2,
                          "#de77ae"
                        ],
                        [
                          0.3,
                          "#f1b6da"
                        ],
                        [
                          0.4,
                          "#fde0ef"
                        ],
                        [
                          0.5,
                          "#f7f7f7"
                        ],
                        [
                          0.6,
                          "#e6f5d0"
                        ],
                        [
                          0.7,
                          "#b8e186"
                        ],
                        [
                          0.8,
                          "#7fbc41"
                        ],
                        [
                          0.9,
                          "#4d9221"
                        ],
                        [
                          1,
                          "#276419"
                        ]
                      ],
                      "sequential": [
                        [
                          0,
                          "#0d0887"
                        ],
                        [
                          0.1111111111111111,
                          "#46039f"
                        ],
                        [
                          0.2222222222222222,
                          "#7201a8"
                        ],
                        [
                          0.3333333333333333,
                          "#9c179e"
                        ],
                        [
                          0.4444444444444444,
                          "#bd3786"
                        ],
                        [
                          0.5555555555555556,
                          "#d8576b"
                        ],
                        [
                          0.6666666666666666,
                          "#ed7953"
                        ],
                        [
                          0.7777777777777778,
                          "#fb9f3a"
                        ],
                        [
                          0.8888888888888888,
                          "#fdca26"
                        ],
                        [
                          1,
                          "#f0f921"
                        ]
                      ],
                      "sequentialminus": [
                        [
                          0,
                          "#0d0887"
                        ],
                        [
                          0.1111111111111111,
                          "#46039f"
                        ],
                        [
                          0.2222222222222222,
                          "#7201a8"
                        ],
                        [
                          0.3333333333333333,
                          "#9c179e"
                        ],
                        [
                          0.4444444444444444,
                          "#bd3786"
                        ],
                        [
                          0.5555555555555556,
                          "#d8576b"
                        ],
                        [
                          0.6666666666666666,
                          "#ed7953"
                        ],
                        [
                          0.7777777777777778,
                          "#fb9f3a"
                        ],
                        [
                          0.8888888888888888,
                          "#fdca26"
                        ],
                        [
                          1,
                          "#f0f921"
                        ]
                      ]
                    },
                    "colorway": [
                      "#636efa",
                      "#EF553B",
                      "#00cc96",
                      "#ab63fa",
                      "#FFA15A",
                      "#19d3f3",
                      "#FF6692",
                      "#B6E880",
                      "#FF97FF",
                      "#FECB52"
                    ],
                    "font": {
                      "color": "#2a3f5f"
                    },
                    "geo": {
                      "bgcolor": "white",
                      "lakecolor": "white",
                      "landcolor": "#E5ECF6",
                      "showlakes": true,
                      "showland": true,
                      "subunitcolor": "white"
                    },
                    "hoverlabel": {
                      "align": "left"
                    },
                    "hovermode": "closest",
                    "mapbox": {
                      "style": "light"
                    },
                    "paper_bgcolor": "white",
                    "plot_bgcolor": "#E5ECF6",
                    "polar": {
                      "angularaxis": {
                        "gridcolor": "white",
                        "linecolor": "white",
                        "ticks": ""
                      },
                      "bgcolor": "#E5ECF6",
                      "radialaxis": {
                        "gridcolor": "white",
                        "linecolor": "white",
                        "ticks": ""
                      }
                    },
                    "scene": {
                      "xaxis": {
                        "backgroundcolor": "#E5ECF6",
                        "gridcolor": "white",
                        "gridwidth": 2,
                        "linecolor": "white",
                        "showbackground": true,
                        "ticks": "",
                        "zerolinecolor": "white"
                      },
                      "yaxis": {
                        "backgroundcolor": "#E5ECF6",
                        "gridcolor": "white",
                        "gridwidth": 2,
                        "linecolor": "white",
                        "showbackground": true,
                        "ticks": "",
                        "zerolinecolor": "white"
                      },
                      "zaxis": {
                        "backgroundcolor": "#E5ECF6",
                        "gridcolor": "white",
                        "gridwidth": 2,
                        "linecolor": "white",
                        "showbackground": true,
                        "ticks": "",
                        "zerolinecolor": "white"
                      }
                    },
                    "shapedefaults": {
                      "line": {
                        "color": "#2a3f5f"
                      }
                    },
                    "ternary": {
                      "aaxis": {
                        "gridcolor": "white",
                        "linecolor": "white",
                        "ticks": ""
                      },
                      "baxis": {
                        "gridcolor": "white",
                        "linecolor": "white",
                        "ticks": ""
                      },
                      "bgcolor": "#E5ECF6",
                      "caxis": {
                        "gridcolor": "white",
                        "linecolor": "white",
                        "ticks": ""
                      }
                    },
                    "title": {
                      "x": 0.05
                    },
                    "xaxis": {
                      "automargin": true,
                      "gridcolor": "white",
                      "linecolor": "white",
                      "ticks": "",
                      "title": {
                        "standoff": 15
                      },
                      "zerolinecolor": "white",
                      "zerolinewidth": 2
                    },
                    "yaxis": {
                      "automargin": true,
                      "gridcolor": "white",
                      "linecolor": "white",
                      "ticks": "",
                      "title": {
                        "standoff": 15
                      },
                      "zerolinecolor": "white",
                      "zerolinewidth": 2
                    }
                  }
                },
                "title": {
                  "text": "Distribuição de Despesas por Categoria",
                  "x": 0.5,
                  "xanchor": "center",
                  "yanchor": "top"
                },
                "width": 550
              }
            }
          },
          "metadata": {},
          "output_type": "display_data"
        }
      ],
      "source": [
        "# Calcular a soma total das receitas\n",
        "total_receitas = df['TOTAL'].astype(float).sum()\n",
        "\n",
        "# Calcular a porcentagem de cada categoria\n",
        "df['PORCENTAGEM'] = df['TOTAL'].astype(float) / total_receitas * 100\n",
        "\n",
        "# Separar categorias com mais de 5% e somar as outras\n",
        "df_maior_5 = df[df['PORCENTAGEM'] > 5]\n",
        "df_menor_5 = df[df['PORCENTAGEM'] <= 5]\n",
        "\n",
        "# Adicionar uma linha para a categoria \"Outros\" se houver categorias menores que 5%\n",
        "if not df_menor_5.empty:\n",
        "    total_outros = df_menor_5['TOTAL'].astype(float).sum()\n",
        "    outros = pd.DataFrame({\n",
        "        'Despesas': ['Outros'],\n",
        "        'TOTAL': [total_outros],\n",
        "        'PORCENTAGEM': [total_outros / total_receitas * 100]\n",
        "    })\n",
        "    df_maior_5 = pd.concat([df_maior_5, outros], ignore_index=True)\n",
        "\n",
        "# Classificar por ordem crescente\n",
        "df_maior_5 = df_maior_5.sort_values(by='TOTAL', ascending=True)\n",
        "# Criar gráfico de setores interativo\n",
        "fig = go.Figure(data=[go.Pie(\n",
        "    labels=df_maior_5['Despesas'],\n",
        "    values=df_maior_5['TOTAL'].astype(float),\n",
        "    textinfo='percent',  # Exibe porcentagem\n",
        "    hovertemplate='%{label}<br>Valor: R$%{value:,.2f}<extra></extra>',  # Personaliza o hover\n",
        "    hole=0.4  # Define o \"buraco\" no meio do gráfico, transformando-o em um donut\n",
        ")])\n",
        "\n",
        "# Atualizar layout do gráfico\n",
        "fig.update_layout(\n",
        "    title={\n",
        "        'text': 'Distribuição de Despesas por Categoria',\n",
        "        'x': 0.5,  # Centraliza o título horizontalmente\n",
        "        'xanchor': 'center',\n",
        "        'yanchor': 'top'\n",
        "    },\n",
        "    showlegend=True,\n",
        "    legend=dict(\n",
        "        x=0.5,  # Centraliza a posição horizontal da legenda\n",
        "        y=-0.01,   # Ajusta a posição vertical da legenda (fora da área do gráfico)\n",
        "        xanchor='center',  # Define o ponto de ancoragem da legenda ao centro\n",
        "        yanchor='top',  # Define o ponto de ancoragem da legenda no topo\n",
        "    ),\n",
        "    margin=dict(l=50, r=50, t=50, b=50),  # Ajusta as margens para manter o gráfico centralizado\n",
        ")\n",
        "\n",
        "# Exibir o gráfico\n",
        "fig.show()"
      ]
    },
    {
      "cell_type": "code",
      "execution_count": 16,
      "metadata": {
        "id": "CTJRqFZuBIri"
      },
      "outputs": [],
      "source": [
        "# Salvar o gráfico Plotly em um arquivo HTML\n",
        "fig.write_html('content/Donut_despesas.html')"
      ]
    }
  ],
  "metadata": {
    "colab": {
      "provenance": []
    },
    "kernelspec": {
      "display_name": "Python 3",
      "name": "python3"
    },
    "language_info": {
      "codemirror_mode": {
        "name": "ipython",
        "version": 3
      },
      "file_extension": ".py",
      "mimetype": "text/x-python",
      "name": "python",
      "nbconvert_exporter": "python",
      "pygments_lexer": "ipython3",
      "version": "3.11.10"
    }
  },
  "nbformat": 4,
  "nbformat_minor": 0
}
